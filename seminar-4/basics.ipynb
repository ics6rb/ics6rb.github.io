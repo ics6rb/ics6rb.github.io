{
 "cells": [
  {
   "cell_type": "markdown",
   "metadata": {},
   "source": [
    "# Регулярные выражения "
   ]
  },
  {
   "cell_type": "markdown",
   "metadata": {},
   "source": [
    "Начнём с примера.\n",
    "\n",
    "Есть задача — валидация e-mail адресов.\n",
    "\n",
    "Эту задачу можно решить разными способами: используя посимвольное сравнение строки с ожидаемым шаблоном, используя разбиение строки на подстроки и дальнейшую работу с ними.\n",
    "\n",
    "Однако эту задачу можно решить проще, используя регулярные выражения:"
   ]
  },
  {
   "cell_type": "code",
   "execution_count": 1,
   "metadata": {},
   "outputs": [
    {
     "name": "stdout",
     "output_type": "stream",
     "text": [
      "my-cool-email@mail.ru — валидный адрес электронной почты\n"
     ]
    },
    {
     "data": {
      "text/plain": [
       "[\"my-cool-email@mail.ru\"]"
      ]
     },
     "execution_count": 1,
     "metadata": {},
     "output_type": "execute_result"
    }
   ],
   "source": [
    "emails = ['my-cool-email@mail.ru', 'плохой)address^mail@brr.dom.']\n",
    "\n",
    "emails.grep /^[\\w0-9._%+-]+@[\\w0-9-]+.+.[\\w]{2,}$/i do |_|\n",
    "  puts \"#{_} — валидный адрес электронной почты\"\n",
    "  _\n",
    "end"
   ]
  },
  {
   "cell_type": "markdown",
   "metadata": {},
   "source": [
    "**Регулярные выражения** — это формальный язык поиска в тексте, сопоставления с образцом и осуществления манипуляций с подстроками в тексте (операции замены), основанный на использовании _метасимволов_. Для поиска используется _шаблон_, состоящий из символов и метасимволов и задающий правило поиска.\n",
    "\n",
    "**Метасимвол** —  это символ или несколько символов, используемых в _шаблоне_ для определения чего-либо или указания какой-то «директивы» алгоритму поиска. Метасимволы трактуются в шаблоне не буквально, а имеют особое значение. Значения метасимволов может быть постоянным, а может меняться в зависимости от того, в каком контексте используется. \n",
    "\n",
    "**Шаблон** — это последовательность _обычных_ символов и _метасимволов_, которые определяют условия и критерии поиска в строке. Шаблон разграничивается с окружающим кодом разделителями.\n",
    "\n",
    "Примеры шаблонов:\n",
    "\n",
    "* `abcd12\\w45` — шаблон, который соответствует любой подстроке, состоящей по порядку: из **одной** подстроки `abcd12`, **одного** любого символа английского алфавита _или_ цифры, а затем двух цифр — 45.\n",
    "\n",
    "* `[e-l]\\s?\\d+` — шаблон, который соответствует любой подстроке, состоящей по порядку: из **одного** символа в диапазоне английских букв от `e` до `l`, **одному** пробельному символу _или_ **нулю** таких символов, и **одному** _или_ **более** десятичных цифр."
   ]
  },
  {
   "cell_type": "markdown",
   "metadata": {},
   "source": [
    "Стоит отметить, что сами регулярные выражения интерпретируются/компилируются/обрабатываются в зависимости от реализации в конкретном языке программирования или библиотеке, реализующей функционал регулярных выражений. В общем случае можно говорить о некоем движке регулярных выражений, который понимает грамматику регулярных выражений. Поэтому дальше, когда будем говорить о движке регулярных выражений, мы будем подразумевать именно реализацию языка регулярок."
   ]
  },
  {
   "cell_type": "markdown",
   "metadata": {},
   "source": [
    "### Как писать эти шаблоны?"
   ]
  },
  {
   "cell_type": "markdown",
   "metadata": {},
   "source": [
    "* Обычно шаблоны разграничиваются слэшами: `/`\n",
    "\n",
    "\n",
    "* В простейшем случае, если мы ищем определённое слово, то можно обойтись регуляркой следующего вида:\n",
    "```\n",
    "/искомоеслово/\n",
    "```\n",
    "\n",
    "\n",
    "* Если мы ищем несколько слов на выбор, то можно использовать метасимвол `|`, называемый «пайп« или просто вертикальная черта:\n",
    "```\n",
    "/слово-раз|слово-два/\n",
    "```\n",
    "Этот метасимвол экваивалентен логической функции ИЛИ. Он позволяет находить _или_ `слово-раз`, _или_ `слово-два`."
   ]
  },
  {
   "cell_type": "markdown",
   "metadata": {},
   "source": [
    "### А что, если нам нужно сделать более общий поиск?"
   ]
  },
  {
   "cell_type": "markdown",
   "metadata": {},
   "source": [
    "Тут уже пойдёт посложнее. Теперь нужно будет ввести три понятия: **класс**, **группа** и **квантификатор**. Но обо всём по порядку."
   ]
  },
  {
   "cell_type": "markdown",
   "metadata": {},
   "source": [
    "**Классы** (или классы символов) — множества символов. Они могут быть объединены каким-то общим свойством. А могут и не быть. Но главное — это множество символов.\n",
    "\n",
    "Классы определяются как список символов между квадратными скобками. Они могут задаваться перечислением символов:\n",
    "* `[abcde]` — символы `a`, `b`, `c`, `d`, `e`.\n",
    "\n",
    "Классы могут включать в себя диапазон символов. Диапазон определяется при помощи метасимвола дефиса `-`, помещаемого между крайними символами диапазона. Положение диапазонов относительно друг друга никак не влияет на результат. Так, следующие классы равнозначны:\n",
    "* `[abcdefwxyz]`. `[wxa-dyz]`. `[a-dw-z]` и `[w-za-d]` — все включают символы из первой группы.\n",
    "\n",
    "Класс можно задать как инверсию. В этом случае класс символов будет состоять из всех символов, _кроме_ тех, что определены в классе.\n",
    "*  `[^a-z]` — все символы, _кроме_ символов латиницы в нижнем регистре.\n",
    "\n",
    "В классы символов могут попадать _абсолютно любые символы_. Хоть #, хоть %, хоть :. Но некоторые символы являются метасимволами (имеют особое значение), поэтому их нужно _экранировать_, то есть заменять сам символ на последовательность из _бэкслеша_ `\\` и самого символа. Экранируются следующие символы:\n",
    "* `-` — дефис, всегда.\n",
    "* `^` — циркумфлекс или «крышечка», только в начале группы.\n",
    "* `.` — точка, всегда.\n",
    "\n",
    "Если не уверены, экранируется ли символ, экранируйте. :)"
   ]
  },
  {
   "cell_type": "markdown",
   "metadata": {},
   "source": [
    "##### Примеры обычных классов"
   ]
  },
  {
   "cell_type": "markdown",
   "metadata": {},
   "source": [
    "* `[a-l]` — класс, задающий диапазон символов латиницы в нижнем регистре, находящихся в английском алфавите между a и l, включая их.\n",
    "\n",
    "* `[%^&*()]` — класс символов, в который входят символы `%`, `^`, `&`, `*`, `(`, `)`.\n",
    "\n",
    "* `[\\-_=]` — класс символов, состоящий из `-`, `_`, `=`."
   ]
  },
  {
   "cell_type": "markdown",
   "metadata": {},
   "source": [
    "В языке регулярных выражений бывают _встроенные классы_, которые предопределены заранее и чей синтаксис поддерживается движком регулярок. Некоторые встроенные классы имеют себе в пару инверсные/обратные классы. Чаще всего на практике используют именно встроенные классы символов.\n",
    "\n",
    "* `\\w` и `\\W`\n",
    "  * `\\w` — любой символ английского алфавите в любом регистре, десятичные цифры и символ подчёркивания. Аналог `[a-zA-Z0-9_]`.\n",
    "  * `\\W` — любой символ, _кроме_ тех, что перечислены выше. Аналог `[^a-zA-Z0-9_]`.\n",
    "\n",
    "* `.` — любой символ, _кроме_ перевода новой строки `\\n`. Да, это метасимвол. :)\n",
    "\n",
    "* `\\d`, `\\D`, `\\h` и `\\H`\n",
    "  * `\\d` — любая десятичная цифра. Аналог `[0-9]`.\n",
    "  * `\\D` — любой символ, _кроме_ десятичных цифр. Аналог `[^0-9]`.\n",
    "  * `\\h` — любая цифра шестнадцатиричной системы счисления. Аналог `[0-9a-fA-F]`.\n",
    "  * `\\H` — любой символ, _кроме_ цифр шестнадцатиричной системы счисления. Аналог `[^0-9a-fA-F]`.\n",
    "  \n",
    "* `\\s` и `\\S`\n",
    "  * `\\s` — любой пробельный непечатаемый символ. Аналог `[ \\t\\r\\n\\f\\v]`.\n",
    "  * `\\S` — любой символ, кроме `[ \\t\\r\\n\\f\\v]`. Аналог `[^ \\t\\r\\n\\f\\v]`.\n",
    "\n",
    "Есть гораздо больше классов (в т.ч. POSIX-совместимые), о них можно почитать в [дополнительных материалах](extended.ipynb)."
   ]
  },
  {
   "cell_type": "markdown",
   "metadata": {},
   "source": [
    "### А можно как-то определять начало и конец строки?"
   ]
  },
  {
   "cell_type": "markdown",
   "metadata": {},
   "source": [
    "Действительно, это вполне нормальный вопрос, который может возникнуть. До этого все наши изыскания были связаны лишь с подстроками в целой строке. Но что, если нам нужно сопоставлять с образцом целую строку? Для этого существуют два метасимвола, `^` и `$`.\n",
    "\n",
    "`^` — «крышечка» или циркумлфекс — **метасимвол начала строки**.\n",
    "\n",
    "`$` — знак доллара — **метасимвол конца строки**."
   ]
  },
  {
   "cell_type": "markdown",
   "metadata": {},
   "source": [
    "### Отлично, мы можем сопоставлять с шаблонами, а можно ли что-то помимо этого?"
   ]
  },
  {
   "cell_type": "markdown",
   "metadata": {},
   "source": [
    "Да, конечно, и для этого нам понадобится узнать, что такое группы, а также какие они бывают."
   ]
  },
  {
   "cell_type": "markdown",
   "metadata": {},
   "source": [
    "**Группы** — это последовательности символов (шаблоны) в круглых скобках. Группы используются для определения области действия шаблона, определения приоритета шаблонов и выделения подшаблонов. Таким образом можно выделять подшаблоны в шаблонах.\n",
    "\n",
    "Синтаксис групп:\n",
    "```\n",
    "(%your_pattern%)\n",
    "```\n",
    "Где `%your_pattern%` — любой шаблон."
   ]
  },
  {
   "cell_type": "markdown",
   "metadata": {},
   "source": [
    "##### Примеры групп"
   ]
  },
  {
   "cell_type": "markdown",
   "metadata": {},
   "source": [
    "* `hello(\\w\\d\\w)world` — при помощи группировки мы выделили подшаблон, состоящий из одного цифробуквенного символа, одной десятичной цифры и ещё одного цифробуквенного символа.\n",
    "\n",
    "* `hello, ([Ww]orld|our favourite tutor)` — при помощи группировки мы выделили подшаблон, в который вынесли неповторяющиеся символы двух (или трёх) разных шаблонов (эквивалентно `hellow, [Ww]orld|hello, our favourite tutor`)."
   ]
  },
  {
   "cell_type": "markdown",
   "metadata": {},
   "source": [
    "Выше были примеры **неименованных групп**. Группы обычно используются вне самих регулярных выражений и при операциях манипулирования строками. В таких случаях удобно иметь **именованные группы** — группы, имеющие определённые имена. В отличие от неименованных групп, с их помощью которых можно ссылаться на них в самих регулярках и за их пределами, используя имена.\n",
    "\n",
    "Синтаксис именованых групп:\n",
    "```\n",
    "(?<%group_name%>%your_pattern%)\n",
    "```\n",
    "Где `%group_name%` — имя группы, а `%your_pattern%` — любой шаблон."
   ]
  },
  {
   "cell_type": "markdown",
   "metadata": {},
   "source": [
    "Помимо этого группы бывают **захватывающие** (так называемые **захваты**) и **незахватывающие**. Всё, что выше мы определяли, относилось к захватывающим группам. На них можно ссылаться. На незахватывающие группы ссылаться нельзя.\n",
    "  \n",
    "Синтаксис незахватывающих групп:\n",
    "\n",
    "* `(?:non-capturing)(group)`"
   ]
  },
  {
   "cell_type": "markdown",
   "metadata": {},
   "source": [
    "О том, как ссылаться на группы в регулярках и в обычном коде, рассказано в [дополнительных материалах](extended.ipynb)."
   ]
  },
  {
   "cell_type": "markdown",
   "metadata": {},
   "source": [
    "### Это всё замечательно, но нам всегда нужно повторять эти шаблоны? Или как-то можно определить их количество?"
   ]
  },
  {
   "cell_type": "markdown",
   "metadata": {},
   "source": [
    "Можно, и для этого существуют квантификаторы."
   ]
  },
  {
   "cell_type": "markdown",
   "metadata": {},
   "source": [
    "**Квантификаторы** — это метасимволы, указывающие, сколько раз будет повторяться у нас _символ из класса символов_, _символ_ или _группа_. Существуют следующие квантификаторы:\n",
    "\n",
    "* `a?` — повтор символа `a` _ноль_ раз или _один_ раз.\n",
    "\n",
    "* `a*` — повтор символа `a` _ноль_ или _более_ раз.\n",
    "\n",
    "* `a+` — повтор символа `a` _один_ или _более_ раз.\n",
    "\n",
    "* `a{m}` — повтор символа `a` _ровно m_ раз.\n",
    "\n",
    "* `a{n,}` — повтор символа `a` _n_ или _более_ раз.\n",
    "\n",
    "* `a{m,n}` — повтор символа `a` в диапазоне между _m_ и _n_ раз.\n",
    "\n",
    "Квантификаторы могут быть **жадные** и **нежадные**. Подробнее об этом — в [дополнительных материалах](extended.ipynb)."
   ]
  },
  {
   "cell_type": "markdown",
   "metadata": {},
   "source": [
    "### Это всё круто, но я ничего не понял, поэтому могу допускать ошибки и вообще писать неправильно. Где-то можно попрактиковаться с этими вашими регулярными выражениями? Есть ли шпаргалка по этому всему?"
   ]
  },
  {
   "cell_type": "markdown",
   "metadata": {},
   "source": [
    "Есть хороший веб-ресурс — [Rubular](http://rubular.com/). Там можно протестировать свои регулярки и посмотреть на маленькую шпаргалку по их составлению."
   ]
  },
  {
   "cell_type": "markdown",
   "metadata": {},
   "source": [
    "## Регулярные выражения в Ruby"
   ]
  },
  {
   "cell_type": "markdown",
   "metadata": {},
   "source": [
    "### Матчи"
   ]
  },
  {
   "cell_type": "markdown",
   "metadata": {},
   "source": [
    "**Матчи** — это совпадение при сопоставлении с образцом. Для проверки матча используется метод `match`. В качестве аргумента этот метод принимает строку, в которой и нужно искать матчи. Если нет матчей, вернется `nil`. Если матчи существуют, вернётся объект типа `MatchData`, в который попадают все матчи."
   ]
  },
  {
   "cell_type": "code",
   "execution_count": 3,
   "metadata": {},
   "outputs": [
    {
     "name": "stdout",
     "output_type": "stream",
     "text": [
      "#<MatchData \"correct\">\n",
      "nil\n"
     ]
    }
   ],
   "source": [
    "rxp = /^\\w+$/\n",
    "\n",
    "p rxp.match 'correct'\n",
    "p rxp.match 'w rong'"
   ]
  },
  {
   "cell_type": "markdown",
   "metadata": {},
   "source": [
    "Если писать `match` не хочется, можно использовать оператор `=~`. Оператор `=~`, в отличие от метода `match`, вернёт **индекс первого матча**."
   ]
  },
  {
   "cell_type": "code",
   "execution_count": 4,
   "metadata": {},
   "outputs": [
    {
     "name": "stdout",
     "output_type": "stream",
     "text": [
      "0\n",
      "nil\n"
     ]
    }
   ],
   "source": [
    "p rxp =~ 'correct'\n",
    "p rxp =~ 'w rong'"
   ]
  },
  {
   "cell_type": "markdown",
   "metadata": {},
   "source": [
    "Различия между этими двумя способами видно на примере ниже."
   ]
  },
  {
   "cell_type": "markdown",
   "metadata": {},
   "source": [
    "### Именованные группы и немного магии"
   ]
  },
  {
   "cell_type": "markdown",
   "metadata": {},
   "source": [
    "Мы создаем регулярное выражение, в котором есть две именованные группы — `lhs` и `rhs` (left-hand side и right-hand side — левое и правое слово).\n",
    "\n",
    "Сматчим строку, содержащую два слова. Все будет хорошо. А что если мы захотим обратиться к именованной группе (а иначе зачем мы ее именовали?)."
   ]
  },
  {
   "cell_type": "code",
   "execution_count": 6,
   "metadata": {},
   "outputs": [
    {
     "name": "stdout",
     "output_type": "stream",
     "text": [
      "0\n"
     ]
    },
    {
     "ename": "NameError",
     "evalue": "undefined local variable or method `lhs' for main:Object",
     "output_type": "error",
     "traceback": [
      "\u001b[31mNameError\u001b[0m: undefined local variable or method `lhs' for main:Object",
      "\u001b[37m(pry):26:in `<main>'\u001b[0m",
      "\u001b[37m/Users/jpyatachkov/.anyenv/envs/rbenv/versions/2.6.3/lib/ruby/gems/2.6.0/gems/pry-0.12.2/lib/pry/pry_instance.rb:387:in `eval'\u001b[0m",
      "\u001b[37m/Users/jpyatachkov/.anyenv/envs/rbenv/versions/2.6.3/lib/ruby/gems/2.6.0/gems/pry-0.12.2/lib/pry/pry_instance.rb:387:in `evaluate_ruby'\u001b[0m",
      "\u001b[37m/Users/jpyatachkov/.anyenv/envs/rbenv/versions/2.6.3/lib/ruby/gems/2.6.0/gems/pry-0.12.2/lib/pry/pry_instance.rb:355:in `handle_line'\u001b[0m",
      "\u001b[37m/Users/jpyatachkov/.anyenv/envs/rbenv/versions/2.6.3/lib/ruby/gems/2.6.0/gems/pry-0.12.2/lib/pry/pry_instance.rb:274:in `block (2 levels) in eval'\u001b[0m",
      "\u001b[37m/Users/jpyatachkov/.anyenv/envs/rbenv/versions/2.6.3/lib/ruby/gems/2.6.0/gems/pry-0.12.2/lib/pry/pry_instance.rb:273:in `catch'\u001b[0m",
      "\u001b[37m/Users/jpyatachkov/.anyenv/envs/rbenv/versions/2.6.3/lib/ruby/gems/2.6.0/gems/pry-0.12.2/lib/pry/pry_instance.rb:273:in `block in eval'\u001b[0m",
      "\u001b[37m/Users/jpyatachkov/.anyenv/envs/rbenv/versions/2.6.3/lib/ruby/gems/2.6.0/gems/pry-0.12.2/lib/pry/pry_instance.rb:272:in `catch'\u001b[0m",
      "\u001b[37m/Users/jpyatachkov/.anyenv/envs/rbenv/versions/2.6.3/lib/ruby/gems/2.6.0/gems/pry-0.12.2/lib/pry/pry_instance.rb:272:in `eval'\u001b[0m",
      "\u001b[37m/Users/jpyatachkov/.anyenv/envs/rbenv/versions/2.6.3/lib/ruby/gems/2.6.0/gems/iruby-0.3/lib/iruby/backend.rb:66:in `eval'\u001b[0m",
      "\u001b[37m/Users/jpyatachkov/.anyenv/envs/rbenv/versions/2.6.3/lib/ruby/gems/2.6.0/gems/iruby-0.3/lib/iruby/backend.rb:12:in `eval'\u001b[0m",
      "\u001b[37m/Users/jpyatachkov/.anyenv/envs/rbenv/versions/2.6.3/lib/ruby/gems/2.6.0/gems/iruby-0.3/lib/iruby/kernel.rb:87:in `execute_request'\u001b[0m",
      "\u001b[37m/Users/jpyatachkov/.anyenv/envs/rbenv/versions/2.6.3/lib/ruby/gems/2.6.0/gems/iruby-0.3/lib/iruby/kernel.rb:47:in `dispatch'\u001b[0m",
      "\u001b[37m/Users/jpyatachkov/.anyenv/envs/rbenv/versions/2.6.3/lib/ruby/gems/2.6.0/gems/iruby-0.3/lib/iruby/kernel.rb:37:in `run'\u001b[0m",
      "\u001b[37m/Users/jpyatachkov/.anyenv/envs/rbenv/versions/2.6.3/lib/ruby/gems/2.6.0/gems/iruby-0.3/lib/iruby/command.rb:70:in `run_kernel'\u001b[0m",
      "\u001b[37m/Users/jpyatachkov/.anyenv/envs/rbenv/versions/2.6.3/lib/ruby/gems/2.6.0/gems/iruby-0.3/lib/iruby/command.rb:34:in `run'\u001b[0m",
      "\u001b[37m/Users/jpyatachkov/.anyenv/envs/rbenv/versions/2.6.3/lib/ruby/gems/2.6.0/gems/iruby-0.3/bin/iruby:5:in `<top (required)>'\u001b[0m",
      "\u001b[37m/Users/jpyatachkov/.anyenv/envs/rbenv/versions/2.6.3/bin/iruby:23:in `load'\u001b[0m",
      "\u001b[37m/Users/jpyatachkov/.anyenv/envs/rbenv/versions/2.6.3/bin/iruby:23:in `<main>'\u001b[0m"
     ]
    }
   ],
   "source": [
    "rexp = /(?<lhs>\\w+)(?<rhs>\\w+)/\n",
    "\n",
    "p rexp =~ 'word another'\n",
    "\n",
    "p lhs\n",
    "p rhs"
   ]
  },
  {
   "cell_type": "markdown",
   "metadata": {},
   "source": [
    "Ничего не работает и это логично, ведь lhs и rhs никак нами не объявлены.\n",
    "\n",
    "**НО**"
   ]
  },
  {
   "cell_type": "code",
   "execution_count": 7,
   "metadata": {},
   "outputs": [
    {
     "name": "stdout",
     "output_type": "stream",
     "text": [
      "0\n",
      "\"word\"\n",
      "\"another\"\n"
     ]
    },
    {
     "data": {
      "text/plain": [
       "\"another\""
      ]
     },
     "execution_count": 7,
     "metadata": {},
     "output_type": "execute_result"
    }
   ],
   "source": [
    "p /(?<lhs>\\w+) (?<rhs>\\w+)/ =~ 'word another'\n",
    "\n",
    "p lhs\n",
    "p rhs"
   ]
  },
  {
   "cell_type": "markdown",
   "metadata": {},
   "source": [
    "Если не создавать специального объекта с регуляркой, то такая неявная магия будет работать, потому что интерпретатор объявит переменные lhs и rhs за нас."
   ]
  },
  {
   "cell_type": "code",
   "execution_count": 8,
   "metadata": {},
   "outputs": [
    {
     "name": "stdout",
     "output_type": "stream",
     "text": [
      "#<MatchData \"word\">\n",
      "0\n"
     ]
    },
    {
     "data": {
      "text/plain": [
       "0"
      ]
     },
     "execution_count": 8,
     "metadata": {},
     "output_type": "execute_result"
    }
   ],
   "source": [
    "word_rxp = /\\w+/\n",
    "\n",
    "string = 'word another'\n",
    "\n",
    "method_match = word_rxp.match string\n",
    "operator_match = word_rxp =~ string\n",
    "\n",
    "p method_match\n",
    "p operator_match"
   ]
  },
  {
   "cell_type": "markdown",
   "metadata": {},
   "source": [
    "Нужно ли этим пользоваться? **НЕТ**.\n",
    "\n",
    "Как обращаться к именованным группам в таком случае? Скорее всего, **вам это не понадобится вообще**, но если очень хочется, то можно используя встроенную магическую переменную `$~`."
   ]
  },
  {
   "cell_type": "code",
   "execution_count": 9,
   "metadata": {},
   "outputs": [
    {
     "name": "stdout",
     "output_type": "stream",
     "text": [
      "\"word\"\n",
      "\"another\"\n"
     ]
    },
    {
     "data": {
      "text/plain": [
       "\"another\""
      ]
     },
     "execution_count": 9,
     "metadata": {},
     "output_type": "execute_result"
    }
   ],
   "source": [
    "/(?<lhs>\\w+) (?<rhs>\\w+)/ =~ 'word another'\n",
    "\n",
    "p $~[:lhs]\n",
    "p $~[:rhs]"
   ]
  },
  {
   "cell_type": "markdown",
   "metadata": {},
   "source": [
    "### Регулярные выражения в строке"
   ]
  },
  {
   "cell_type": "markdown",
   "metadata": {},
   "source": [
    "Regexp используется как правило для сравнения строки с шаблоном. Если же мы хотим найти какие-то шаблоны внутри строки и что-то с ними сделать, например, посчитать или на что-то заменить, гораздо удобнее было бы вызывать методы строки. В Ruby есть такая возможность."
   ]
  },
  {
   "cell_type": "markdown",
   "metadata": {},
   "source": [
    "#### String#scan"
   ]
  },
  {
   "cell_type": "markdown",
   "metadata": {},
   "source": [
    "Возвращает массив матчей. Нужен, как правило, для того, чтобы посчитать количество матчей или вообще понять, есть ли таковые в строке."
   ]
  },
  {
   "cell_type": "code",
   "execution_count": 31,
   "metadata": {},
   "outputs": [
    {
     "data": {
      "text/plain": [
       "[\"aaa\", \"bbb\"]"
      ]
     },
     "execution_count": 31,
     "metadata": {},
     "output_type": "execute_result"
    }
   ],
   "source": [
    "'aaa 111 bbb'.scan(/[A-Za-z]+/)"
   ]
  },
  {
   "cell_type": "code",
   "execution_count": 28,
   "metadata": {},
   "outputs": [
    {
     "data": {
      "text/plain": [
       "[]"
      ]
     },
     "execution_count": 28,
     "metadata": {},
     "output_type": "execute_result"
    }
   ],
   "source": [
    "'aaa bbb'.scan(/\\d+/)"
   ]
  },
  {
   "cell_type": "markdown",
   "metadata": {},
   "source": [
    "#### String#sub"
   ]
  },
  {
   "cell_type": "markdown",
   "metadata": {},
   "source": [
    "Заменяет **первое вхождение** регулярного выражения на строку."
   ]
  },
  {
   "cell_type": "code",
   "execution_count": 29,
   "metadata": {},
   "outputs": [
    {
     "data": {
      "text/plain": [
       "\"ЗАМЕНА 111 bbb\""
      ]
     },
     "execution_count": 29,
     "metadata": {},
     "output_type": "execute_result"
    }
   ],
   "source": [
    "'aaa 111 bbb'.sub /[A-Za-z]+/, 'ЗАМЕНА'"
   ]
  },
  {
   "cell_type": "markdown",
   "metadata": {},
   "source": [
    "#### String#gsub"
   ]
  },
  {
   "cell_type": "markdown",
   "metadata": {},
   "source": [
    "Заменяет **все вхождения** регулярного выражения на строку."
   ]
  },
  {
   "cell_type": "code",
   "execution_count": 32,
   "metadata": {},
   "outputs": [
    {
     "data": {
      "text/plain": [
       "\"ЗАМЕНА 111 ЗАМЕНА\""
      ]
     },
     "execution_count": 32,
     "metadata": {},
     "output_type": "execute_result"
    }
   ],
   "source": [
    "'aaa 111 bbb'.gsub /[A-Za-z]+/, 'ЗАМЕНА'"
   ]
  },
  {
   "cell_type": "markdown",
   "metadata": {},
   "source": [
    "Методы `sub` и `gsub` могут также принимать в качестве второго агрумента **словарь**"
   ]
  },
  {
   "cell_type": "code",
   "execution_count": 33,
   "metadata": {},
   "outputs": [
    {
     "data": {
      "text/plain": [
       "\"1488\""
      ]
     },
     "execution_count": 33,
     "metadata": {},
     "output_type": "execute_result"
    }
   ],
   "source": [
    "'ae'.gsub /[ae]/, 'a' => '14', 'e' => '88' "
   ]
  },
  {
   "cell_type": "markdown",
   "metadata": {},
   "source": [
    "И, самое главное, они могут принимать на вход **блок кода**.\n",
    "\n",
    "Этот блок кода принимает на вход построку - матч. Причем в этом блоке можно также вызывать `sub`, `gsub` или другой метод для строки."
   ]
  },
  {
   "cell_type": "code",
   "execution_count": null,
   "metadata": {},
   "outputs": [],
   "source": []
  }
 ],
 "metadata": {
  "kernelspec": {
   "display_name": "Ruby 2.6.3",
   "language": "ruby",
   "name": "ruby"
  },
  "language_info": {
   "file_extension": ".rb",
   "mimetype": "application/x-ruby",
   "name": "ruby",
   "version": "2.6.3"
  }
 },
 "nbformat": 4,
 "nbformat_minor": 2
}
