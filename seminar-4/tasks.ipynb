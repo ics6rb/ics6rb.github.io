{
 "cells": [
  {
   "cell_type": "markdown",
   "metadata": {},
   "source": [
    "# Решаем задачи "
   ]
  },
  {
   "cell_type": "markdown",
   "metadata": {},
   "source": [
    "### 1"
   ]
  },
  {
   "cell_type": "markdown",
   "metadata": {},
   "source": [
    "Заменить окончание “ing” на окончание “ed” во всех словах строки, оканчивающихся на “ing”."
   ]
  },
  {
   "cell_type": "code",
   "execution_count": 1,
   "metadata": {},
   "outputs": [
    {
     "data": {
      "text/plain": [
       "\"aaa doing cooking walking walkin' singing\""
      ]
     },
     "execution_count": 1,
     "metadata": {},
     "output_type": "execute_result"
    }
   ],
   "source": [
    "string = \"aaa doing cooking walking walkin' singing\""
   ]
  },
  {
   "cell_type": "code",
   "execution_count": null,
   "metadata": {},
   "outputs": [],
   "source": []
  },
  {
   "cell_type": "markdown",
   "metadata": {},
   "source": [
    "### 2"
   ]
  },
  {
   "cell_type": "markdown",
   "metadata": {},
   "source": [
    "Во всех словах строки, начинающихся на букву «н», заменить эту букву буквой «Т», а во всех словах, оканчивающихся на букву «о», заменить эту букву буквой «Е»."
   ]
  },
  {
   "cell_type": "code",
   "execution_count": 4,
   "metadata": {},
   "outputs": [
    {
     "data": {
      "text/plain": [
       "\"нос, снять, колесо, журавль, околоток, сколоченный, деревянный, неподъемный, ничто\""
      ]
     },
     "execution_count": 4,
     "metadata": {},
     "output_type": "execute_result"
    }
   ],
   "source": [
    "string = 'нос, снять, колесо, журавль, околоток, сколоченный, деревянный, неподъемный, ничто'"
   ]
  },
  {
   "cell_type": "code",
   "execution_count": null,
   "metadata": {},
   "outputs": [],
   "source": []
  },
  {
   "cell_type": "markdown",
   "metadata": {},
   "source": [
    "### 3"
   ]
  },
  {
   "cell_type": "markdown",
   "metadata": {},
   "source": [
    "Дана последовательность строк. Строки состоят из слов, разделенных пробелом. Каждая строка содержит существительные единственного числа, оканчивающиеся на «онок» и «енок». Написать программу,обеспечивающую ввод строк и их корректировку. Корректировка заключается в преобразовании существительных в единственном числе, во множественное. Для преобразования считать, что множественное число этих существительных образуется на другой основе по образцу: Цыпленок – цыплята, мышонок – мышата. При этом, «а» перед «т» пишется, если корень оканчивается на шипящую, а в остальных случаях перед «т» будет буква «я».Вывести на печать исходную и скорректированную последовательности строк.\n"
   ]
  },
  {
   "cell_type": "code",
   "execution_count": 1,
   "metadata": {},
   "outputs": [
    {
     "data": {
      "text/plain": [
       "\"цыпленок мышонок слоненок ягненок котенок\""
      ]
     },
     "execution_count": 1,
     "metadata": {},
     "output_type": "execute_result"
    }
   ],
   "source": [
    "string = 'цыпленок мышонок слоненок ягненок котенок'"
   ]
  },
  {
   "cell_type": "code",
   "execution_count": null,
   "metadata": {},
   "outputs": [],
   "source": []
  },
  {
   "cell_type": "markdown",
   "metadata": {},
   "source": [
    "### 4"
   ]
  },
  {
   "cell_type": "markdown",
   "metadata": {},
   "source": [
    "Написать программу, определяющую в каждой строке количество таких групп букв, которые начинаются и кончаются одной и той же буквой. Вывести на печать исходную последовательность строк и строки, содержащие искомые группы букв."
   ]
  },
  {
   "cell_type": "code",
   "execution_count": null,
   "metadata": {},
   "outputs": [],
   "source": [
    "def counter string\n",
    "  string.scan(/\\w+/).select { |word| word.start_with? word[-1] }.length\n",
    "end"
   ]
  },
  {
   "cell_type": "markdown",
   "metadata": {},
   "source": [
    "### 5"
   ]
  },
  {
   "cell_type": "markdown",
   "metadata": {},
   "source": [
    "Написать программу, определяющую в каждой строке количество групп букв. Если таких групп больше 2-х, то каждый знак «+», встречающийся между группами букв заменяется на цифру 1, знак «-» на цифру 2, а знак «*» на цифру 3. Иначе оставить текст без изменения. Вывести на печать исходную и скорректированную последовательности строк."
   ]
  },
  {
   "cell_type": "code",
   "execution_count": 2,
   "metadata": {},
   "outputs": [
    {
     "data": {
      "text/plain": [
       "\"aaa +-*dd\""
      ]
     },
     "execution_count": 2,
     "metadata": {},
     "output_type": "execute_result"
    }
   ],
   "source": [
    "string1 = 'aaa ddf +-*ddg +-*'\n",
    "string2 = 'aaa +-*dd'"
   ]
  },
  {
   "cell_type": "code",
   "execution_count": 3,
   "metadata": {},
   "outputs": [
    {
     "data": {
      "text/plain": [
       ":replace"
      ]
     },
     "execution_count": 3,
     "metadata": {},
     "output_type": "execute_result"
    }
   ],
   "source": [
    "def replace string\n",
    "  if string.scan(/\\w+/).length > 2\n",
    "    string.gsub(/(\\w+.+?)([\\-+*]+)(.+?\\w+)/) do\n",
    "      w1, w3 = $1, $3\n",
    "      w1 + $2.gsub(/[\\+\\-\\*]/, '+' => '1', '-' => '2', '*' => '3') + w3\n",
    "    end\n",
    "  else\n",
    "    string\n",
    "  end\n",
    "end"
   ]
  },
  {
   "cell_type": "code",
   "execution_count": 4,
   "metadata": {},
   "outputs": [
    {
     "name": "stdout",
     "output_type": "stream",
     "text": [
      "\"Исходная строка:      aaa ddf +-*ddg +-*\"\n",
      "\"Скорректированная:    aaa ddf 123ddg +-*\"\n",
      "\"Исходная строка:      aaa +-*dd\"\n",
      "\"Скорректированная:    aaa +-*dd\"\n"
     ]
    },
    {
     "data": {
      "text/plain": [
       "[\"aaa ddf +-*ddg +-*\", \"aaa +-*dd\"]"
      ]
     },
     "execution_count": 4,
     "metadata": {},
     "output_type": "execute_result"
    }
   ],
   "source": [
    "[string1, string2].each do |x|\n",
    "  p \"Исходная строка:      #{x}\"\n",
    "  p \"Скорректированная:    \" + replace(x)\n",
    "end"
   ]
  },
  {
   "cell_type": "code",
   "execution_count": null,
   "metadata": {},
   "outputs": [],
   "source": []
  }
 ],
 "metadata": {
  "kernelspec": {
   "display_name": "Ruby 2.6.3",
   "language": "ruby",
   "name": "ruby"
  },
  "language_info": {
   "file_extension": ".rb",
   "mimetype": "application/x-ruby",
   "name": "ruby",
   "version": "2.6.3"
  }
 },
 "nbformat": 4,
 "nbformat_minor": 2
}
