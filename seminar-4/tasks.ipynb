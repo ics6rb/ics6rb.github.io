{
 "cells": [
  {
   "cell_type": "markdown",
   "metadata": {},
   "source": [
    "# Решаем задачи "
   ]
  },
  {
   "cell_type": "markdown",
   "metadata": {},
   "source": [
    "### 1"
   ]
  },
  {
   "cell_type": "code",
   "execution_count": 82,
   "metadata": {},
   "outputs": [
    {
     "data": {
      "text/plain": [
       "[\"4\", \"1\", \"2\", \"3\"]"
      ]
     },
     "execution_count": 82,
     "metadata": {},
     "output_type": "execute_result"
    }
   ],
   "source": [
    "'kdnfh d4fh123'.scan /\\d/"
   ]
  },
  {
   "cell_type": "code",
   "execution_count": 74,
   "metadata": {},
   "outputs": [
    {
     "data": {
      "text/plain": [
       "2"
      ]
     },
     "execution_count": 74,
     "metadata": {},
     "output_type": "execute_result"
    }
   ],
   "source": []
  },
  {
   "cell_type": "code",
   "execution_count": 84,
   "metadata": {},
   "outputs": [
    {
     "data": {
      "text/plain": [
       "\"3 = 3\""
      ]
     },
     "execution_count": 84,
     "metadata": {},
     "output_type": "execute_result"
    }
   ],
   "source": [
    "\"#{1 + 2} = 3\""
   ]
  },
  {
   "cell_type": "code",
   "execution_count": 83,
   "metadata": {},
   "outputs": [
    {
     "data": {
      "text/plain": [
       "\"aaa Doed cooked walked walkin' sing singed\""
      ]
     },
     "execution_count": 83,
     "metadata": {},
     "output_type": "execute_result"
    }
   ],
   "source": [
    "\"aaa Doing cooking walking walkin' sing singing\"\n",
    "  .gsub(/(\\w{2})ing\\b/) do |m|\n",
    "    \"#{$1}ed\"\n",
    "  end"
   ]
  },
  {
   "cell_type": "code",
   "execution_count": null,
   "metadata": {},
   "outputs": [],
   "source": []
  },
  {
   "cell_type": "code",
   "execution_count": 40,
   "metadata": {},
   "outputs": [
    {
     "data": {
      "text/plain": [
       "\"aaa Doed cooked walked walked sing singed\""
      ]
     },
     "execution_count": 40,
     "metadata": {},
     "output_type": "execute_result"
    }
   ],
   "source": [
    "\"aaa Doing cooking walking walkin' sing singing\"\n",
    "  .split\n",
    "  .map do |m|\n",
    "    if m.size > 4 && m.end_with?('ing') || m.end_with?(\"in'\")\n",
    "      \"#{m[0, m.size - 3]}ed\"\n",
    "    else\n",
    "      m\n",
    "    end\n",
    "  end\n",
    "  .join(' ')"
   ]
  },
  {
   "cell_type": "code",
   "execution_count": 43,
   "metadata": {},
   "outputs": [
    {
     "data": {
      "text/plain": [
       "\"aaa Doed cooked walked walked sing singed\""
      ]
     },
     "execution_count": 43,
     "metadata": {},
     "output_type": "execute_result"
    }
   ],
   "source": [
    "class String\n",
    "  \n",
    "  def suitable?\n",
    "    self.size > 4 && self.end_with?('ing') || self.end_with?(\"in'\")\n",
    "  end\n",
    "  \n",
    "  def do_stuff\n",
    "    self\n",
    "    .split\n",
    "    .map do |m|\n",
    "      if m.suitable?\n",
    "        \"#{m[0, m.size - 3]}ed\"\n",
    "      else\n",
    "        m\n",
    "      end\n",
    "    end\n",
    "    .join(' ')\n",
    "  end\n",
    "end\n",
    "\n",
    "\"aaa Doing cooking walking walkin' sing singing\".do_stuff"
   ]
  },
  {
   "cell_type": "code",
   "execution_count": 50,
   "metadata": {},
   "outputs": [
    {
     "name": "stdout",
     "output_type": "stream",
     "text": [
      "g\n",
      "AAAAA\n"
     ]
    }
   ],
   "source": [
    "class C\n",
    "  def self.foo\n",
    "    puts 'Static'\n",
    "  end\n",
    "  \n",
    "  class << self\n",
    "    def foo1\n",
    "      puts 'Static1'\n",
    "    end\n",
    "  end\n",
    "  \n",
    "  def method_missing(m, *args, &block)\n",
    "    puts m\n",
    "#     puts args\n",
    "#     puts kwargs\n",
    "    puts 'AAAAA'\n",
    "  end\n",
    "end\n",
    "\n",
    "c = C.new\n",
    "c.g"
   ]
  },
  {
   "cell_type": "code",
   "execution_count": 67,
   "metadata": {},
   "outputs": [
    {
     "data": {
      "text/plain": [
       "[\"1\", \"2\", \"3\"]"
      ]
     },
     "execution_count": 67,
     "metadata": {},
     "output_type": "execute_result"
    }
   ],
   "source": [
    "[1, 2, 3].map { |x| x.send(:to_s) }\n",
    "[1, 2, 3].map(&:to_s)\n",
    "\n",
    "[1, 2, 3].send(:map) { |x| x.to_s }"
   ]
  },
  {
   "cell_type": "code",
   "execution_count": 62,
   "metadata": {},
   "outputs": [
    {
     "name": "stdout",
     "output_type": "stream",
     "text": [
      "\"23\"\n"
     ]
    },
    {
     "data": {
      "text/plain": [
       "\"23\""
      ]
     },
     "execution_count": 62,
     "metadata": {},
     "output_type": "execute_result"
    }
   ],
   "source": [
    "def foo\n",
    "  yield\n",
    "end\n",
    "\n",
    "def dispatch &block\n",
    "  foo &block\n",
    "end\n",
    "\n",
    "dispatch {p '23'}"
   ]
  },
  {
   "cell_type": "markdown",
   "metadata": {},
   "source": [
    "Заменить окончание “ing” на окончание “ed” во всех словах строки, оканчивающихся на “ing”."
   ]
  },
  {
   "cell_type": "code",
   "execution_count": 90,
   "metadata": {},
   "outputs": [
    {
     "data": {
      "text/plain": [
       "\"aaa Doed cooked walked walkin' sing singed\""
      ]
     },
     "execution_count": 90,
     "metadata": {},
     "output_type": "execute_result"
    }
   ],
   "source": [
    "\"aaa Doing cooking walking walkin' sing singing\"\n",
    "  .gsub(/[a-z]{2}in[g']\\b/i) do |m|\n",
    "    m.gsub(/in[g']\\b/, 'ed')\n",
    "  end"
   ]
  },
  {
   "cell_type": "code",
   "execution_count": 95,
   "metadata": {},
   "outputs": [
    {
     "data": {
      "text/plain": [
       "\"aaa Doed walkin cookin| walked walkin'f sing singed walked\""
      ]
     },
     "execution_count": 95,
     "metadata": {},
     "output_type": "execute_result"
    }
   ],
   "source": [
    "\"aaa Doing walkin cookin| walking walkin'f sing singing walkin'\"\n",
    "  .gsub(/[a-z]{2}in[g'].?/i) do |m|\n",
    "    if m.size == 5 || /\\s/ =~ m[-1]\n",
    "      m.gsub(/in[g']/, 'ed')\n",
    "    else\n",
    "      m\n",
    "    end\n",
    "  end"
   ]
  },
  {
   "cell_type": "code",
   "execution_count": 92,
   "metadata": {},
   "outputs": [
    {
     "data": {
      "text/plain": [
       "[\"lkin'\"]"
      ]
     },
     "execution_count": 92,
     "metadata": {},
     "output_type": "execute_result"
    }
   ],
   "source": [
    "\"aaa Doing cooking walking walkin' sing singing\".scan(/[a-z]{2}in'/)"
   ]
  },
  {
   "cell_type": "code",
   "execution_count": 45,
   "metadata": {},
   "outputs": [
    {
     "data": {
      "text/plain": [
       "\"aaa doing cooking walking walkin' sing singing\""
      ]
     },
     "execution_count": 45,
     "metadata": {},
     "output_type": "execute_result"
    }
   ],
   "source": [
    "string1 = \"aaa doing cooking walking walkin' sing singing\""
   ]
  },
  {
   "cell_type": "code",
   "execution_count": 46,
   "metadata": {},
   "outputs": [
    {
     "data": {
      "text/plain": [
       "\"aaa doed cooked walked walkin' sing singed\""
      ]
     },
     "execution_count": 46,
     "metadata": {},
     "output_type": "execute_result"
    }
   ],
   "source": [
    "string1.gsub(/[A-Za-z]{2,}ing\\b/) do |match|\n",
    "  match.gsub /ing\\b/, 'ed'\n",
    "end"
   ]
  },
  {
   "cell_type": "markdown",
   "metadata": {},
   "source": [
    "### 2"
   ]
  },
  {
   "cell_type": "markdown",
   "metadata": {},
   "source": [
    "Во всех словах строки, начинающихся на букву «н», заменить эту букву буквой «Т», а во всех словах, оканчивающихся на букву «о», заменить эту букву буквой «Е»."
   ]
  },
  {
   "cell_type": "code",
   "execution_count": 47,
   "metadata": {},
   "outputs": [
    {
     "data": {
      "text/plain": [
       "\"ннос, снять, колесоо, журавль, околоток, сколоченный, деревянный, неподъемный, ничто\""
      ]
     },
     "execution_count": 47,
     "metadata": {},
     "output_type": "execute_result"
    }
   ],
   "source": [
    "string2 = 'ннос, снять, колесоо, журавль, околоток, сколоченный, деревянный, неподъемный, ничто'"
   ]
  },
  {
   "cell_type": "code",
   "execution_count": 52,
   "metadata": {},
   "outputs": [
    {
     "data": {
      "text/plain": [
       "\"Тнос, снять, колесоЕ, журавль, околоток, сколоченный, деревянный, Теподъемный, ТичтЕ\""
      ]
     },
     "execution_count": 52,
     "metadata": {},
     "output_type": "execute_result"
    }
   ],
   "source": [
    "string2.gsub /\\b[Нн][А-Яа-я]+|[А-Яа-я]+[Оо]\\b/ do |match|\n",
    "  tmp = match.downcase\n",
    "  \n",
    "  if tmp.start_with? 'н'\n",
    "    match[0] = 'Т'\n",
    "  end\n",
    "  \n",
    "  if tmp.end_with? 'о'\n",
    "    match[-1] = 'Е'\n",
    "  end\n",
    "  \n",
    "  match\n",
    "end"
   ]
  },
  {
   "cell_type": "code",
   "execution_count": 51,
   "metadata": {},
   "outputs": [
    {
     "data": {
      "text/plain": [
       "\"1sfd\""
      ]
     },
     "execution_count": 51,
     "metadata": {},
     "output_type": "execute_result"
    }
   ],
   "source": [
    "tmp = 'dsfd'\n",
    "\n",
    "tmp[0] = '1'\n",
    "\n",
    "tmp"
   ]
  },
  {
   "cell_type": "markdown",
   "metadata": {},
   "source": [
    "### 3"
   ]
  },
  {
   "cell_type": "markdown",
   "metadata": {},
   "source": [
    "Дана последовательность строк. Строки состоят из слов, разделенных пробелом. Каждая строка содержит существительные единственного числа, оканчивающиеся на «онок» и «енок». Написать программу,обеспечивающую ввод строк и их корректировку. Корректировка заключается в преобразовании существительных в единственном числе, во множественное. Для преобразования считать, что множественное число этих существительных образуется на другой основе по образцу: Цыпленок – цыплята, мышонок – мышата. При этом, «а» перед «т» пишется, если корень оканчивается на шипящую, а в остальных случаях перед «т» будет буква «я».Вывести на печать исходную и скорректированную последовательности строк.\n"
   ]
  },
  {
   "cell_type": "code",
   "execution_count": 96,
   "metadata": {},
   "outputs": [
    {
     "data": {
      "text/plain": [
       "\"цыпленок мышонок слоненок ягненок котенок\""
      ]
     },
     "execution_count": 96,
     "metadata": {},
     "output_type": "execute_result"
    }
   ],
   "source": [
    "string3 = 'цыпленок мышонок слоненок ягненок котенок'"
   ]
  },
  {
   "cell_type": "code",
   "execution_count": 98,
   "metadata": {},
   "outputs": [
    {
     "data": {
      "text/plain": [
       "\"цыплята мышата слонята ягнята котята\""
      ]
     },
     "execution_count": 98,
     "metadata": {},
     "output_type": "execute_result"
    }
   ],
   "source": [
    "string3.gsub(/[а-я][ео]нок/) do |m|\n",
    "  if ['ж', 'ш', 'щ', 'ч'].include? m[0]\n",
    "    \"#{m[0]}ата\"\n",
    "  else\n",
    "    \"#{m[0]}ята\"\n",
    "  end\n",
    "end"
   ]
  },
  {
   "cell_type": "code",
   "execution_count": 59,
   "metadata": {},
   "outputs": [
    {
     "data": {
      "text/plain": [
       "\"цыплята мышата слонята ягнята котята\""
      ]
     },
     "execution_count": 59,
     "metadata": {},
     "output_type": "execute_result"
    }
   ],
   "source": [
    "string3.gsub /[А-Я]{2}нок\\b/i do |m|\n",
    "  if ['ж', 'ш', 'щ', 'ч'].include?m[0]\n",
    "    \"#{m[0]}ата\"\n",
    "  else\n",
    "    \"#{m[0]}ята\"\n",
    "  end\n",
    "end"
   ]
  },
  {
   "cell_type": "code",
   "execution_count": null,
   "metadata": {},
   "outputs": [],
   "source": []
  },
  {
   "cell_type": "code",
   "execution_count": null,
   "metadata": {},
   "outputs": [],
   "source": []
  },
  {
   "cell_type": "code",
   "execution_count": 3,
   "metadata": {},
   "outputs": [
    {
     "data": {
      "text/plain": [
       "\"цыплята мышата слонята ягнята котята\""
      ]
     },
     "execution_count": 3,
     "metadata": {},
     "output_type": "execute_result"
    }
   ],
   "source": [
    "string3.gsub(/.[оеё]нок\\b/) do |match|\n",
    "  if ['ж', 'ш', 'щ', 'ч'].include? match[0]\n",
    "    \"#{match[0]}ата\"\n",
    "  else\n",
    "    \"#{match[0]}ята\"\n",
    "  end\n",
    "end"
   ]
  },
  {
   "cell_type": "code",
   "execution_count": 15,
   "metadata": {},
   "outputs": [
    {
     "data": {
      "text/plain": [
       "\"цыплята мышата слонята ягнята котята\""
      ]
     },
     "execution_count": 15,
     "metadata": {},
     "output_type": "execute_result"
    }
   ],
   "source": [
    "string3\n",
    "  .gsub(/[жшщч]онок/) { |match| \"#{match[0]}ата\"}\n",
    "  .gsub(/(о|е)нок/, 'ята')"
   ]
  },
  {
   "cell_type": "markdown",
   "metadata": {},
   "source": [
    "### 4"
   ]
  },
  {
   "cell_type": "markdown",
   "metadata": {},
   "source": [
    "Написать программу, определяющую в каждой строке количество таких групп букв, которые начинаются и кончаются одной и той же буквой. Вывести на печать исходную последовательность строк и строки, содержащие искомые группы букв."
   ]
  },
  {
   "cell_type": "code",
   "execution_count": 101,
   "metadata": {},
   "outputs": [
    {
     "data": {
      "text/plain": [
       "2"
      ]
     },
     "execution_count": 101,
     "metadata": {},
     "output_type": "execute_result"
    }
   ],
   "source": [
    "string4 = 'aamdka d df ddhhd djfj rk f 242k242'\n",
    "\n",
    "string4.scan(/\\b[a-z]{2,}\\b/i).select { |x| x.start_with? x[-1] }.size"
   ]
  },
  {
   "cell_type": "code",
   "execution_count": 9,
   "metadata": {},
   "outputs": [
    {
     "data": {
      "text/plain": [
       "[[\"aamdka\", \"ddhhd\"], 2]"
      ]
     },
     "execution_count": 9,
     "metadata": {},
     "output_type": "execute_result"
    }
   ],
   "source": [
    "string4\n",
    "  .scan(/\\b[A-z]{2,}\\b/)\n",
    "  .filter { |word| word.start_with? word[-1] }\n",
    "  .then { |groups| [groups, groups.size]}"
   ]
  },
  {
   "cell_type": "markdown",
   "metadata": {},
   "source": [
    "### 5"
   ]
  },
  {
   "cell_type": "markdown",
   "metadata": {},
   "source": [
    "Написать программу, определяющую в каждой строке количество групп букв. Если таких групп больше 2-х, то каждый знак «+», встречающийся между группами букв заменяется на цифру 1, знак «-» на цифру 2, а знак «*» на цифру 3. Иначе оставить текст без изменения. Вывести на печать исходную и скорректированную последовательности строк."
   ]
  },
  {
   "cell_type": "code",
   "execution_count": 10,
   "metadata": {},
   "outputs": [
    {
     "data": {
      "text/plain": [
       "\"aaa +-*dd\""
      ]
     },
     "execution_count": 10,
     "metadata": {},
     "output_type": "execute_result"
    }
   ],
   "source": [
    "string1 = 'aaa ddf +-*ddg +-*'\n",
    "string2 = 'aaa +-*dd'"
   ]
  },
  {
   "cell_type": "code",
   "execution_count": 15,
   "metadata": {},
   "outputs": [
    {
     "data": {
      "text/plain": [
       "\"aaa ddf 123ddg +-*\""
      ]
     },
     "execution_count": 15,
     "metadata": {},
     "output_type": "execute_result"
    }
   ],
   "source": [
    "def replace string\n",
    "  if string.scan(/\\b[A-z]{2,}\\b/).length > 2\n",
    "    string.gsub(/\\b[A-z]{2,}\\b.*[+\\-*]+.*\\b[A-z]{2,}\\b/) do |match|\n",
    "      match.gsub(/[\\+\\-\\*]/, '+' => '1', '-' => '2', '*' => '3')\n",
    "    end\n",
    "  else\n",
    "    string\n",
    "  end\n",
    "end\n",
    "\n",
    "replace string1\n",
    "\n",
    "      # w1, w3 = $1, $3\n",
    "      # w1 + $2.gsub(/[\\+\\-\\*]/, '+' => '1', '-' => '2', '*' => '3') + w3"
   ]
  },
  {
   "cell_type": "code",
   "execution_count": 22,
   "metadata": {},
   "outputs": [
    {
     "name": "stdout",
     "output_type": "stream",
     "text": [
      "\"Исходная строка:      aaa ddf +-*ddg +-*\"\n",
      "\"Скорректированная:    aaa ddf 123ddg +-*\"\n",
      "\"Исходная строка:      aaa +-*dd\"\n",
      "\"Скорректированная:    aaa +-*dd\"\n"
     ]
    },
    {
     "data": {
      "text/plain": [
       "[\"aaa ddf +-*ddg +-*\", \"aaa +-*dd\"]"
      ]
     },
     "execution_count": 22,
     "metadata": {},
     "output_type": "execute_result"
    }
   ],
   "source": [
    "[string1, string2].each do |x|\n",
    "  p \"Исходная строка:      #{x}\"\n",
    "  p \"Скорректированная:    \" + replace(x)\n",
    "end"
   ]
  },
  {
   "cell_type": "code",
   "execution_count": null,
   "metadata": {},
   "outputs": [],
   "source": []
  },
  {
   "cell_type": "code",
   "execution_count": null,
   "metadata": {},
   "outputs": [],
   "source": []
  },
  {
   "cell_type": "code",
   "execution_count": null,
   "metadata": {},
   "outputs": [],
   "source": []
  },
  {
   "cell_type": "code",
   "execution_count": 71,
   "metadata": {},
   "outputs": [
    {
     "data": {
      "text/plain": [
       "\"ODD23 лапт\""
      ]
     },
     "execution_count": 71,
     "metadata": {},
     "output_type": "execute_result"
    }
   ],
   "source": [
    "'123 лапт'.sub(/\\d/)  do |match|\n",
    "  if match.to_i.odd?\n",
    "    'ODD'\n",
    "  else\n",
    "    match\n",
    "  end\n",
    "end"
   ]
  },
  {
   "cell_type": "code",
   "execution_count": 73,
   "metadata": {},
   "outputs": [
    {
     "data": {
      "text/plain": [
       "[\"123\"]"
      ]
     },
     "execution_count": 73,
     "metadata": {},
     "output_type": "execute_result"
    }
   ],
   "source": [
    "'123 лапт'.scan(/\\d+/)"
   ]
  },
  {
   "cell_type": "code",
   "execution_count": 83,
   "metadata": {},
   "outputs": [
    {
     "data": {
      "text/plain": [
       "3"
      ]
     },
     "execution_count": 83,
     "metadata": {},
     "output_type": "execute_result"
    }
   ],
   "source": [
    "/\\d+/ =~ 'kjj123'"
   ]
  },
  {
   "cell_type": "code",
   "execution_count": null,
   "metadata": {},
   "outputs": [],
   "source": []
  }
 ],
 "metadata": {
  "kernelspec": {
   "display_name": "Ruby 2.7.2",
   "language": "ruby",
   "name": "ruby"
  },
  "language_info": {
   "file_extension": ".rb",
   "mimetype": "application/x-ruby",
   "name": "ruby",
   "version": "2.7.2"
  }
 },
 "nbformat": 4,
 "nbformat_minor": 2
}
