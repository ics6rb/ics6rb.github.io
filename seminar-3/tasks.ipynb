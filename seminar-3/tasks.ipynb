{
 "cells": [
  {
   "cell_type": "markdown",
   "metadata": {},
   "source": [
    "# Решаем задачи"
   ]
  },
  {
   "cell_type": "markdown",
   "metadata": {},
   "source": [
    "Написать функцию, которая принимает на вход строку и переворачивает ее. Пример работы:\n",
    "\n",
    "```ruby\n",
    "palindrome '123' # => '321'\n",
    "```"
   ]
  },
  {
   "cell_type": "code",
   "execution_count": 2,
   "metadata": {},
   "outputs": [
    {
     "data": {
      "text/plain": [
       "\"321\""
      ]
     },
     "execution_count": 2,
     "metadata": {},
     "output_type": "execute_result"
    }
   ],
   "source": [
    "def palindrome str\n",
    "  str.reverse\n",
    "end\n",
    "\n",
    "palindrome '123'"
   ]
  },
  {
   "cell_type": "markdown",
   "metadata": {},
   "source": [
    "Написать функцию, которая принимает на вход строку и проверяет, является ли она палиндромом. Пример работы:\n",
    "\n",
    "```ruby\n",
    "palindrome? '123' # => false\n",
    "palindrome? '111' # => true\n",
    "```"
   ]
  },
  {
   "cell_type": "code",
   "execution_count": 3,
   "metadata": {},
   "outputs": [
    {
     "data": {
      "text/plain": [
       "false"
      ]
     },
     "execution_count": 3,
     "metadata": {},
     "output_type": "execute_result"
    }
   ],
   "source": [
    "def palindrome? str\n",
    "  str == str.reverse\n",
    "end\n",
    "\n",
    "palindrome? 'А роза упала на лапу азора'"
   ]
  },
  {
   "cell_type": "code",
   "execution_count": 4,
   "metadata": {},
   "outputs": [
    {
     "data": {
      "text/plain": [
       "true"
      ]
     },
     "execution_count": 4,
     "metadata": {},
     "output_type": "execute_result"
    }
   ],
   "source": [
    "def palindrome_on_steroids? str\n",
    "  str = str.downcase.split.join ''\n",
    "  str == str.reverse\n",
    "end\n",
    "\n",
    "palindrome_on_steroids? 'А роза упала на лапу азора'"
   ]
  },
  {
   "cell_type": "markdown",
   "metadata": {},
   "source": [
    "Написать функцию, которая принимает на вход массив и считает сумму квадратов его элементов. Пример работы:\n",
    "\n",
    "```ruby\n",
    "sum_squares [1, 2, 3] # => [1, 4, 9] => 14\n",
    "```"
   ]
  },
  {
   "cell_type": "code",
   "execution_count": 5,
   "metadata": {},
   "outputs": [
    {
     "data": {
      "text/plain": [
       "14"
      ]
     },
     "execution_count": 5,
     "metadata": {},
     "output_type": "execute_result"
    }
   ],
   "source": [
    "def sum_squares ary\n",
    "  ary\n",
    "    .map { |x| x ** 2 }\n",
    "    .sum\n",
    "end\n",
    "\n",
    "sum_squares [1, 2, 3]"
   ]
  },
  {
   "cell_type": "markdown",
   "metadata": {},
   "source": [
    "Написать функцию, которая будет принимать на вход массив и возвращать самую длинную последовательность четных чисел\n",
    "\n",
    "``` ruby\n",
    "find_longest [1, 2, 3, 4, 4, 6, 8, 9, 10, 3, 4, 5, 6, 8, 6] # [4, 4, 6, 8]\n",
    "```"
   ]
  },
  {
   "cell_type": "code",
   "execution_count": 6,
   "metadata": {},
   "outputs": [
    {
     "data": {
      "text/plain": [
       "[4, 4, 6, 8]"
      ]
     },
     "execution_count": 6,
     "metadata": {},
     "output_type": "execute_result"
    }
   ],
   "source": [
    "def find_longest ary\n",
    "  ary\n",
    "    .chunk_while { |lhs, rhs| lhs % 2 == 0 && rhs % 2 == 0}\n",
    "    .max_by &:length\n",
    "end\n",
    "\n",
    "find_longest [1, 2, 3, 4, 4, 6, 8, 9, 10, 3, 4, 5, 6, 8, 6]"
   ]
  },
  {
   "cell_type": "markdown",
   "metadata": {},
   "source": [
    "Дана последовательность строк. Каждая строка состоит из слов, разделенных пробелами. Написать программу, обеспечивающую ввод строк и их корректировку. Корректировка заключается в удалении лишних пробелов и слов, состоящих из одного символа. Лишними считаются пробелы в начале и конце строки, а также более одного пробела между словами. Вывести на печать исходную и скорректированную последовательности строк."
   ]
  },
  {
   "cell_type": "code",
   "execution_count": 8,
   "metadata": {},
   "outputs": [
    {
     "data": {
      "text/plain": [
       "\"sfk sfg flg\""
      ]
     },
     "execution_count": 8,
     "metadata": {},
     "output_type": "execute_result"
    }
   ],
   "source": [
    "def correct str\n",
    "  str\n",
    "    .split\n",
    "    .reject {|x| x.length == 1}\n",
    "    .join ' '\n",
    "end\n",
    "\n",
    "correct '    sfk sfg   flg s        l    '"
   ]
  },
  {
   "cell_type": "markdown",
   "metadata": {},
   "source": [
    "Дана последовательность строк. Каждая строка состоит из слов, разделенных пробелами. Написать программу, обеспечивающую ввод строк и их корректировку. Корректировка заключается в удалении или замене слов. Если слово стоит на четном месте и начинается на букву «е» — оно удаляется; если слово стоит на четном месте и начинается на букву «с», оно замещается на слово, введенное с клавиатуры. Вывести на печать исходную и скорректированную последовательности строк."
   ]
  },
  {
   "cell_type": "code",
   "execution_count": 9,
   "metadata": {},
   "outputs": [
    {
     "data": {
      "text/plain": [
       "\"fgm dfkm fdkbdmfb lfdb fff replaced\""
      ]
     },
     "execution_count": 9,
     "metadata": {},
     "output_type": "execute_result"
    }
   ],
   "source": [
    "word_to_replace = 'replaced'\n",
    "\n",
    "remove_letter = 'e'\n",
    "replace_letter = 'c'\n",
    "\n",
    "string = '  fgm    dfkm fdkbdmfb lfdb      eremove fff creplace '  \n",
    "\n",
    "word_array = string.split.map.with_index do |x, idx|\n",
    "  if idx.even? and x.start_with? remove_letter\n",
    "    nil\n",
    "  elsif idx.even? and x.start_with? replace_letter\n",
    "    word_to_replace\n",
    "  else\n",
    "    x\n",
    "  end\n",
    "end\n",
    "\n",
    "# compact удаляет nil\n",
    "word_array.compact.join ' '"
   ]
  },
  {
   "cell_type": "markdown",
   "metadata": {},
   "source": [
    "Дан массив произвольной вложенности [[], [[[], [], ], []], ...]. Убрать вложенность элементов, отсортировать по убыванию и посчитать количество чисел 1 в массиве."
   ]
  },
  {
   "cell_type": "code",
   "execution_count": 10,
   "metadata": {},
   "outputs": [
    {
     "data": {
      "text/plain": [
       "[1900, 1488, 61, 19, 15, 11, 8, 7, 7, 5, 1, 1]"
      ]
     },
     "execution_count": 10,
     "metadata": {},
     "output_type": "execute_result"
    }
   ],
   "source": [
    "a = [[1, 15, 7, 61], [8, 5, [11, 1, 7, 19]], 1900, [[[1488]]]]\n",
    "a.flatten.sort.reverse"
   ]
  },
  {
   "cell_type": "markdown",
   "metadata": {},
   "source": [
    "Числа Фибоначчи"
   ]
  },
  {
   "cell_type": "code",
   "execution_count": 7,
   "metadata": {},
   "outputs": [
    {
     "data": {
      "text/plain": [
       "[0, 1, 1, 2, 3, 5, 8, 13, 21, 34, 55, 89, 144, 233, 377, 610, 987, 1597, 2584, 4181, 6765, 10946]"
      ]
     },
     "execution_count": 7,
     "metadata": {},
     "output_type": "execute_result"
    }
   ],
   "source": [
    "(1..20).inject( [0, 1] ) { | fib | fib << fib.last(2).inject(:+) }"
   ]
  },
  {
   "cell_type": "code",
   "execution_count": null,
   "metadata": {},
   "outputs": [],
   "source": []
  }
 ],
 "metadata": {
  "kernelspec": {
   "display_name": "Ruby 2.6.3",
   "language": "ruby",
   "name": "ruby"
  },
  "language_info": {
   "file_extension": ".rb",
   "mimetype": "application/x-ruby",
   "name": "ruby",
   "version": "2.6.3"
  }
 },
 "nbformat": 4,
 "nbformat_minor": 2
}
