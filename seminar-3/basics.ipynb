{
 "cells": [
  {
   "cell_type": "code",
   "execution_count": 20,
   "metadata": {},
   "outputs": [],
   "source": [
    "def foo\n",
    "  yield(1, 5) if block_given?\n",
    "end\n",
    "\n",
    "foo"
   ]
  },
  {
   "cell_type": "markdown",
   "metadata": {},
   "source": [
    "# Основы Ruby "
   ]
  },
  {
   "cell_type": "markdown",
   "metadata": {},
   "source": [
    "Ruby - **интерпретируемый, динамический, строго типизированный** язык программирования. Он мультипарадигменный, поэтому, в частности, поддерживает ООП (объектно-ориентированное программирование) и ФП (функциональное программирование).\n",
    "\n",
    "Ruby вдохновлен Perl и Python. Программа на Ruby должна быть похожей на текст на естественном языке, поэтому:\n",
    "\n",
    "1. Не обязательно писать `return`.\n",
    "2. Не обязательно писать скобки при вызове методов.\n",
    "3. У одного и того же метода (имеется в виду, что в машинной реализации будет вызываться один и тот же код) есть много названий - алиасов, можно выбирать то, которое лучше подходит по контексту, работать будет одинаково быстро ~~(или медленно)~~."
   ]
  },
  {
   "cell_type": "markdown",
   "metadata": {},
   "source": [
    "В Ruby крайне щепетильно подходят к правилам именования переменных (мы рассмотрим не все виды, а только те, которые вам понадобятся; нерассмотренные переменные, конечно, можно использовать, но стоит несколько раз перед этим подумать - **практически всегда вы сможете обойтись без них**)\n",
    "\n",
    "1. Обычная локальная переменная `a = 10`.\n",
    "2. Поле объекта - можно инициализировать внутри объекта `@a = 10`.\n",
    "3. Константа - должна **начинаться** с большой буквы `CONSTANT = 10` или `Constant = 10`. Имя класса - ВНЕЗАПНО константа.\n",
    "\n",
    "Это даже не соглашение, а почти протокол языка, например"
   ]
  },
  {
   "cell_type": "code",
   "execution_count": 14,
   "metadata": {},
   "outputs": [
    {
     "name": "stderr",
     "output_type": "stream",
     "text": [
      "(pry):89: warning: already initialized constant Constant\n",
      "(pry):88: warning: previous definition of Constant was here\n"
     ]
    },
    {
     "data": {
      "text/plain": [
       "11"
      ]
     },
     "execution_count": 14,
     "metadata": {},
     "output_type": "execute_result"
    }
   ],
   "source": [
    "Constant = 10\n",
    "Constant += 1"
   ]
  },
  {
   "cell_type": "code",
   "execution_count": null,
   "metadata": {},
   "outputs": [],
   "source": [
    "''.freeze"
   ]
  },
  {
   "cell_type": "markdown",
   "metadata": {},
   "source": [
    "Есть еще одно соглашение, которое носит скорее рекомендательный характер, но при этом широко распространено в языке для унификации\n",
    "\n",
    "1. Если метод оканчивается на `?`, он возвращает true или false.\n",
    "2. Если метол оканчивается на `!`, он изменяет объект, для которого был вызван\n",
    "\n",
    "Рассмотрим п.2 более подробно"
   ]
  },
  {
   "cell_type": "code",
   "execution_count": 24,
   "metadata": {},
   "outputs": [
    {
     "data": {
      "text/plain": [
       "[2, 3, 4]"
      ]
     },
     "execution_count": 24,
     "metadata": {},
     "output_type": "execute_result"
    }
   ],
   "source": [
    "a = [1, 2, 3]\n",
    "a.map { |x| x + 1 }"
   ]
  },
  {
   "cell_type": "code",
   "execution_count": 25,
   "metadata": {},
   "outputs": [
    {
     "data": {
      "text/plain": [
       "[2, 3, 4]"
      ]
     },
     "execution_count": 25,
     "metadata": {},
     "output_type": "execute_result"
    }
   ],
   "source": [
    "b = [1, 2, 3]\n",
    "b.map! { |x| x + 1 }\n",
    "b"
   ]
  },
  {
   "cell_type": "markdown",
   "metadata": {},
   "source": [
    "В Ruby все есть объект. До такой степени, что даже класс - объект: его даже можно записывать в переменную!"
   ]
  },
  {
   "cell_type": "code",
   "execution_count": 1,
   "metadata": {},
   "outputs": [
    {
     "name": "stdout",
     "output_type": "stream",
     "text": [
      "Class\n",
      "Class\n",
      "Array\n"
     ]
    }
   ],
   "source": [
    "# Array - это встроенный класс массива. Можно посмотреть, что это объект класса Class\n",
    "puts(Array.class())\n",
    "\n",
    "# Более того, этот КЛАСС можно присвоить переменной и передать в качестве аргумента в функцию!\n",
    "cls = Array\n",
    "puts(cls.class())\n",
    "puts(cls)"
   ]
  },
  {
   "cell_type": "markdown",
   "metadata": {},
   "source": [
    "Немного практики - что будет выведено на экран и почему?"
   ]
  },
  {
   "cell_type": "code",
   "execution_count": 17,
   "metadata": {},
   "outputs": [
    {
     "name": "stdout",
     "output_type": "stream",
     "text": [
      "10\n",
      "[10]\n"
     ]
    },
    {
     "data": {
      "text/plain": [
       "[10]"
      ]
     },
     "execution_count": 17,
     "metadata": {},
     "output_type": "execute_result"
    }
   ],
   "source": [
    "a = 10\n",
    "b = []\n",
    "\n",
    "def foo(a, b)\n",
    "  b.push a\n",
    "  a += 1\n",
    "end\n",
    "\n",
    "foo(a, b)\n",
    "\n",
    "p a\n",
    "p b"
   ]
  },
  {
   "cell_type": "markdown",
   "metadata": {},
   "source": [
    "Какие типы данных мы можем использовать"
   ]
  },
  {
   "cell_type": "code",
   "execution_count": 28,
   "metadata": {},
   "outputs": [
    {
     "data": {
      "text/plain": [
       "0.5"
      ]
     },
     "execution_count": 28,
     "metadata": {},
     "output_type": "execute_result"
    }
   ],
   "source": [
    "2 / 4.0"
   ]
  },
  {
   "cell_type": "code",
   "execution_count": 5,
   "metadata": {},
   "outputs": [
    {
     "name": "stdout",
     "output_type": "stream",
     "text": [
      "\"Пример интерполяции 10\"\n"
     ]
    },
    {
     "data": {
      "text/plain": [
       "{:a=>10, :b=>20}"
      ]
     },
     "execution_count": 5,
     "metadata": {},
     "output_type": "execute_result"
    }
   ],
   "source": [
    "# Числа - целые и с плавающей точкой.\n",
    "a = 10\n",
    "b = 5.5\n",
    "\n",
    "# Строки.\n",
    "c = 'Привет!\\n'\n",
    "p \"Пример интерполяции #{a} \\n\"\n",
    "\n",
    "# Символы - неизменяемые строки.\n",
    "d = :i_am_symbol\n",
    "\n",
    "# Массивы\n",
    "e = []\n",
    "\n",
    "# А одним из двух способов ниже можно добавить элемент в массив.\n",
    "e.push(2)\n",
    "e.<<(1) \n",
    "\n",
    "# Хэш (словарь)\n",
    "f = {}\n",
    "\n",
    "# А так (по-старому и по-новому) можно инициализировать хэш\n",
    "old = {:a => 10, :b => 20}\n",
    "new = {a: 10, b: 20}"
   ]
  },
  {
   "cell_type": "markdown",
   "metadata": {},
   "source": [
    "Немного практики - что будет выведено на экран и почему?"
   ]
  },
  {
   "cell_type": "code",
   "execution_count": 6,
   "metadata": {},
   "outputs": [
    {
     "name": "stdout",
     "output_type": "stream",
     "text": [
      "\"Привет\"\n"
     ]
    },
    {
     "data": {
      "text/plain": [
       "\"Привет\""
      ]
     },
     "execution_count": 6,
     "metadata": {},
     "output_type": "execute_result"
    }
   ],
   "source": [
    "if 0\n",
    "  p 'Привет'\n",
    "end"
   ]
  },
  {
   "cell_type": "markdown",
   "metadata": {},
   "source": [
    "### Как научиться программировать на Ruby."
   ]
  },
  {
   "cell_type": "markdown",
   "metadata": {},
   "source": [
    "\n",
    "\n",
    "С непривычки Ruby кажется очень неудобным, и это совершенно оправданно. Для того, чтобы быть максимально эффективным, **нужно читать документацию**. У [строки](https://ruby-doc.org/core-2.6/String.html), [массива](https://ruby-doc.org/core-2.6/Array.html) (и еще [тут](https://ruby-doc.org/core-2.6/Enumerable.html)) и даже [обычного числа](https://ruby-doc.org/core-2.6/Integer.html) есть такое количество методов, что можно решить любую (почти) лабораторную работу в одну строчку! Буквально. Читайте."
   ]
  },
  {
   "cell_type": "markdown",
   "metadata": {},
   "source": [
    "### Немного шок-контента"
   ]
  },
  {
   "cell_type": "markdown",
   "metadata": {},
   "source": [
    "На Ruby можно не использовать скобки при вызове методов. Это значит, что, в отличие от JS, функция в Ruby не является объектом первого рода - ее нельзя ни записать в переменную, ни передать в другую функцию.\n",
    "\n",
    "Однако минуточку, а что делать, если очень хочется, функциональное программирование без этого не взлетит. Выход есть, и это блоки."
   ]
  },
  {
   "cell_type": "code",
   "execution_count": 7,
   "metadata": {},
   "outputs": [
    {
     "data": {
      "text/plain": [
       "[2, 3, 4]"
      ]
     },
     "execution_count": 7,
     "metadata": {},
     "output_type": "execute_result"
    }
   ],
   "source": [
    "[1, 2, 3].map { |x| x + 1 }"
   ]
  },
  {
   "cell_type": "code",
   "execution_count": 8,
   "metadata": {},
   "outputs": [
    {
     "data": {
      "text/plain": [
       "[3, 4, 5]"
      ]
     },
     "execution_count": 8,
     "metadata": {},
     "output_type": "execute_result"
    }
   ],
   "source": [
    "[1, 2, 3].map do |x|\n",
    "  x + 2\n",
    "end"
   ]
  },
  {
   "cell_type": "markdown",
   "metadata": {},
   "source": [
    "Что в сухом остатке:\n",
    "\n",
    "1. Блоки бывают однострочными и многострочными. Какой вид блока использовать, решать вам, но делайте это разумно, соблюдайте кодстайл и используйте `{}` только если вы укладываетесь в одну строку.\n",
    "2. Блоки - это не магия, то, что вы пишете в `||` - это то же самое, что формальные параметры функции (`function foo(x, y)` - `x` и `y`).\n",
    "3. Любая функция умеет принимать блок, не нужно делать никаких дополнительных действий. **Для проверки на то, что блок передан, есть `block_given?`**.\n",
    "4. Блоки - это **не объекты**, их нельзя писать в переменную. Как быть, обсудим позже, однако, если вам не терпится, то почитайте про [Proc](https://medium.com/@alexsnaumov/%D0%BF%D1%80%D0%BE%D0%BA%D0%B8-%D0%B1%D0%BB%D0%BE%D0%BA%D0%B8-%D0%B8-%D0%BB%D1%8F%D0%BC%D0%B1%D0%B4%D1%8B-%D0%B2-ruby-f81c403bd1f5).\n",
    "5. Раз блоки - не объекты, то как их вызвать? С помощью ключевого слова `yield`."
   ]
  },
  {
   "cell_type": "code",
   "execution_count": 2,
   "metadata": {},
   "outputs": [
    {
     "name": "stdout",
     "output_type": "stream",
     "text": [
      "\"Сейчас мы зашли в блок и будем печатать результат\"\n",
      "\"Эта переменная не нужна, она здесь с целью иллюстрации того, как передавать параметры в блок\"\n"
     ]
    }
   ],
   "source": [
    "def i_can_take_block()\n",
    "  what_i_want_to_print = 'Эта переменная не нужна, она здесь с целью иллюстрации того, как передавать параметры в блок'\n",
    "  yield(what_i_want_to_print)\n",
    "end\n",
    "\n",
    "i_can_take_block do |x|\n",
    "  p 'Сейчас мы зашли в блок и будем печатать результат'\n",
    "  p x\n",
    "  nil # Блок возвращает результат последней операции, поэтому Jupyter Notebook распечатает одну и ту же строку два раза.\n",
    "end"
   ]
  },
  {
   "cell_type": "markdown",
   "metadata": {},
   "source": [
    "Однако если `yield` есть, а блока нет, будет ошибка"
   ]
  },
  {
   "cell_type": "code",
   "execution_count": 10,
   "metadata": {},
   "outputs": [
    {
     "ename": "LocalJumpError",
     "evalue": "no block given (yield)",
     "output_type": "error",
     "traceback": [
      "\u001b[31mLocalJumpError\u001b[0m: no block given (yield)",
      "\u001b[37m(pry):75:in `i_can_take_block'\u001b[0m",
      "\u001b[37m(pry):81:in `<main>'\u001b[0m",
      "\u001b[37m/Users/jpyatachkov/.anyenv/envs/rbenv/versions/2.6.3/lib/ruby/gems/2.6.0/gems/pry-0.12.2/lib/pry/pry_instance.rb:387:in `eval'\u001b[0m",
      "\u001b[37m/Users/jpyatachkov/.anyenv/envs/rbenv/versions/2.6.3/lib/ruby/gems/2.6.0/gems/pry-0.12.2/lib/pry/pry_instance.rb:387:in `evaluate_ruby'\u001b[0m",
      "\u001b[37m/Users/jpyatachkov/.anyenv/envs/rbenv/versions/2.6.3/lib/ruby/gems/2.6.0/gems/pry-0.12.2/lib/pry/pry_instance.rb:355:in `handle_line'\u001b[0m",
      "\u001b[37m/Users/jpyatachkov/.anyenv/envs/rbenv/versions/2.6.3/lib/ruby/gems/2.6.0/gems/pry-0.12.2/lib/pry/pry_instance.rb:274:in `block (2 levels) in eval'\u001b[0m",
      "\u001b[37m/Users/jpyatachkov/.anyenv/envs/rbenv/versions/2.6.3/lib/ruby/gems/2.6.0/gems/pry-0.12.2/lib/pry/pry_instance.rb:273:in `catch'\u001b[0m",
      "\u001b[37m/Users/jpyatachkov/.anyenv/envs/rbenv/versions/2.6.3/lib/ruby/gems/2.6.0/gems/pry-0.12.2/lib/pry/pry_instance.rb:273:in `block in eval'\u001b[0m",
      "\u001b[37m/Users/jpyatachkov/.anyenv/envs/rbenv/versions/2.6.3/lib/ruby/gems/2.6.0/gems/pry-0.12.2/lib/pry/pry_instance.rb:272:in `catch'\u001b[0m",
      "\u001b[37m/Users/jpyatachkov/.anyenv/envs/rbenv/versions/2.6.3/lib/ruby/gems/2.6.0/gems/pry-0.12.2/lib/pry/pry_instance.rb:272:in `eval'\u001b[0m",
      "\u001b[37m/Users/jpyatachkov/.anyenv/envs/rbenv/versions/2.6.3/lib/ruby/gems/2.6.0/gems/iruby-0.3/lib/iruby/backend.rb:66:in `eval'\u001b[0m",
      "\u001b[37m/Users/jpyatachkov/.anyenv/envs/rbenv/versions/2.6.3/lib/ruby/gems/2.6.0/gems/iruby-0.3/lib/iruby/backend.rb:12:in `eval'\u001b[0m",
      "\u001b[37m/Users/jpyatachkov/.anyenv/envs/rbenv/versions/2.6.3/lib/ruby/gems/2.6.0/gems/iruby-0.3/lib/iruby/kernel.rb:87:in `execute_request'\u001b[0m",
      "\u001b[37m/Users/jpyatachkov/.anyenv/envs/rbenv/versions/2.6.3/lib/ruby/gems/2.6.0/gems/iruby-0.3/lib/iruby/kernel.rb:47:in `dispatch'\u001b[0m",
      "\u001b[37m/Users/jpyatachkov/.anyenv/envs/rbenv/versions/2.6.3/lib/ruby/gems/2.6.0/gems/iruby-0.3/lib/iruby/kernel.rb:37:in `run'\u001b[0m",
      "\u001b[37m/Users/jpyatachkov/.anyenv/envs/rbenv/versions/2.6.3/lib/ruby/gems/2.6.0/gems/iruby-0.3/lib/iruby/command.rb:70:in `run_kernel'\u001b[0m",
      "\u001b[37m/Users/jpyatachkov/.anyenv/envs/rbenv/versions/2.6.3/lib/ruby/gems/2.6.0/gems/iruby-0.3/lib/iruby/command.rb:34:in `run'\u001b[0m",
      "\u001b[37m/Users/jpyatachkov/.anyenv/envs/rbenv/versions/2.6.3/lib/ruby/gems/2.6.0/gems/iruby-0.3/bin/iruby:5:in `<top (required)>'\u001b[0m",
      "\u001b[37m/Users/jpyatachkov/.anyenv/envs/rbenv/versions/2.6.3/bin/iruby:23:in `load'\u001b[0m",
      "\u001b[37m/Users/jpyatachkov/.anyenv/envs/rbenv/versions/2.6.3/bin/iruby:23:in `<main>'\u001b[0m"
     ]
    }
   ],
   "source": [
    "i_can_take_block"
   ]
  },
  {
   "cell_type": "markdown",
   "metadata": {},
   "source": [
    "Тут-то нам не помешал бы `block_given?`"
   ]
  },
  {
   "cell_type": "code",
   "execution_count": 13,
   "metadata": {},
   "outputs": [],
   "source": [
    "def fixed_i_can_take_block\n",
    "  what_i_want_to_print = 'Эта переменная не нужна, она здесь с целью иллюстрации того, как передавать параметры в блок'\n",
    "  yield(what_i_want_to_print) if block_given?\n",
    "end\n",
    "\n",
    "fixed_i_can_take_block"
   ]
  },
  {
   "cell_type": "markdown",
   "metadata": {},
   "source": [
    "### Немного издевательства "
   ]
  },
  {
   "cell_type": "code",
   "execution_count": 22,
   "metadata": {},
   "outputs": [
    {
     "data": {
      "text/plain": [
       "false"
      ]
     },
     "execution_count": 22,
     "metadata": {},
     "output_type": "execute_result"
    }
   ],
   "source": [
    "true and false"
   ]
  },
  {
   "cell_type": "code",
   "execution_count": 23,
   "metadata": {},
   "outputs": [
    {
     "data": {
      "text/plain": [
       "false"
      ]
     },
     "execution_count": 23,
     "metadata": {},
     "output_type": "execute_result"
    }
   ],
   "source": [
    "true && false"
   ]
  },
  {
   "cell_type": "code",
   "execution_count": 24,
   "metadata": {},
   "outputs": [
    {
     "name": "stdout",
     "output_type": "stream",
     "text": [
      "true\n",
      "false\n"
     ]
    },
    {
     "data": {
      "text/plain": [
       "[true, false]"
      ]
     },
     "execution_count": 24,
     "metadata": {},
     "output_type": "execute_result"
    }
   ],
   "source": [
    "(val1 = true) and false\n",
    "val2 = true && false\n",
    "p val1, val2"
   ]
  },
  {
   "cell_type": "code",
   "execution_count": 21,
   "metadata": {},
   "outputs": [
    {
     "name": "stdout",
     "output_type": "stream",
     "text": [
      "SyntaxError: unexpected ',', expecting ')'\n",
      "sum (1, 2)\n",
      "      ^\n"
     ]
    }
   ],
   "source": [
    "def times_two(arg1);\n",
    "  puts arg1 * 2;\n",
    "end\n",
    "\n",
    "def sum(arg1, arg2);\n",
    "  puts arg1 + arg2;\n",
    "end\n",
    "\n",
    "times_two 5\n",
    "times_two(5)\n",
    "times_two (5)\n",
    "sum 1, 2\n",
    "sum(1, 2)\n",
    "sum (1, 2)"
   ]
  },
  {
   "cell_type": "code",
   "execution_count": 27,
   "metadata": {},
   "outputs": [
    {
     "name": "stdout",
     "output_type": "stream",
     "text": [
      "1\n",
      "2\n"
     ]
    },
    {
     "data": {
      "text/plain": [
       "1..2"
      ]
     },
     "execution_count": 27,
     "metadata": {},
     "output_type": "execute_result"
    }
   ],
   "source": [
    "(1..2).each { |x| p x }"
   ]
  },
  {
   "cell_type": "code",
   "execution_count": 28,
   "metadata": {},
   "outputs": [
    {
     "name": "stdout",
     "output_type": "stream",
     "text": [
      "1\n"
     ]
    },
    {
     "data": {
      "text/plain": [
       "1...2"
      ]
     },
     "execution_count": 28,
     "metadata": {},
     "output_type": "execute_result"
    }
   ],
   "source": [
    "(1...2).each { |x| p x }"
   ]
  },
  {
   "cell_type": "code",
   "execution_count": null,
   "metadata": {},
   "outputs": [],
   "source": []
  }
 ],
 "metadata": {
  "kernelspec": {
   "display_name": "Ruby 2.7.2",
   "language": "ruby",
   "name": "ruby"
  },
  "language_info": {
   "file_extension": ".rb",
   "mimetype": "application/x-ruby",
   "name": "ruby",
   "version": "2.7.2"
  }
 },
 "nbformat": 4,
 "nbformat_minor": 2
}
