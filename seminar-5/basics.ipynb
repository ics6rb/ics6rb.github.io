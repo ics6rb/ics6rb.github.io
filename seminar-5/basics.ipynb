{
 "cells": [
  {
   "cell_type": "markdown",
   "metadata": {},
   "source": [
    "# Классы, наследование, агрегация, композиция и примеси "
   ]
  },
  {
   "cell_type": "markdown",
   "metadata": {},
   "source": [
    "## Класс "
   ]
  },
  {
   "cell_type": "markdown",
   "metadata": {},
   "source": [
    "Класс в Ruby - это объект специального типа. Для его создания достаточно простой конструкции"
   ]
  },
  {
   "cell_type": "code",
   "execution_count": 3,
   "metadata": {},
   "outputs": [],
   "source": [
    "class ExampleClass\n",
    "end"
   ]
  },
  {
   "cell_type": "code",
   "execution_count": 7,
   "metadata": {},
   "outputs": [
    {
     "data": {
      "text/plain": [
       "Class"
      ]
     },
     "execution_count": 7,
     "metadata": {},
     "output_type": "execute_result"
    }
   ],
   "source": [
    "ExampleClass.class # Тип объекта."
   ]
  },
  {
   "cell_type": "markdown",
   "metadata": {},
   "source": [
    "Создание нового экземпляра - через метод `:new`"
   ]
  },
  {
   "cell_type": "code",
   "execution_count": 11,
   "metadata": {},
   "outputs": [
    {
     "data": {
      "text/plain": [
       "#<ExampleClass:0x00007f8d758a2988>"
      ]
     },
     "execution_count": 11,
     "metadata": {},
     "output_type": "execute_result"
    }
   ],
   "source": [
    "example_class = ExampleClass.new"
   ]
  },
  {
   "cell_type": "markdown",
   "metadata": {},
   "source": [
    "## Атрибуты класса"
   ]
  },
  {
   "cell_type": "markdown",
   "metadata": {},
   "source": [
    "Можно объявлять переменные уровня класса (статические) и уровня объекта. Их нужно объявлять в конструкторе. **Конструктор называется `initialize`**."
   ]
  },
  {
   "cell_type": "code",
   "execution_count": 23,
   "metadata": {},
   "outputs": [
    {
     "data": {
      "text/plain": [
       ":print_not_static"
      ]
     },
     "execution_count": 23,
     "metadata": {},
     "output_type": "execute_result"
    }
   ],
   "source": [
    "class ExampleClass\n",
    "  def initialize\n",
    "    @@static = 'static'\n",
    "    @not_static = 'not_static'\n",
    "  end\n",
    "  \n",
    "  def update_static(v)\n",
    "    @@static = v\n",
    "  end\n",
    "  \n",
    "  def print_static\n",
    "    puts @@static\n",
    "  end\n",
    "  \n",
    "  def update_not_static(v)\n",
    "    @not_static = v\n",
    "  end\n",
    "  \n",
    "  def print_not_static\n",
    "    puts @not_static\n",
    "  end\n",
    "end"
   ]
  },
  {
   "cell_type": "markdown",
   "metadata": {},
   "source": [
    "Так делать при этом нельзя"
   ]
  },
  {
   "cell_type": "code",
   "execution_count": 24,
   "metadata": {},
   "outputs": [
    {
     "ename": "NoMethodError",
     "evalue": "undefined method `static' for ExampleClass:Class",
     "output_type": "error",
     "traceback": [
      "\u001b[31mNoMethodError\u001b[0m: undefined method `static' for ExampleClass:Class",
      "\u001b[37m(pry):70:in `<main>'\u001b[0m",
      "\u001b[37m/Users/jpyatachkov/.anyenv/envs/rbenv/versions/2.6.3/lib/ruby/gems/2.6.0/gems/pry-0.12.2/lib/pry/pry_instance.rb:387:in `eval'\u001b[0m",
      "\u001b[37m/Users/jpyatachkov/.anyenv/envs/rbenv/versions/2.6.3/lib/ruby/gems/2.6.0/gems/pry-0.12.2/lib/pry/pry_instance.rb:387:in `evaluate_ruby'\u001b[0m",
      "\u001b[37m/Users/jpyatachkov/.anyenv/envs/rbenv/versions/2.6.3/lib/ruby/gems/2.6.0/gems/pry-0.12.2/lib/pry/pry_instance.rb:355:in `handle_line'\u001b[0m",
      "\u001b[37m/Users/jpyatachkov/.anyenv/envs/rbenv/versions/2.6.3/lib/ruby/gems/2.6.0/gems/pry-0.12.2/lib/pry/pry_instance.rb:274:in `block (2 levels) in eval'\u001b[0m",
      "\u001b[37m/Users/jpyatachkov/.anyenv/envs/rbenv/versions/2.6.3/lib/ruby/gems/2.6.0/gems/pry-0.12.2/lib/pry/pry_instance.rb:273:in `catch'\u001b[0m",
      "\u001b[37m/Users/jpyatachkov/.anyenv/envs/rbenv/versions/2.6.3/lib/ruby/gems/2.6.0/gems/pry-0.12.2/lib/pry/pry_instance.rb:273:in `block in eval'\u001b[0m",
      "\u001b[37m/Users/jpyatachkov/.anyenv/envs/rbenv/versions/2.6.3/lib/ruby/gems/2.6.0/gems/pry-0.12.2/lib/pry/pry_instance.rb:272:in `catch'\u001b[0m",
      "\u001b[37m/Users/jpyatachkov/.anyenv/envs/rbenv/versions/2.6.3/lib/ruby/gems/2.6.0/gems/pry-0.12.2/lib/pry/pry_instance.rb:272:in `eval'\u001b[0m",
      "\u001b[37m/Users/jpyatachkov/.anyenv/envs/rbenv/versions/2.6.3/lib/ruby/gems/2.6.0/gems/iruby-0.3/lib/iruby/backend.rb:66:in `eval'\u001b[0m",
      "\u001b[37m/Users/jpyatachkov/.anyenv/envs/rbenv/versions/2.6.3/lib/ruby/gems/2.6.0/gems/iruby-0.3/lib/iruby/backend.rb:12:in `eval'\u001b[0m",
      "\u001b[37m/Users/jpyatachkov/.anyenv/envs/rbenv/versions/2.6.3/lib/ruby/gems/2.6.0/gems/iruby-0.3/lib/iruby/kernel.rb:87:in `execute_request'\u001b[0m",
      "\u001b[37m/Users/jpyatachkov/.anyenv/envs/rbenv/versions/2.6.3/lib/ruby/gems/2.6.0/gems/iruby-0.3/lib/iruby/kernel.rb:47:in `dispatch'\u001b[0m",
      "\u001b[37m/Users/jpyatachkov/.anyenv/envs/rbenv/versions/2.6.3/lib/ruby/gems/2.6.0/gems/iruby-0.3/lib/iruby/kernel.rb:37:in `run'\u001b[0m",
      "\u001b[37m/Users/jpyatachkov/.anyenv/envs/rbenv/versions/2.6.3/lib/ruby/gems/2.6.0/gems/iruby-0.3/lib/iruby/command.rb:70:in `run_kernel'\u001b[0m",
      "\u001b[37m/Users/jpyatachkov/.anyenv/envs/rbenv/versions/2.6.3/lib/ruby/gems/2.6.0/gems/iruby-0.3/lib/iruby/command.rb:34:in `run'\u001b[0m",
      "\u001b[37m/Users/jpyatachkov/.anyenv/envs/rbenv/versions/2.6.3/lib/ruby/gems/2.6.0/gems/iruby-0.3/bin/iruby:5:in `<top (required)>'\u001b[0m",
      "\u001b[37m/Users/jpyatachkov/.anyenv/envs/rbenv/versions/2.6.3/bin/iruby:23:in `load'\u001b[0m",
      "\u001b[37m/Users/jpyatachkov/.anyenv/envs/rbenv/versions/2.6.3/bin/iruby:23:in `<main>'\u001b[0m"
     ]
    }
   ],
   "source": [
    "ExampleClass.static"
   ]
  },
  {
   "cell_type": "code",
   "execution_count": 25,
   "metadata": {},
   "outputs": [
    {
     "data": {
      "text/plain": [
       "#<ExampleClass:0x00007f8d79895f90 @not_static=\"not_static\">"
      ]
     },
     "execution_count": 25,
     "metadata": {},
     "output_type": "execute_result"
    }
   ],
   "source": [
    "a = ExampleClass.new\n",
    "b = ExampleClass.new"
   ]
  },
  {
   "cell_type": "code",
   "execution_count": 27,
   "metadata": {},
   "outputs": [
    {
     "name": "stdout",
     "output_type": "stream",
     "text": [
      "10\n",
      "\"not_static\"\n"
     ]
    },
    {
     "data": {
      "text/plain": [
       "\"not_static\""
      ]
     },
     "execution_count": 27,
     "metadata": {},
     "output_type": "execute_result"
    }
   ],
   "source": [
    "a.update_not_static(10)\n",
    "a.print_not_static\n",
    "b.print_not_static"
   ]
  },
  {
   "cell_type": "code",
   "execution_count": 29,
   "metadata": {},
   "outputs": [
    {
     "name": "stdout",
     "output_type": "stream",
     "text": [
      "20\n",
      "20\n"
     ]
    },
    {
     "data": {
      "text/plain": [
       "20"
      ]
     },
     "execution_count": 29,
     "metadata": {},
     "output_type": "execute_result"
    }
   ],
   "source": [
    "b.update_static(20)\n",
    "b.print_static\n",
    "a.print_static"
   ]
  },
  {
   "cell_type": "markdown",
   "metadata": {},
   "source": [
    "\"Статические\" переменные разделяют свое значение между всеми экземплярами класса, а каждый экземпляр может это общее значение менять. Такая организация кода приводит к большому количеству ошибок при его усложнении, поэтому **пользоваться `@@` крайне не рекомендую!**"
   ]
  },
  {
   "cell_type": "markdown",
   "metadata": {},
   "source": [
    "Для того, чтобы переменные уровня объекта были доступны извне, нужно описать соответствующие методы. По соглашению методы называются так же, как и соответствующие им атрибуты (только без `@`):"
   ]
  },
  {
   "cell_type": "code",
   "execution_count": 32,
   "metadata": {},
   "outputs": [
    {
     "name": "stdout",
     "output_type": "stream",
     "text": [
      "10\n",
      "100\n"
     ]
    }
   ],
   "source": [
    "class ExplicitAttrs\n",
    "  def initialize\n",
    "    @a = 10\n",
    "  end\n",
    "  \n",
    "  # Геттер.\n",
    "  def a\n",
    "    @a\n",
    "  end\n",
    "  \n",
    "  # Сеттер.\n",
    "  def a=(v)\n",
    "    @a = v\n",
    "  end\n",
    "end\n",
    "\n",
    "ea = ExplicitAttrs.new\n",
    "\n",
    "puts ea.a\n",
    "ea.a = 100\n",
    "puts ea.a"
   ]
  },
  {
   "cell_type": "markdown",
   "metadata": {},
   "source": [
    "Если мы хотим, чтобы атрибут был доступен только для чтения или только для записи, мы должны определить один соответствующий метод - или геттер, или сеттер.\n",
    "\n",
    "Чтобы не мучиться с большим количеством однотипного кода и не загромождать класс, можно пользовать встроенными макросами:\n",
    "\n",
    "* `attr_reader` создаст только геттер;\n",
    "* `attr_writer` создаст только сеттер;\n",
    "* `attr_accessor` можно использовать, если нужен и геттер, и сеттер (то же самое, что написать сначала `attr_reader`, затем `attr_writer`);"
   ]
  },
  {
   "cell_type": "code",
   "execution_count": 35,
   "metadata": {},
   "outputs": [
    {
     "data": {
      "text/plain": [
       ":inspect"
      ]
     },
     "execution_count": 35,
     "metadata": {},
     "output_type": "execute_result"
    }
   ],
   "source": [
    "class ImplicitAttrs\n",
    "  attr_reader :a\n",
    "  attr_writer :b\n",
    "  attr_accessor :c\n",
    "  \n",
    "  # Этот метод вызовется, если распечатать объект через p.\n",
    "  def inspect\n",
    "    \"a: #{@a}, b: #{@b}, c: #{@c}\"\n",
    "  end\n",
    "end"
   ]
  },
  {
   "cell_type": "markdown",
   "metadata": {},
   "source": [
    "При этом **необязательно объявлять атрибуты в конструкторе (методе `initialize`)**. Начальное значение будет `nil`, а потом "
   ]
  },
  {
   "cell_type": "code",
   "execution_count": 36,
   "metadata": {},
   "outputs": [
    {
     "data": {
      "text/plain": [
       "a: , b: , c: "
      ]
     },
     "execution_count": 36,
     "metadata": {},
     "output_type": "execute_result"
    }
   ],
   "source": [
    "ia = ImplicitAttrs.new"
   ]
  },
  {
   "cell_type": "code",
   "execution_count": 38,
   "metadata": {},
   "outputs": [
    {
     "data": {
      "text/plain": [
       "true"
      ]
     },
     "execution_count": 38,
     "metadata": {},
     "output_type": "execute_result"
    }
   ],
   "source": [
    "ia.a.nil?"
   ]
  },
  {
   "cell_type": "code",
   "execution_count": 43,
   "metadata": {},
   "outputs": [
    {
     "ename": "NoMethodError",
     "evalue": "undefined method `a=' for a: , b: 10, c: 100:ImplicitAttrs\nDid you mean?  a",
     "output_type": "error",
     "traceback": [
      "\u001b[31mNoMethodError\u001b[0m: undefined method `a=' for a: , b: 10, c: 100:ImplicitAttrs\nDid you mean?  a",
      "\u001b[37m(pry):178:in `<main>'\u001b[0m",
      "\u001b[37m/Users/jpyatachkov/.anyenv/envs/rbenv/versions/2.6.3/lib/ruby/gems/2.6.0/gems/pry-0.12.2/lib/pry/pry_instance.rb:387:in `eval'\u001b[0m",
      "\u001b[37m/Users/jpyatachkov/.anyenv/envs/rbenv/versions/2.6.3/lib/ruby/gems/2.6.0/gems/pry-0.12.2/lib/pry/pry_instance.rb:387:in `evaluate_ruby'\u001b[0m",
      "\u001b[37m/Users/jpyatachkov/.anyenv/envs/rbenv/versions/2.6.3/lib/ruby/gems/2.6.0/gems/pry-0.12.2/lib/pry/pry_instance.rb:355:in `handle_line'\u001b[0m",
      "\u001b[37m/Users/jpyatachkov/.anyenv/envs/rbenv/versions/2.6.3/lib/ruby/gems/2.6.0/gems/pry-0.12.2/lib/pry/pry_instance.rb:274:in `block (2 levels) in eval'\u001b[0m",
      "\u001b[37m/Users/jpyatachkov/.anyenv/envs/rbenv/versions/2.6.3/lib/ruby/gems/2.6.0/gems/pry-0.12.2/lib/pry/pry_instance.rb:273:in `catch'\u001b[0m",
      "\u001b[37m/Users/jpyatachkov/.anyenv/envs/rbenv/versions/2.6.3/lib/ruby/gems/2.6.0/gems/pry-0.12.2/lib/pry/pry_instance.rb:273:in `block in eval'\u001b[0m",
      "\u001b[37m/Users/jpyatachkov/.anyenv/envs/rbenv/versions/2.6.3/lib/ruby/gems/2.6.0/gems/pry-0.12.2/lib/pry/pry_instance.rb:272:in `catch'\u001b[0m",
      "\u001b[37m/Users/jpyatachkov/.anyenv/envs/rbenv/versions/2.6.3/lib/ruby/gems/2.6.0/gems/pry-0.12.2/lib/pry/pry_instance.rb:272:in `eval'\u001b[0m",
      "\u001b[37m/Users/jpyatachkov/.anyenv/envs/rbenv/versions/2.6.3/lib/ruby/gems/2.6.0/gems/iruby-0.3/lib/iruby/backend.rb:66:in `eval'\u001b[0m",
      "\u001b[37m/Users/jpyatachkov/.anyenv/envs/rbenv/versions/2.6.3/lib/ruby/gems/2.6.0/gems/iruby-0.3/lib/iruby/backend.rb:12:in `eval'\u001b[0m",
      "\u001b[37m/Users/jpyatachkov/.anyenv/envs/rbenv/versions/2.6.3/lib/ruby/gems/2.6.0/gems/iruby-0.3/lib/iruby/kernel.rb:87:in `execute_request'\u001b[0m",
      "\u001b[37m/Users/jpyatachkov/.anyenv/envs/rbenv/versions/2.6.3/lib/ruby/gems/2.6.0/gems/iruby-0.3/lib/iruby/kernel.rb:47:in `dispatch'\u001b[0m",
      "\u001b[37m/Users/jpyatachkov/.anyenv/envs/rbenv/versions/2.6.3/lib/ruby/gems/2.6.0/gems/iruby-0.3/lib/iruby/kernel.rb:37:in `run'\u001b[0m",
      "\u001b[37m/Users/jpyatachkov/.anyenv/envs/rbenv/versions/2.6.3/lib/ruby/gems/2.6.0/gems/iruby-0.3/lib/iruby/command.rb:70:in `run_kernel'\u001b[0m",
      "\u001b[37m/Users/jpyatachkov/.anyenv/envs/rbenv/versions/2.6.3/lib/ruby/gems/2.6.0/gems/iruby-0.3/lib/iruby/command.rb:34:in `run'\u001b[0m",
      "\u001b[37m/Users/jpyatachkov/.anyenv/envs/rbenv/versions/2.6.3/lib/ruby/gems/2.6.0/gems/iruby-0.3/bin/iruby:5:in `<top (required)>'\u001b[0m",
      "\u001b[37m/Users/jpyatachkov/.anyenv/envs/rbenv/versions/2.6.3/bin/iruby:23:in `load'\u001b[0m",
      "\u001b[37m/Users/jpyatachkov/.anyenv/envs/rbenv/versions/2.6.3/bin/iruby:23:in `<main>'\u001b[0m"
     ]
    }
   ],
   "source": [
    "ia.a = 1"
   ]
  },
  {
   "cell_type": "code",
   "execution_count": 39,
   "metadata": {},
   "outputs": [
    {
     "ename": "NoMethodError",
     "evalue": "undefined method `b' for a: , b: , c: :ImplicitAttrs\nDid you mean?  b=",
     "output_type": "error",
     "traceback": [
      "\u001b[31mNoMethodError\u001b[0m: undefined method `b' for a: , b: , c: :ImplicitAttrs\nDid you mean?  b=",
      "\u001b[37m(pry):172:in `<main>'\u001b[0m",
      "\u001b[37m/Users/jpyatachkov/.anyenv/envs/rbenv/versions/2.6.3/lib/ruby/gems/2.6.0/gems/pry-0.12.2/lib/pry/pry_instance.rb:387:in `eval'\u001b[0m",
      "\u001b[37m/Users/jpyatachkov/.anyenv/envs/rbenv/versions/2.6.3/lib/ruby/gems/2.6.0/gems/pry-0.12.2/lib/pry/pry_instance.rb:387:in `evaluate_ruby'\u001b[0m",
      "\u001b[37m/Users/jpyatachkov/.anyenv/envs/rbenv/versions/2.6.3/lib/ruby/gems/2.6.0/gems/pry-0.12.2/lib/pry/pry_instance.rb:355:in `handle_line'\u001b[0m",
      "\u001b[37m/Users/jpyatachkov/.anyenv/envs/rbenv/versions/2.6.3/lib/ruby/gems/2.6.0/gems/pry-0.12.2/lib/pry/pry_instance.rb:274:in `block (2 levels) in eval'\u001b[0m",
      "\u001b[37m/Users/jpyatachkov/.anyenv/envs/rbenv/versions/2.6.3/lib/ruby/gems/2.6.0/gems/pry-0.12.2/lib/pry/pry_instance.rb:273:in `catch'\u001b[0m",
      "\u001b[37m/Users/jpyatachkov/.anyenv/envs/rbenv/versions/2.6.3/lib/ruby/gems/2.6.0/gems/pry-0.12.2/lib/pry/pry_instance.rb:273:in `block in eval'\u001b[0m",
      "\u001b[37m/Users/jpyatachkov/.anyenv/envs/rbenv/versions/2.6.3/lib/ruby/gems/2.6.0/gems/pry-0.12.2/lib/pry/pry_instance.rb:272:in `catch'\u001b[0m",
      "\u001b[37m/Users/jpyatachkov/.anyenv/envs/rbenv/versions/2.6.3/lib/ruby/gems/2.6.0/gems/pry-0.12.2/lib/pry/pry_instance.rb:272:in `eval'\u001b[0m",
      "\u001b[37m/Users/jpyatachkov/.anyenv/envs/rbenv/versions/2.6.3/lib/ruby/gems/2.6.0/gems/iruby-0.3/lib/iruby/backend.rb:66:in `eval'\u001b[0m",
      "\u001b[37m/Users/jpyatachkov/.anyenv/envs/rbenv/versions/2.6.3/lib/ruby/gems/2.6.0/gems/iruby-0.3/lib/iruby/backend.rb:12:in `eval'\u001b[0m",
      "\u001b[37m/Users/jpyatachkov/.anyenv/envs/rbenv/versions/2.6.3/lib/ruby/gems/2.6.0/gems/iruby-0.3/lib/iruby/kernel.rb:87:in `execute_request'\u001b[0m",
      "\u001b[37m/Users/jpyatachkov/.anyenv/envs/rbenv/versions/2.6.3/lib/ruby/gems/2.6.0/gems/iruby-0.3/lib/iruby/kernel.rb:47:in `dispatch'\u001b[0m",
      "\u001b[37m/Users/jpyatachkov/.anyenv/envs/rbenv/versions/2.6.3/lib/ruby/gems/2.6.0/gems/iruby-0.3/lib/iruby/kernel.rb:37:in `run'\u001b[0m",
      "\u001b[37m/Users/jpyatachkov/.anyenv/envs/rbenv/versions/2.6.3/lib/ruby/gems/2.6.0/gems/iruby-0.3/lib/iruby/command.rb:70:in `run_kernel'\u001b[0m",
      "\u001b[37m/Users/jpyatachkov/.anyenv/envs/rbenv/versions/2.6.3/lib/ruby/gems/2.6.0/gems/iruby-0.3/lib/iruby/command.rb:34:in `run'\u001b[0m",
      "\u001b[37m/Users/jpyatachkov/.anyenv/envs/rbenv/versions/2.6.3/lib/ruby/gems/2.6.0/gems/iruby-0.3/bin/iruby:5:in `<top (required)>'\u001b[0m",
      "\u001b[37m/Users/jpyatachkov/.anyenv/envs/rbenv/versions/2.6.3/bin/iruby:23:in `load'\u001b[0m",
      "\u001b[37m/Users/jpyatachkov/.anyenv/envs/rbenv/versions/2.6.3/bin/iruby:23:in `<main>'\u001b[0m"
     ]
    }
   ],
   "source": [
    "ia.b"
   ]
  },
  {
   "cell_type": "code",
   "execution_count": 40,
   "metadata": {},
   "outputs": [
    {
     "data": {
      "text/plain": [
       "a: , b: 10, c: "
      ]
     },
     "execution_count": 40,
     "metadata": {},
     "output_type": "execute_result"
    }
   ],
   "source": [
    "ia.b = 10\n",
    "ia"
   ]
  },
  {
   "cell_type": "code",
   "execution_count": 41,
   "metadata": {},
   "outputs": [
    {
     "data": {
      "text/plain": [
       "100"
      ]
     },
     "execution_count": 41,
     "metadata": {},
     "output_type": "execute_result"
    }
   ],
   "source": [
    "ia.c = 100\n",
    "ia.c"
   ]
  },
  {
   "cell_type": "code",
   "execution_count": 42,
   "metadata": {},
   "outputs": [
    {
     "data": {
      "text/plain": [
       "a: , b: 10, c: 100"
      ]
     },
     "execution_count": 42,
     "metadata": {},
     "output_type": "execute_result"
    }
   ],
   "source": [
    "ia"
   ]
  },
  {
   "cell_type": "markdown",
   "metadata": {},
   "source": [
    "Обычно **нигде, кроме конструктора, не пользуются `@`, а создают `attr_*` в зависимости от того, что нужно**!"
   ]
  },
  {
   "cell_type": "markdown",
   "metadata": {},
   "source": [
    "## Инкапсуляция"
   ]
  },
  {
   "cell_type": "markdown",
   "metadata": {},
   "source": [
    "Для инкапсуляции предусмотрены специальные ключевые слова (читай - методы):"
   ]
  },
  {
   "cell_type": "code",
   "execution_count": 51,
   "metadata": {},
   "outputs": [
    {
     "data": {
      "text/plain": [
       ":also_public"
      ]
     },
     "execution_count": 51,
     "metadata": {},
     "output_type": "execute_result"
    }
   ],
   "source": [
    "class EncapsulationExample\n",
    "  def public_method\n",
    "    puts 'public'\n",
    "  end\n",
    "  \n",
    "  protected\n",
    "  \n",
    "  def protected1\n",
    "    puts 'protected1'\n",
    "  end\n",
    "  \n",
    "  def protected2\n",
    "    puts 'protected2'\n",
    "  end\n",
    "  \n",
    "  private\n",
    "  \n",
    "  def private1\n",
    "    puts 'private1'\n",
    "  end\n",
    "  \n",
    "  public\n",
    "  \n",
    "  def also_public\n",
    "    puts 'also public'\n",
    "  end\n",
    "end"
   ]
  },
  {
   "cell_type": "code",
   "execution_count": 46,
   "metadata": {},
   "outputs": [
    {
     "data": {
      "text/plain": [
       "#<EncapsulationExample:0x00007f8d7808d0b0>"
      ]
     },
     "execution_count": 46,
     "metadata": {},
     "output_type": "execute_result"
    }
   ],
   "source": [
    "ee = EncapsulationExample.new"
   ]
  },
  {
   "cell_type": "code",
   "execution_count": 47,
   "metadata": {},
   "outputs": [
    {
     "name": "stdout",
     "output_type": "stream",
     "text": [
      "public\n"
     ]
    }
   ],
   "source": [
    "ee.public_method"
   ]
  },
  {
   "cell_type": "code",
   "execution_count": 48,
   "metadata": {},
   "outputs": [
    {
     "name": "stdout",
     "output_type": "stream",
     "text": [
      "also public\n"
     ]
    }
   ],
   "source": [
    "ee.also_public"
   ]
  },
  {
   "cell_type": "code",
   "execution_count": 49,
   "metadata": {},
   "outputs": [
    {
     "ename": "NoMethodError",
     "evalue": "protected method `protected1' called for #<EncapsulationExample:0x00007f8d7808d0b0>\nDid you mean?  protected2",
     "output_type": "error",
     "traceback": [
      "\u001b[31mNoMethodError\u001b[0m: protected method `protected1' called for #<EncapsulationExample:0x00007f8d7808d0b0>\nDid you mean?  protected2",
      "\u001b[37m(pry):207:in `<main>'\u001b[0m",
      "\u001b[37m/Users/jpyatachkov/.anyenv/envs/rbenv/versions/2.6.3/lib/ruby/gems/2.6.0/gems/pry-0.12.2/lib/pry/pry_instance.rb:387:in `eval'\u001b[0m",
      "\u001b[37m/Users/jpyatachkov/.anyenv/envs/rbenv/versions/2.6.3/lib/ruby/gems/2.6.0/gems/pry-0.12.2/lib/pry/pry_instance.rb:387:in `evaluate_ruby'\u001b[0m",
      "\u001b[37m/Users/jpyatachkov/.anyenv/envs/rbenv/versions/2.6.3/lib/ruby/gems/2.6.0/gems/pry-0.12.2/lib/pry/pry_instance.rb:355:in `handle_line'\u001b[0m",
      "\u001b[37m/Users/jpyatachkov/.anyenv/envs/rbenv/versions/2.6.3/lib/ruby/gems/2.6.0/gems/pry-0.12.2/lib/pry/pry_instance.rb:274:in `block (2 levels) in eval'\u001b[0m",
      "\u001b[37m/Users/jpyatachkov/.anyenv/envs/rbenv/versions/2.6.3/lib/ruby/gems/2.6.0/gems/pry-0.12.2/lib/pry/pry_instance.rb:273:in `catch'\u001b[0m",
      "\u001b[37m/Users/jpyatachkov/.anyenv/envs/rbenv/versions/2.6.3/lib/ruby/gems/2.6.0/gems/pry-0.12.2/lib/pry/pry_instance.rb:273:in `block in eval'\u001b[0m",
      "\u001b[37m/Users/jpyatachkov/.anyenv/envs/rbenv/versions/2.6.3/lib/ruby/gems/2.6.0/gems/pry-0.12.2/lib/pry/pry_instance.rb:272:in `catch'\u001b[0m",
      "\u001b[37m/Users/jpyatachkov/.anyenv/envs/rbenv/versions/2.6.3/lib/ruby/gems/2.6.0/gems/pry-0.12.2/lib/pry/pry_instance.rb:272:in `eval'\u001b[0m",
      "\u001b[37m/Users/jpyatachkov/.anyenv/envs/rbenv/versions/2.6.3/lib/ruby/gems/2.6.0/gems/iruby-0.3/lib/iruby/backend.rb:66:in `eval'\u001b[0m",
      "\u001b[37m/Users/jpyatachkov/.anyenv/envs/rbenv/versions/2.6.3/lib/ruby/gems/2.6.0/gems/iruby-0.3/lib/iruby/backend.rb:12:in `eval'\u001b[0m",
      "\u001b[37m/Users/jpyatachkov/.anyenv/envs/rbenv/versions/2.6.3/lib/ruby/gems/2.6.0/gems/iruby-0.3/lib/iruby/kernel.rb:87:in `execute_request'\u001b[0m",
      "\u001b[37m/Users/jpyatachkov/.anyenv/envs/rbenv/versions/2.6.3/lib/ruby/gems/2.6.0/gems/iruby-0.3/lib/iruby/kernel.rb:47:in `dispatch'\u001b[0m",
      "\u001b[37m/Users/jpyatachkov/.anyenv/envs/rbenv/versions/2.6.3/lib/ruby/gems/2.6.0/gems/iruby-0.3/lib/iruby/kernel.rb:37:in `run'\u001b[0m",
      "\u001b[37m/Users/jpyatachkov/.anyenv/envs/rbenv/versions/2.6.3/lib/ruby/gems/2.6.0/gems/iruby-0.3/lib/iruby/command.rb:70:in `run_kernel'\u001b[0m",
      "\u001b[37m/Users/jpyatachkov/.anyenv/envs/rbenv/versions/2.6.3/lib/ruby/gems/2.6.0/gems/iruby-0.3/lib/iruby/command.rb:34:in `run'\u001b[0m",
      "\u001b[37m/Users/jpyatachkov/.anyenv/envs/rbenv/versions/2.6.3/lib/ruby/gems/2.6.0/gems/iruby-0.3/bin/iruby:5:in `<top (required)>'\u001b[0m",
      "\u001b[37m/Users/jpyatachkov/.anyenv/envs/rbenv/versions/2.6.3/bin/iruby:23:in `load'\u001b[0m",
      "\u001b[37m/Users/jpyatachkov/.anyenv/envs/rbenv/versions/2.6.3/bin/iruby:23:in `<main>'\u001b[0m"
     ]
    }
   ],
   "source": [
    "ee.protected1"
   ]
  },
  {
   "cell_type": "code",
   "execution_count": 50,
   "metadata": {},
   "outputs": [
    {
     "ename": "NoMethodError",
     "evalue": "private method `private1' called for #<EncapsulationExample:0x00007f8d7808d0b0>",
     "output_type": "error",
     "traceback": [
      "\u001b[31mNoMethodError\u001b[0m: private method `private1' called for #<EncapsulationExample:0x00007f8d7808d0b0>",
      "\u001b[37m(pry):208:in `<main>'\u001b[0m",
      "\u001b[37m/Users/jpyatachkov/.anyenv/envs/rbenv/versions/2.6.3/lib/ruby/gems/2.6.0/gems/pry-0.12.2/lib/pry/pry_instance.rb:387:in `eval'\u001b[0m",
      "\u001b[37m/Users/jpyatachkov/.anyenv/envs/rbenv/versions/2.6.3/lib/ruby/gems/2.6.0/gems/pry-0.12.2/lib/pry/pry_instance.rb:387:in `evaluate_ruby'\u001b[0m",
      "\u001b[37m/Users/jpyatachkov/.anyenv/envs/rbenv/versions/2.6.3/lib/ruby/gems/2.6.0/gems/pry-0.12.2/lib/pry/pry_instance.rb:355:in `handle_line'\u001b[0m",
      "\u001b[37m/Users/jpyatachkov/.anyenv/envs/rbenv/versions/2.6.3/lib/ruby/gems/2.6.0/gems/pry-0.12.2/lib/pry/pry_instance.rb:274:in `block (2 levels) in eval'\u001b[0m",
      "\u001b[37m/Users/jpyatachkov/.anyenv/envs/rbenv/versions/2.6.3/lib/ruby/gems/2.6.0/gems/pry-0.12.2/lib/pry/pry_instance.rb:273:in `catch'\u001b[0m",
      "\u001b[37m/Users/jpyatachkov/.anyenv/envs/rbenv/versions/2.6.3/lib/ruby/gems/2.6.0/gems/pry-0.12.2/lib/pry/pry_instance.rb:273:in `block in eval'\u001b[0m",
      "\u001b[37m/Users/jpyatachkov/.anyenv/envs/rbenv/versions/2.6.3/lib/ruby/gems/2.6.0/gems/pry-0.12.2/lib/pry/pry_instance.rb:272:in `catch'\u001b[0m",
      "\u001b[37m/Users/jpyatachkov/.anyenv/envs/rbenv/versions/2.6.3/lib/ruby/gems/2.6.0/gems/pry-0.12.2/lib/pry/pry_instance.rb:272:in `eval'\u001b[0m",
      "\u001b[37m/Users/jpyatachkov/.anyenv/envs/rbenv/versions/2.6.3/lib/ruby/gems/2.6.0/gems/iruby-0.3/lib/iruby/backend.rb:66:in `eval'\u001b[0m",
      "\u001b[37m/Users/jpyatachkov/.anyenv/envs/rbenv/versions/2.6.3/lib/ruby/gems/2.6.0/gems/iruby-0.3/lib/iruby/backend.rb:12:in `eval'\u001b[0m",
      "\u001b[37m/Users/jpyatachkov/.anyenv/envs/rbenv/versions/2.6.3/lib/ruby/gems/2.6.0/gems/iruby-0.3/lib/iruby/kernel.rb:87:in `execute_request'\u001b[0m",
      "\u001b[37m/Users/jpyatachkov/.anyenv/envs/rbenv/versions/2.6.3/lib/ruby/gems/2.6.0/gems/iruby-0.3/lib/iruby/kernel.rb:47:in `dispatch'\u001b[0m",
      "\u001b[37m/Users/jpyatachkov/.anyenv/envs/rbenv/versions/2.6.3/lib/ruby/gems/2.6.0/gems/iruby-0.3/lib/iruby/kernel.rb:37:in `run'\u001b[0m",
      "\u001b[37m/Users/jpyatachkov/.anyenv/envs/rbenv/versions/2.6.3/lib/ruby/gems/2.6.0/gems/iruby-0.3/lib/iruby/command.rb:70:in `run_kernel'\u001b[0m",
      "\u001b[37m/Users/jpyatachkov/.anyenv/envs/rbenv/versions/2.6.3/lib/ruby/gems/2.6.0/gems/iruby-0.3/lib/iruby/command.rb:34:in `run'\u001b[0m",
      "\u001b[37m/Users/jpyatachkov/.anyenv/envs/rbenv/versions/2.6.3/lib/ruby/gems/2.6.0/gems/iruby-0.3/bin/iruby:5:in `<top (required)>'\u001b[0m",
      "\u001b[37m/Users/jpyatachkov/.anyenv/envs/rbenv/versions/2.6.3/bin/iruby:23:in `load'\u001b[0m",
      "\u001b[37m/Users/jpyatachkov/.anyenv/envs/rbenv/versions/2.6.3/bin/iruby:23:in `<main>'\u001b[0m"
     ]
    }
   ],
   "source": [
    "ee.private1"
   ]
  },
  {
   "cell_type": "markdown",
   "metadata": {},
   "source": [
    "Тем не менее, ограничение достаточно легко обходится с помощью встроенного механизма обмена сообщениями (вообще говоря, вызов метода в Ruby - это и есть отправка сообщения)."
   ]
  },
  {
   "cell_type": "code",
   "execution_count": 52,
   "metadata": {},
   "outputs": [
    {
     "name": "stdout",
     "output_type": "stream",
     "text": [
      "private1\n"
     ]
    }
   ],
   "source": [
    "ee.send(:private1)"
   ]
  },
  {
   "cell_type": "markdown",
   "metadata": {},
   "source": [
    "## Наследование "
   ]
  },
  {
   "cell_type": "code",
   "execution_count": 8,
   "metadata": {},
   "outputs": [
    {
     "data": {
      "text/plain": [
       "Object"
      ]
     },
     "execution_count": 8,
     "metadata": {},
     "output_type": "execute_result"
    }
   ],
   "source": [
    "ExampleClass.superclass # Родительский класс."
   ]
  },
  {
   "cell_type": "code",
   "execution_count": 9,
   "metadata": {},
   "outputs": [
    {
     "data": {
      "text/plain": [
       "[ExampleClass, Object, PP::ObjectMixin, JSON::Ext::Generator::GeneratorMethods::Object, Kernel, BasicObject]"
      ]
     },
     "execution_count": 9,
     "metadata": {},
     "output_type": "execute_result"
    }
   ],
   "source": [
    "ExampleClass.ancestors # Цепочка наследования"
   ]
  },
  {
   "cell_type": "code",
   "execution_count": 1,
   "metadata": {},
   "outputs": [
    {
     "data": {
      "text/plain": [
       ":initialize"
      ]
     },
     "execution_count": 1,
     "metadata": {},
     "output_type": "execute_result"
    }
   ],
   "source": [
    "class Figure\n",
    "  attr_accessor :width, :length\n",
    "  \n",
    "  def initialize(width, length)\n",
    "    @width = width\n",
    "    @length = length\n",
    "  end\n",
    "  \n",
    "  def square\n",
    "    raise NotImplementedError, 'Method square is not implemented'\n",
    "  end\n",
    "  \n",
    "  def volume\n",
    "    raise NotImplementedError, 'Method volume is not implemented'\n",
    "  end\n",
    "end\n",
    "\n",
    "class Rectangle < Figure\n",
    "  def square\n",
    "    width * length\n",
    "  end\n",
    "end\n",
    "\n",
    "class Square < Rectangle\n",
    "  def initialize(s)\n",
    "    super(s, s)\n",
    "  end\n",
    "end"
   ]
  },
  {
   "cell_type": "code",
   "execution_count": 2,
   "metadata": {},
   "outputs": [
    {
     "data": {
      "text/plain": [
       "#<Square:0x00007fbd7195c1e0 @width=10, @length=10>"
      ]
     },
     "execution_count": 2,
     "metadata": {},
     "output_type": "execute_result"
    }
   ],
   "source": [
    "r = Rectangle.new(2, 7)\n",
    "s = Square.new(10)"
   ]
  },
  {
   "cell_type": "code",
   "execution_count": 3,
   "metadata": {},
   "outputs": [
    {
     "data": {
      "text/plain": [
       "14"
      ]
     },
     "execution_count": 3,
     "metadata": {},
     "output_type": "execute_result"
    }
   ],
   "source": [
    "r.square"
   ]
  },
  {
   "cell_type": "code",
   "execution_count": 4,
   "metadata": {},
   "outputs": [
    {
     "ename": "NotImplementedError",
     "evalue": "Method volume is not implemented",
     "output_type": "error",
     "traceback": [
      "\u001b[31mNotImplementedError\u001b[0m: Method volume is not implemented",
      "\u001b[37m(pry):14:in `volume'\u001b[0m",
      "\u001b[37m(pry):32:in `<main>'\u001b[0m",
      "\u001b[37m/Users/jpyatachkov/.anyenv/envs/rbenv/versions/2.6.3/lib/ruby/gems/2.6.0/gems/pry-0.12.2/lib/pry/pry_instance.rb:387:in `eval'\u001b[0m",
      "\u001b[37m/Users/jpyatachkov/.anyenv/envs/rbenv/versions/2.6.3/lib/ruby/gems/2.6.0/gems/pry-0.12.2/lib/pry/pry_instance.rb:387:in `evaluate_ruby'\u001b[0m",
      "\u001b[37m/Users/jpyatachkov/.anyenv/envs/rbenv/versions/2.6.3/lib/ruby/gems/2.6.0/gems/pry-0.12.2/lib/pry/pry_instance.rb:355:in `handle_line'\u001b[0m",
      "\u001b[37m/Users/jpyatachkov/.anyenv/envs/rbenv/versions/2.6.3/lib/ruby/gems/2.6.0/gems/pry-0.12.2/lib/pry/pry_instance.rb:274:in `block (2 levels) in eval'\u001b[0m",
      "\u001b[37m/Users/jpyatachkov/.anyenv/envs/rbenv/versions/2.6.3/lib/ruby/gems/2.6.0/gems/pry-0.12.2/lib/pry/pry_instance.rb:273:in `catch'\u001b[0m",
      "\u001b[37m/Users/jpyatachkov/.anyenv/envs/rbenv/versions/2.6.3/lib/ruby/gems/2.6.0/gems/pry-0.12.2/lib/pry/pry_instance.rb:273:in `block in eval'\u001b[0m",
      "\u001b[37m/Users/jpyatachkov/.anyenv/envs/rbenv/versions/2.6.3/lib/ruby/gems/2.6.0/gems/pry-0.12.2/lib/pry/pry_instance.rb:272:in `catch'\u001b[0m",
      "\u001b[37m/Users/jpyatachkov/.anyenv/envs/rbenv/versions/2.6.3/lib/ruby/gems/2.6.0/gems/pry-0.12.2/lib/pry/pry_instance.rb:272:in `eval'\u001b[0m",
      "\u001b[37m/Users/jpyatachkov/.anyenv/envs/rbenv/versions/2.6.3/lib/ruby/gems/2.6.0/gems/iruby-0.3/lib/iruby/backend.rb:66:in `eval'\u001b[0m",
      "\u001b[37m/Users/jpyatachkov/.anyenv/envs/rbenv/versions/2.6.3/lib/ruby/gems/2.6.0/gems/iruby-0.3/lib/iruby/backend.rb:12:in `eval'\u001b[0m",
      "\u001b[37m/Users/jpyatachkov/.anyenv/envs/rbenv/versions/2.6.3/lib/ruby/gems/2.6.0/gems/iruby-0.3/lib/iruby/kernel.rb:87:in `execute_request'\u001b[0m",
      "\u001b[37m/Users/jpyatachkov/.anyenv/envs/rbenv/versions/2.6.3/lib/ruby/gems/2.6.0/gems/iruby-0.3/lib/iruby/kernel.rb:47:in `dispatch'\u001b[0m",
      "\u001b[37m/Users/jpyatachkov/.anyenv/envs/rbenv/versions/2.6.3/lib/ruby/gems/2.6.0/gems/iruby-0.3/lib/iruby/kernel.rb:37:in `run'\u001b[0m",
      "\u001b[37m/Users/jpyatachkov/.anyenv/envs/rbenv/versions/2.6.3/lib/ruby/gems/2.6.0/gems/iruby-0.3/lib/iruby/command.rb:70:in `run_kernel'\u001b[0m",
      "\u001b[37m/Users/jpyatachkov/.anyenv/envs/rbenv/versions/2.6.3/lib/ruby/gems/2.6.0/gems/iruby-0.3/lib/iruby/command.rb:34:in `run'\u001b[0m",
      "\u001b[37m/Users/jpyatachkov/.anyenv/envs/rbenv/versions/2.6.3/lib/ruby/gems/2.6.0/gems/iruby-0.3/bin/iruby:5:in `<top (required)>'\u001b[0m",
      "\u001b[37m/Users/jpyatachkov/.anyenv/envs/rbenv/versions/2.6.3/bin/iruby:23:in `load'\u001b[0m",
      "\u001b[37m/Users/jpyatachkov/.anyenv/envs/rbenv/versions/2.6.3/bin/iruby:23:in `<main>'\u001b[0m"
     ]
    }
   ],
   "source": [
    "r.volume"
   ]
  },
  {
   "cell_type": "code",
   "execution_count": 5,
   "metadata": {},
   "outputs": [
    {
     "data": {
      "text/plain": [
       "100"
      ]
     },
     "execution_count": 5,
     "metadata": {},
     "output_type": "execute_result"
    }
   ],
   "source": [
    "s.square"
   ]
  },
  {
   "cell_type": "markdown",
   "metadata": {},
   "source": [
    "В Ruby **применяется одиночное наследование**."
   ]
  },
  {
   "cell_type": "markdown",
   "metadata": {},
   "source": [
    "Наследование как концепт хорошо в том случае, когда наследник - это **более специфичная версия родителя**, иногда оно **не нужно**.\n",
    "\n",
    "Допустим, мы хотим добавить в иерархию фигуры с объемом. Начнем с куба. Это можно сделать так:"
   ]
  },
  {
   "cell_type": "code",
   "execution_count": 10,
   "metadata": {},
   "outputs": [
    {
     "data": {
      "text/plain": [
       ":volume"
      ]
     },
     "execution_count": 10,
     "metadata": {},
     "output_type": "execute_result"
    }
   ],
   "source": [
    "class Cube < Square\n",
    "  attr_accessor :height\n",
    "  \n",
    "  def initialize(s)\n",
    "    super\n",
    "    @height = s\n",
    "  end\n",
    "  \n",
    "  def square\n",
    "    6 * super\n",
    "  end\n",
    "  \n",
    "  def volume\n",
    "    width**3\n",
    "  end\n",
    "end"
   ]
  },
  {
   "cell_type": "code",
   "execution_count": 11,
   "metadata": {},
   "outputs": [
    {
     "data": {
      "text/plain": [
       "#<Cube:0x00007fbd702f5fc8 @width=5, @length=5, @height=5>"
      ]
     },
     "execution_count": 11,
     "metadata": {},
     "output_type": "execute_result"
    }
   ],
   "source": [
    "c = Cube.new(5)"
   ]
  },
  {
   "cell_type": "code",
   "execution_count": 12,
   "metadata": {},
   "outputs": [
    {
     "data": {
      "text/plain": [
       "150"
      ]
     },
     "execution_count": 12,
     "metadata": {},
     "output_type": "execute_result"
    }
   ],
   "source": [
    "c.square"
   ]
  },
  {
   "cell_type": "code",
   "execution_count": 13,
   "metadata": {},
   "outputs": [
    {
     "data": {
      "text/plain": [
       "125"
      ]
     },
     "execution_count": 13,
     "metadata": {},
     "output_type": "execute_result"
    }
   ],
   "source": [
    "c.volume"
   ]
  },
  {
   "cell_type": "markdown",
   "metadata": {},
   "source": [
    "Теперь попробуем добавить прямоугольный параллелепипед по аналогии:"
   ]
  },
  {
   "cell_type": "code",
   "execution_count": 2,
   "metadata": {},
   "outputs": [
    {
     "data": {
      "text/plain": [
       ":volume"
      ]
     },
     "execution_count": 2,
     "metadata": {},
     "output_type": "execute_result"
    }
   ],
   "source": [
    "class RectangularParallelepiped < Rectangle\n",
    "  attr_accessor :height\n",
    "  \n",
    "  def initialize(width, length, height)\n",
    "    super(width, length)\n",
    "    @height = height\n",
    "  end\n",
    "  \n",
    "  def square\n",
    "    2 * (width * height + width * length + length * height)\n",
    "  end\n",
    "  \n",
    "  def volume\n",
    "    width * length * height\n",
    "  end\n",
    "end"
   ]
  },
  {
   "cell_type": "code",
   "execution_count": 4,
   "metadata": {},
   "outputs": [
    {
     "data": {
      "text/plain": [
       "#<RectangularParallelepiped:0x00007fc88168c8a0 @width=1, @length=2, @height=3>"
      ]
     },
     "execution_count": 4,
     "metadata": {},
     "output_type": "execute_result"
    }
   ],
   "source": [
    "rp = RectangularParallelepiped.new(1, 2, 3)"
   ]
  },
  {
   "cell_type": "code",
   "execution_count": 5,
   "metadata": {},
   "outputs": [
    {
     "data": {
      "text/plain": [
       "22"
      ]
     },
     "execution_count": 5,
     "metadata": {},
     "output_type": "execute_result"
    }
   ],
   "source": [
    "rp.square"
   ]
  },
  {
   "cell_type": "code",
   "execution_count": 6,
   "metadata": {},
   "outputs": [
    {
     "data": {
      "text/plain": [
       "6"
      ]
     },
     "execution_count": 6,
     "metadata": {},
     "output_type": "execute_result"
    }
   ],
   "source": [
    "rp.volume"
   ]
  },
  {
   "cell_type": "markdown",
   "metadata": {},
   "source": [
    "Налицо дублирование кода. Попробуем переделать иерархию"
   ]
  },
  {
   "cell_type": "code",
   "execution_count": 7,
   "metadata": {},
   "outputs": [
    {
     "data": {
      "text/plain": [
       ":initialize"
      ]
     },
     "execution_count": 7,
     "metadata": {},
     "output_type": "execute_result"
    }
   ],
   "source": [
    "class FigureV2\n",
    "  def square\n",
    "    raise NotImplementedError, 'Method square is not implemented'\n",
    "  end\n",
    "  \n",
    "  def volume\n",
    "    raise NotImplementedError, 'Method volume is not implemented'\n",
    "  end\n",
    "end\n",
    "\n",
    "class FlatFigure < FigureV2\n",
    "  attr_accessor :width, :length\n",
    "  \n",
    "  def initialize(width, length)\n",
    "    @width = width\n",
    "    @length = length\n",
    "  end\n",
    "end\n",
    "\n",
    "class VolumeFigure < FlatFigure\n",
    "  attr_accessor :height\n",
    "  \n",
    "  def initialize(width, length, height)\n",
    "    super(width, length)\n",
    "    @height = height\n",
    "  end\n",
    "end"
   ]
  },
  {
   "cell_type": "markdown",
   "metadata": {},
   "source": [
    "Концептуально так более правильно, попробуем реализовать прямоугольник и квадрат"
   ]
  },
  {
   "cell_type": "code",
   "execution_count": 8,
   "metadata": {},
   "outputs": [
    {
     "data": {
      "text/plain": [
       ":initialize"
      ]
     },
     "execution_count": 8,
     "metadata": {},
     "output_type": "execute_result"
    }
   ],
   "source": [
    "class RectangleV2 < FlatFigure\n",
    "  def square\n",
    "    width * length\n",
    "  end\n",
    "end\n",
    "\n",
    "class SquareV2 < Rectangle\n",
    "  def initialize(s)\n",
    "    super(s, s)\n",
    "  end\n",
    "end"
   ]
  },
  {
   "cell_type": "code",
   "execution_count": 9,
   "metadata": {},
   "outputs": [
    {
     "data": {
      "text/plain": [
       "#<SquareV2:0x00007fc8838b3a00 @width=6, @length=6>"
      ]
     },
     "execution_count": 9,
     "metadata": {},
     "output_type": "execute_result"
    }
   ],
   "source": [
    "r2 = RectangleV2.new(4, 7)\n",
    "s2 = SquareV2.new(6)"
   ]
  },
  {
   "cell_type": "code",
   "execution_count": 10,
   "metadata": {},
   "outputs": [
    {
     "data": {
      "text/plain": [
       "28"
      ]
     },
     "execution_count": 10,
     "metadata": {},
     "output_type": "execute_result"
    }
   ],
   "source": [
    "r2.square"
   ]
  },
  {
   "cell_type": "code",
   "execution_count": 11,
   "metadata": {},
   "outputs": [
    {
     "data": {
      "text/plain": [
       "36"
      ]
     },
     "execution_count": 11,
     "metadata": {},
     "output_type": "execute_result"
    }
   ],
   "source": [
    "s2.square"
   ]
  },
  {
   "cell_type": "markdown",
   "metadata": {},
   "source": [
    "Пока все идет неплохо, но вот что делать, если мы хотим реализовать куб и параллелепипед? С одной стороны, нужно наследоваться от `VolumeFigure`, чтобы два раза не определять атрибут `height`, с другой - от `Rectangle`, чтобы не определять два раза вычисление площади, с третьей - вообще от `Square`, чтобы сохранить удобную сигнатуру конструктора.\n",
    "\n",
    "Выход есть - **примеси**!"
   ]
  },
  {
   "cell_type": "code",
   "execution_count": 12,
   "metadata": {},
   "outputs": [
    {
     "data": {
      "text/plain": [
       ":volume"
      ]
     },
     "execution_count": 12,
     "metadata": {},
     "output_type": "execute_result"
    }
   ],
   "source": [
    "module Squareable\n",
    "  def square\n",
    "    width * length\n",
    "  end\n",
    "end\n",
    "\n",
    "module Volumeable\n",
    "  def volume\n",
    "    width * length * height \n",
    "  end\n",
    "end"
   ]
  },
  {
   "cell_type": "code",
   "execution_count": 22,
   "metadata": {},
   "outputs": [
    {
     "data": {
      "text/plain": [
       ":square"
      ]
     },
     "execution_count": 22,
     "metadata": {},
     "output_type": "execute_result"
    }
   ],
   "source": [
    "class CubeV2 < VolumeFigure\n",
    "  include Squareable, Volumeable\n",
    "  \n",
    "  def initialize(s)\n",
    "    super(s, s, s)\n",
    "  end\n",
    "  \n",
    "  def square\n",
    "    6 * super\n",
    "  end\n",
    "end\n",
    "\n",
    "class RectangularParallelepipedV2 < VolumeFigure\n",
    "  include Volumeable\n",
    "  \n",
    "  def square\n",
    "    2 * (width * height + width * length + length * height)\n",
    "  end\n",
    "end"
   ]
  },
  {
   "cell_type": "code",
   "execution_count": 23,
   "metadata": {},
   "outputs": [
    {
     "data": {
      "text/plain": [
       "#<RectangularParallelepipedV2:0x00007fc8813e72d0 @width=1, @length=2, @height=3>"
      ]
     },
     "execution_count": 23,
     "metadata": {},
     "output_type": "execute_result"
    }
   ],
   "source": [
    "c2 = CubeV2.new(5)\n",
    "rp2 = RectangularParallelepipedV2.new(1, 2, 3)"
   ]
  },
  {
   "cell_type": "code",
   "execution_count": 24,
   "metadata": {},
   "outputs": [
    {
     "data": {
      "text/plain": [
       "150"
      ]
     },
     "execution_count": 24,
     "metadata": {},
     "output_type": "execute_result"
    }
   ],
   "source": [
    "c2.square"
   ]
  },
  {
   "cell_type": "code",
   "execution_count": 19,
   "metadata": {},
   "outputs": [
    {
     "data": {
      "text/plain": [
       "125"
      ]
     },
     "execution_count": 19,
     "metadata": {},
     "output_type": "execute_result"
    }
   ],
   "source": [
    "c2.volume"
   ]
  },
  {
   "cell_type": "code",
   "execution_count": 20,
   "metadata": {},
   "outputs": [
    {
     "data": {
      "text/plain": [
       "22"
      ]
     },
     "execution_count": 20,
     "metadata": {},
     "output_type": "execute_result"
    }
   ],
   "source": [
    "rp2.square"
   ]
  },
  {
   "cell_type": "code",
   "execution_count": 21,
   "metadata": {},
   "outputs": [
    {
     "data": {
      "text/plain": [
       "6"
      ]
     },
     "execution_count": 21,
     "metadata": {},
     "output_type": "execute_result"
    }
   ],
   "source": [
    "rp2.volume"
   ]
  },
  {
   "cell_type": "markdown",
   "metadata": {},
   "source": [
    "Примеси - это способ **горизонтально распространять код** и их нужно предпочитать наследованию когда это возможно.\n",
    "\n",
    "Чем еще можно заменить наследование?"
   ]
  },
  {
   "cell_type": "markdown",
   "metadata": {},
   "source": [
    "## Агрегация и композиция "
   ]
  },
  {
   "cell_type": "markdown",
   "metadata": {},
   "source": [
    "И агрегация, и композиция - это конструирование объекта из нескольких. Иными словами, вы не строите иерархию с кучей методов и ничего не примешиваете, а просто делаете специальный объект для какой-то специальной цели и используете его внутри других объектов.\n",
    "\n",
    "Классический пример - логирование. Вряд ли имеет хоть какой-то смысл наследоваться от логгера или шарить код логирования через примесь. Помимо концептуальной некорректности абстракции это еще и сложно тестировать и поддерживать.\n",
    "\n",
    "Посмотрим, как можно реализовать агрегацию и композицию на примере логера."
   ]
  },
  {
   "cell_type": "code",
   "execution_count": 38,
   "metadata": {},
   "outputs": [
    {
     "data": {
      "text/plain": [
       ":log"
      ]
     },
     "execution_count": 38,
     "metadata": {},
     "output_type": "execute_result"
    }
   ],
   "source": [
    "class MyLogger\n",
    "  def log(message)\n",
    "    puts \"[#{Time.now.strftime(\"%Y-%m-%d %H:%M:%S\")}] #{message}\"\n",
    "  end\n",
    "end"
   ]
  },
  {
   "cell_type": "code",
   "execution_count": 39,
   "metadata": {},
   "outputs": [
    {
     "name": "stdout",
     "output_type": "stream",
     "text": [
      "[2020-10-28 10:54:13] Привет\n"
     ]
    }
   ],
   "source": [
    "MyLogger.new.log('Привет')"
   ]
  },
  {
   "cell_type": "markdown",
   "metadata": {},
   "source": [
    "Посмотрим, что можно сделать с использованием композиции:"
   ]
  },
  {
   "cell_type": "code",
   "execution_count": 42,
   "metadata": {},
   "outputs": [
    {
     "data": {
      "text/plain": [
       ":logout"
      ]
     },
     "execution_count": 42,
     "metadata": {},
     "output_type": "execute_result"
    }
   ],
   "source": [
    "class UserServiceComposition\n",
    "  def initialize\n",
    "    @logger = MyLogger.new\n",
    "  end\n",
    "  \n",
    "  def login\n",
    "    logger.log('User login')\n",
    "  end\n",
    "  \n",
    "  def logout\n",
    "    logger.log('User logout')\n",
    "  end\n",
    "  \n",
    "  private\n",
    "  \n",
    "  attr_reader :logger\n",
    "  \n",
    "  public\n",
    "  \n",
    "  class << self\n",
    "    def login\n",
    "      new.login\n",
    "    end\n",
    "    \n",
    "    def logout\n",
    "      new.logout\n",
    "    end\n",
    "  end\n",
    "end"
   ]
  },
  {
   "cell_type": "code",
   "execution_count": 43,
   "metadata": {},
   "outputs": [
    {
     "name": "stdout",
     "output_type": "stream",
     "text": [
      "[2020-10-28 10:58:04] User login\n"
     ]
    }
   ],
   "source": [
    "UserServiceComposition.login"
   ]
  },
  {
   "cell_type": "code",
   "execution_count": 44,
   "metadata": {},
   "outputs": [
    {
     "name": "stdout",
     "output_type": "stream",
     "text": [
      "[2020-10-28 10:58:12] User logout\n"
     ]
    }
   ],
   "source": [
    "UserServiceComposition.logout"
   ]
  },
  {
   "cell_type": "markdown",
   "metadata": {},
   "source": [
    "Класс **сам управляет своими зависимостями**."
   ]
  },
  {
   "cell_type": "markdown",
   "metadata": {},
   "source": [
    "То же самое с использованием агрегации:"
   ]
  },
  {
   "cell_type": "code",
   "execution_count": 64,
   "metadata": {},
   "outputs": [
    {
     "data": {
      "text/plain": [
       ":get"
      ]
     },
     "execution_count": 64,
     "metadata": {},
     "output_type": "execute_result"
    }
   ],
   "source": [
    "class UserServiceAggregation\n",
    "  def initialize(logger)\n",
    "    @logger = logger\n",
    "  end\n",
    "  \n",
    "  def login\n",
    "    logger.log('User login')\n",
    "  end\n",
    "  \n",
    "  def logout\n",
    "    logger.log('User logout')\n",
    "  end\n",
    "  \n",
    "  private\n",
    "  \n",
    "  attr_reader :logger\n",
    "end\n",
    "\n",
    "class DependencyInjector\n",
    "  @instance = new\n",
    "\n",
    "  private_class_method :new\n",
    "\n",
    "  def initialize\n",
    "    @dependecies = Hash.new\n",
    "    @dependecies[MyLogger] = MyLogger.new\n",
    "    @dependecies[UserServiceAggregation] = UserServiceAggregation.new(@dependecies[MyLogger])\n",
    "  end\n",
    "  \n",
    "  attr_reader :dependecies\n",
    "  \n",
    "  public\n",
    "  \n",
    "  class << self    \n",
    "    def get(class_name)\n",
    "      instance.dependecies[class_name]\n",
    "    end\n",
    "  end\n",
    "end"
   ]
  },
  {
   "cell_type": "code",
   "execution_count": 65,
   "metadata": {},
   "outputs": [
    {
     "data": {
      "text/plain": [
       "#<UserServiceAggregation:0x00007fc8828b8e20 @logger=#<MyLogger:0x00007fc8828b8e48>>"
      ]
     },
     "execution_count": 65,
     "metadata": {},
     "output_type": "execute_result"
    }
   ],
   "source": [
    "service = DependencyInjector.get(UserServiceAggregation)"
   ]
  },
  {
   "cell_type": "code",
   "execution_count": 66,
   "metadata": {},
   "outputs": [
    {
     "name": "stdout",
     "output_type": "stream",
     "text": [
      "[2020-10-28 11:09:19] User login\n"
     ]
    }
   ],
   "source": [
    "service.login"
   ]
  },
  {
   "cell_type": "markdown",
   "metadata": {},
   "source": [
    "Зависимостями **управляет кто-то извне**.\n",
    "\n",
    "В конечном счете агрегация удобнее, потому что позволяет легко подменять реальные классы (это ведь может быть не только логер, но и сервис для работы с БД, например) на какие-то другие.\n",
    "\n",
    "Если вы соблюдаете интерфейс, вы можете:\n",
    "\n",
    "* перейти с одного источника данных на другой;\n",
    "* сделать \"мок\" - более простую реализацию, например, для окружения разработчика или пока ждете реализации сервисов со стороны коллег;\n",
    "* легко тестировать."
   ]
  },
  {
   "cell_type": "markdown",
   "metadata": {},
   "source": [
    "## Enumerable, Enumerator "
   ]
  },
  {
   "cell_type": "markdown",
   "metadata": {},
   "source": [
    "`Enumerable` - это примесь, в которой реализована куча полезных методов по работе с коллекциями. Единственное, что нужно примеси - это метод для итерированию по коллекции, по умолчанию - `each`. Самое смешное, что объект, к которому мы примешиваем `Enumerable`, строго говоря не должен быть именно коллекцией (массивом, например)."
   ]
  },
  {
   "cell_type": "code",
   "execution_count": 69,
   "metadata": {},
   "outputs": [
    {
     "data": {
      "text/plain": [
       ":each"
      ]
     },
     "execution_count": 69,
     "metadata": {},
     "output_type": "execute_result"
    }
   ],
   "source": [
    "class MyCollection\n",
    "  include Enumerable\n",
    "  \n",
    "  attr_reader :name, :surname\n",
    "  \n",
    "  def initialize\n",
    "    @name = 'Иван'\n",
    "    @surname = 'Иванов'\n",
    "  end\n",
    "  \n",
    "  def each\n",
    "    yield name\n",
    "    yield surname\n",
    "  end\n",
    "end"
   ]
  },
  {
   "cell_type": "code",
   "execution_count": 71,
   "metadata": {},
   "outputs": [
    {
     "data": {
      "text/plain": [
       "[\"Иван\", \"Иванов\"]"
      ]
     },
     "execution_count": 71,
     "metadata": {},
     "output_type": "execute_result"
    }
   ],
   "source": [
    "MyCollection.new.map { |x| x }"
   ]
  },
  {
   "cell_type": "code",
   "execution_count": 72,
   "metadata": {},
   "outputs": [
    {
     "data": {
      "text/plain": [
       "[\"Иван\"]"
      ]
     },
     "execution_count": 72,
     "metadata": {},
     "output_type": "execute_result"
    }
   ],
   "source": [
    "MyCollection.new.take(1)"
   ]
  },
  {
   "cell_type": "markdown",
   "metadata": {},
   "source": [
    "`Enumerator` - это то же самое, что и `Enumerable`, только его можно создавать как объект (потому что это и есть объект)."
   ]
  },
  {
   "cell_type": "code",
   "execution_count": 75,
   "metadata": {},
   "outputs": [
    {
     "data": {
      "text/plain": [
       "[\"Иван\"]"
      ]
     },
     "execution_count": 75,
     "metadata": {},
     "output_type": "execute_result"
    }
   ],
   "source": [
    "e = Enumerator.new do |yielder|\n",
    "  yielder.yield 'Иван'\n",
    "  yielder.yield 'Иванов'\n",
    "end\n",
    "\n",
    "e.take(1)"
   ]
  },
  {
   "cell_type": "markdown",
   "metadata": {},
   "source": [
    "Пропробуем решить задачу\n",
    "\n",
    "Найти первый член последовательности `y = n / (n**2 + 2)`, для которого y < ξ. Определить, как изменяется число итераций при изменении\n",
    "точности."
   ]
  },
  {
   "cell_type": "code",
   "execution_count": 91,
   "metadata": {},
   "outputs": [
    {
     "data": {
      "text/plain": [
       "#<Enumerator: #<Enumerator::Generator:0x00007fc8817ad130>:each>"
      ]
     },
     "execution_count": 91,
     "metadata": {},
     "output_type": "execute_result"
    }
   ],
   "source": [
    "eps = 0.001\n",
    "\n",
    "enum = Enumerator.new do |y|\n",
    "  n = 1\n",
    "  \n",
    "  loop do\n",
    "    y << n / (n**2 + 2).to_f\n",
    "    n += 1\n",
    "  end\n",
    "end"
   ]
  },
  {
   "cell_type": "code",
   "execution_count": 94,
   "metadata": {},
   "outputs": [
    {
     "data": {
      "text/plain": [
       "0.000999998000004"
      ]
     },
     "execution_count": 94,
     "metadata": {},
     "output_type": "execute_result"
    }
   ],
   "source": [
    "enum.find { |y| y < eps }"
   ]
  },
  {
   "cell_type": "markdown",
   "metadata": {},
   "source": [
    "## Ленивые вычисления "
   ]
  },
  {
   "cell_type": "markdown",
   "metadata": {},
   "source": [
    "Классический пример.\n",
    "\n",
    "Просто 5 чисел:"
   ]
  },
  {
   "cell_type": "code",
   "execution_count": 95,
   "metadata": {},
   "outputs": [
    {
     "data": {
      "text/plain": [
       "[1, 2, 3, 4, 5]"
      ]
     },
     "execution_count": 95,
     "metadata": {},
     "output_type": "execute_result"
    }
   ],
   "source": [
    "(1..Float::INFINITY).take(5)"
   ]
  },
  {
   "cell_type": "markdown",
   "metadata": {},
   "source": [
    "Пять четных чисел:"
   ]
  },
  {
   "cell_type": "code",
   "execution_count": 98,
   "metadata": {},
   "outputs": [
    {
     "ename": "Interrupt",
     "evalue": "",
     "output_type": "error",
     "traceback": [
      "\u001b[31mInterrupt\u001b[0m: ",
      "\u001b[37m(pry):823:in `each'\u001b[0m",
      "\u001b[37m(pry):823:in `filter'\u001b[0m",
      "\u001b[37m(pry):823:in `<main>'\u001b[0m",
      "\u001b[37m/Users/jpyatachkov/.anyenv/envs/rbenv/versions/2.6.3/lib/ruby/gems/2.6.0/gems/pry-0.12.2/lib/pry/pry_instance.rb:387:in `eval'\u001b[0m",
      "\u001b[37m/Users/jpyatachkov/.anyenv/envs/rbenv/versions/2.6.3/lib/ruby/gems/2.6.0/gems/pry-0.12.2/lib/pry/pry_instance.rb:387:in `evaluate_ruby'\u001b[0m",
      "\u001b[37m/Users/jpyatachkov/.anyenv/envs/rbenv/versions/2.6.3/lib/ruby/gems/2.6.0/gems/pry-0.12.2/lib/pry/pry_instance.rb:355:in `handle_line'\u001b[0m",
      "\u001b[37m/Users/jpyatachkov/.anyenv/envs/rbenv/versions/2.6.3/lib/ruby/gems/2.6.0/gems/pry-0.12.2/lib/pry/pry_instance.rb:274:in `block (2 levels) in eval'\u001b[0m",
      "\u001b[37m/Users/jpyatachkov/.anyenv/envs/rbenv/versions/2.6.3/lib/ruby/gems/2.6.0/gems/pry-0.12.2/lib/pry/pry_instance.rb:273:in `catch'\u001b[0m",
      "\u001b[37m/Users/jpyatachkov/.anyenv/envs/rbenv/versions/2.6.3/lib/ruby/gems/2.6.0/gems/pry-0.12.2/lib/pry/pry_instance.rb:273:in `block in eval'\u001b[0m",
      "\u001b[37m/Users/jpyatachkov/.anyenv/envs/rbenv/versions/2.6.3/lib/ruby/gems/2.6.0/gems/pry-0.12.2/lib/pry/pry_instance.rb:272:in `catch'\u001b[0m",
      "\u001b[37m/Users/jpyatachkov/.anyenv/envs/rbenv/versions/2.6.3/lib/ruby/gems/2.6.0/gems/pry-0.12.2/lib/pry/pry_instance.rb:272:in `eval'\u001b[0m",
      "\u001b[37m/Users/jpyatachkov/.anyenv/envs/rbenv/versions/2.6.3/lib/ruby/gems/2.6.0/gems/iruby-0.3/lib/iruby/backend.rb:66:in `eval'\u001b[0m",
      "\u001b[37m/Users/jpyatachkov/.anyenv/envs/rbenv/versions/2.6.3/lib/ruby/gems/2.6.0/gems/iruby-0.3/lib/iruby/backend.rb:12:in `eval'\u001b[0m",
      "\u001b[37m/Users/jpyatachkov/.anyenv/envs/rbenv/versions/2.6.3/lib/ruby/gems/2.6.0/gems/iruby-0.3/lib/iruby/kernel.rb:87:in `execute_request'\u001b[0m",
      "\u001b[37m/Users/jpyatachkov/.anyenv/envs/rbenv/versions/2.6.3/lib/ruby/gems/2.6.0/gems/iruby-0.3/lib/iruby/kernel.rb:47:in `dispatch'\u001b[0m",
      "\u001b[37m/Users/jpyatachkov/.anyenv/envs/rbenv/versions/2.6.3/lib/ruby/gems/2.6.0/gems/iruby-0.3/lib/iruby/kernel.rb:37:in `run'\u001b[0m",
      "\u001b[37m/Users/jpyatachkov/.anyenv/envs/rbenv/versions/2.6.3/lib/ruby/gems/2.6.0/gems/iruby-0.3/lib/iruby/command.rb:70:in `run_kernel'\u001b[0m",
      "\u001b[37m/Users/jpyatachkov/.anyenv/envs/rbenv/versions/2.6.3/lib/ruby/gems/2.6.0/gems/iruby-0.3/lib/iruby/command.rb:34:in `run'\u001b[0m",
      "\u001b[37m/Users/jpyatachkov/.anyenv/envs/rbenv/versions/2.6.3/lib/ruby/gems/2.6.0/gems/iruby-0.3/bin/iruby:5:in `<top (required)>'\u001b[0m",
      "\u001b[37m/Users/jpyatachkov/.anyenv/envs/rbenv/versions/2.6.3/bin/iruby:23:in `load'\u001b[0m",
      "\u001b[37m/Users/jpyatachkov/.anyenv/envs/rbenv/versions/2.6.3/bin/iruby:23:in `<main>'\u001b[0m"
     ]
    }
   ],
   "source": [
    "(1..Float::INFINITY).filter(&:even?).take(5)"
   ]
  },
  {
   "cell_type": "markdown",
   "metadata": {},
   "source": [
    "Пять ленивых четных чисел"
   ]
  },
  {
   "cell_type": "code",
   "execution_count": 100,
   "metadata": {},
   "outputs": [
    {
     "data": {
      "text/plain": [
       "[2, 4, 6, 8, 10]"
      ]
     },
     "execution_count": 100,
     "metadata": {},
     "output_type": "execute_result"
    }
   ],
   "source": [
    "(1..Float::INFINITY).lazy.filter(&:even?).take(5).to_a"
   ]
  },
  {
   "cell_type": "markdown",
   "metadata": {},
   "source": [
    "Как это работает"
   ]
  },
  {
   "cell_type": "code",
   "execution_count": 104,
   "metadata": {},
   "outputs": [
    {
     "name": "stdout",
     "output_type": "stream",
     "text": [
      "Map 1 1\n",
      "Map 1 2\n",
      "Map 1 3\n",
      "Map 1 4\n",
      "Map 1 5\n",
      "Map 1 6\n",
      "Map 1 7\n",
      "Map 1 8\n",
      "Map 1 9\n",
      "Map 1 10\n",
      "Map 2 2\n",
      "Map 2 3\n",
      "Map 2 4\n",
      "Map 2 5\n",
      "Map 2 6\n",
      "Map 2 7\n",
      "Map 2 8\n",
      "Map 2 9\n",
      "Map 2 10\n",
      "Map 2 11\n"
     ]
    },
    {
     "data": {
      "text/plain": [
       "[4, 6, 8, 10, 12, 14, 16, 18, 20, 22]"
      ]
     },
     "execution_count": 104,
     "metadata": {},
     "output_type": "execute_result"
    }
   ],
   "source": [
    "(1..10).map do |x|\n",
    "  puts \"Map 1 #{x}\"\n",
    "  x + 1\n",
    "end.map do |x|\n",
    "  puts \"Map 2 #{x}\"\n",
    "  x * 2\n",
    "end"
   ]
  },
  {
   "cell_type": "code",
   "execution_count": 106,
   "metadata": {},
   "outputs": [
    {
     "name": "stdout",
     "output_type": "stream",
     "text": [
      "Map 1 1\n",
      "Map 2 2\n",
      "Map 1 2\n",
      "Map 2 3\n",
      "Map 1 3\n",
      "Map 2 4\n",
      "Map 1 4\n",
      "Map 2 5\n",
      "Map 1 5\n",
      "Map 2 6\n",
      "Map 1 6\n",
      "Map 2 7\n",
      "Map 1 7\n",
      "Map 2 8\n",
      "Map 1 8\n",
      "Map 2 9\n",
      "Map 1 9\n",
      "Map 2 10\n",
      "Map 1 10\n",
      "Map 2 11\n"
     ]
    },
    {
     "data": {
      "text/plain": [
       "[4, 6, 8, 10, 12, 14, 16, 18, 20, 22]"
      ]
     },
     "execution_count": 106,
     "metadata": {},
     "output_type": "execute_result"
    }
   ],
   "source": [
    "(1..10).lazy.map do |x|\n",
    "  puts \"Map 1 #{x}\"\n",
    "  x + 1\n",
    "end.map do |x|\n",
    "  puts \"Map 2 #{x}\"\n",
    "  x * 2\n",
    "end.force"
   ]
  },
  {
   "cell_type": "markdown",
   "metadata": {},
   "source": [
    "Иными словами, `lazy` прокидывает каждое значение сразу через все блоки, а обычный энумератор - \"накапливает\" у начала каждого блока."
   ]
  },
  {
   "cell_type": "markdown",
   "metadata": {},
   "source": [
    "## Proc, блок и lambda"
   ]
  },
  {
   "cell_type": "markdown",
   "metadata": {},
   "source": [
    "В третьей часть шестой лабораторной работы вам необходимо сделать так, чтобы некий кусок кода (в зависимости от задания) мог быть передан и как блок, и как Proc/lambda.\n",
    "\n",
    "Попробуем решить такую задачу\n",
    "\n",
    "Составить метод scale отыскания масштаба графического (выведенного в текстовом режиме) изображения функции f(x) на экране размером B единиц растра по формуле `M = B / max(f(x))`. В основной программе использовать метод для отыскания масштаба функций `x · sin(x)` и `tg(x)`, при `−2 < x < 2`. Реализовать вызов метода двумя способами: в виде передаваемого lambda-выражения и в виде блока."
   ]
  },
  {
   "cell_type": "markdown",
   "metadata": {},
   "source": [
    "Теперь эталонное решение будет таким"
   ]
  },
  {
   "cell_type": "code",
   "execution_count": 107,
   "metadata": {},
   "outputs": [
    {
     "data": {
      "text/plain": [
       ":find_scale"
      ]
     },
     "execution_count": 107,
     "metadata": {},
     "output_type": "execute_result"
    }
   ],
   "source": [
    "def find_scale(left, right, b)\n",
    "  max = (left..right).step(0.01).map { |x| yield x }.max\n",
    "  b / max if max != 0 || nil\n",
    "end"
   ]
  },
  {
   "cell_type": "markdown",
   "metadata": {},
   "source": [
    "Вызов с использованием блока"
   ]
  },
  {
   "cell_type": "code",
   "execution_count": 108,
   "metadata": {},
   "outputs": [
    {
     "data": {
      "text/plain": [
       "5.4987508514730825"
      ]
     },
     "execution_count": 108,
     "metadata": {},
     "output_type": "execute_result"
    }
   ],
   "source": [
    "find_scale(-2, 2, 10) { |x| Math.sin(x) * x }"
   ]
  },
  {
   "cell_type": "markdown",
   "metadata": {},
   "source": [
    "Вызов с использованием `proc`"
   ]
  },
  {
   "cell_type": "code",
   "execution_count": 109,
   "metadata": {},
   "outputs": [
    {
     "data": {
      "text/plain": [
       "5.4987508514730825"
      ]
     },
     "execution_count": 109,
     "metadata": {},
     "output_type": "execute_result"
    }
   ],
   "source": [
    "find_scale(-2, 2, 10, &proc { |x| Math.sin(x) * x })"
   ]
  },
  {
   "cell_type": "markdown",
   "metadata": {},
   "source": [
    "Все это работает через один и тот же `yield`, настолько быстро, насколько это возможно, и максимально идиоматично."
   ]
  }
 ],
 "metadata": {
  "kernelspec": {
   "display_name": "Ruby 2.6.3",
   "language": "ruby",
   "name": "ruby"
  },
  "language_info": {
   "file_extension": ".rb",
   "mimetype": "application/x-ruby",
   "name": "ruby",
   "version": "2.6.3"
  }
 },
 "nbformat": 4,
 "nbformat_minor": 2
}
