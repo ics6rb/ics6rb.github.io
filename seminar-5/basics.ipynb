{
 "cells": [
  {
   "cell_type": "markdown",
   "metadata": {},
   "source": [
    "# Классы, наследование, агрегация, композиция и примеси "
   ]
  },
  {
   "cell_type": "markdown",
   "metadata": {},
   "source": [
    "## Класс "
   ]
  },
  {
   "cell_type": "markdown",
   "metadata": {},
   "source": [
    "Класс в Ruby - это объект специального типа. Для его создания достаточно простой конструкции"
   ]
  },
  {
   "cell_type": "code",
   "execution_count": 26,
   "metadata": {},
   "outputs": [
    {
     "data": {
      "text/plain": [
       ":initialize"
      ]
     },
     "execution_count": 26,
     "metadata": {},
     "output_type": "execute_result"
    }
   ],
   "source": [
    "class ExampleClass\n",
    "  def initialize(a, b)\n",
    "  end\n",
    "end"
   ]
  },
  {
   "cell_type": "code",
   "execution_count": 4,
   "metadata": {},
   "outputs": [
    {
     "data": {
      "text/plain": [
       "[Class, Module, Object, JSON::Ext::Generator::GeneratorMethods::Object, Kernel, BasicObject]"
      ]
     },
     "execution_count": 4,
     "metadata": {},
     "output_type": "execute_result"
    }
   ],
   "source": [
    "ExampleClass.class.ancestors"
   ]
  },
  {
   "cell_type": "markdown",
   "metadata": {},
   "source": [
    "Создание нового экземпляра - через метод `:new`"
   ]
  },
  {
   "cell_type": "code",
   "execution_count": null,
   "metadata": {
    "scrolled": true
   },
   "outputs": [
    {
     "ename": "ArgumentError",
     "evalue": "wrong number of arguments (given 0, expected 2)",
     "output_type": "error",
     "traceback": [
      "\u001b[31mArgumentError\u001b[0m: wrong number of arguments (given 0, expected 2)",
      "<main>:1:in `initialize'",
      "<main>:in `new'",
      "<main>:in `<main>'",
      "/Users/jpyatachkov/.anyenv/envs/rbenv/versions/2.7.2/lib/ruby/gems/2.7.0/gems/iruby-0.4.0/lib/iruby/backend.rb:44:in `eval'",
      "/Users/jpyatachkov/.anyenv/envs/rbenv/versions/2.7.2/lib/ruby/gems/2.7.0/gems/iruby-0.4.0/lib/iruby/backend.rb:44:in `eval'",
      "/Users/jpyatachkov/.anyenv/envs/rbenv/versions/2.7.2/lib/ruby/gems/2.7.0/gems/iruby-0.4.0/lib/iruby/backend.rb:12:in `eval'",
      "/Users/jpyatachkov/.anyenv/envs/rbenv/versions/2.7.2/lib/ruby/gems/2.7.0/gems/iruby-0.4.0/lib/iruby/kernel.rb:90:in `execute_request'",
      "/Users/jpyatachkov/.anyenv/envs/rbenv/versions/2.7.2/lib/ruby/gems/2.7.0/gems/iruby-0.4.0/lib/iruby/kernel.rb:49:in `dispatch'",
      "/Users/jpyatachkov/.anyenv/envs/rbenv/versions/2.7.2/lib/ruby/gems/2.7.0/gems/iruby-0.4.0/lib/iruby/kernel.rb:38:in `run'",
      "/Users/jpyatachkov/.anyenv/envs/rbenv/versions/2.7.2/lib/ruby/gems/2.7.0/gems/iruby-0.4.0/lib/iruby/command.rb:110:in `run_kernel'",
      "/Users/jpyatachkov/.anyenv/envs/rbenv/versions/2.7.2/lib/ruby/gems/2.7.0/gems/iruby-0.4.0/lib/iruby/command.rb:40:in `run'",
      "/Users/jpyatachkov/.anyenv/envs/rbenv/versions/2.7.2/lib/ruby/gems/2.7.0/gems/iruby-0.4.0/bin/iruby:5:in `<top (required)>'",
      "/Users/jpyatachkov/.anyenv/envs/rbenv/versions/2.7.2/bin/iruby:23:in `load'",
      "/Users/jpyatachkov/.anyenv/envs/rbenv/versions/2.7.2/bin/iruby:23:in `<main>'"
     ]
    }
   ],
   "source": [
    "ExampleClass.new"
   ]
  },
  {
   "cell_type": "markdown",
   "metadata": {},
   "source": [
    "## Атрибуты класса"
   ]
  },
  {
   "cell_type": "markdown",
   "metadata": {},
   "source": [
    "Можно объявлять переменные уровня класса (статические) и уровня объекта. Их нужно объявлять в конструкторе. **Конструктор называется `initialize`**."
   ]
  },
  {
   "cell_type": "code",
   "execution_count": null,
   "metadata": {},
   "outputs": [
    {
     "ename": "SyntaxError",
     "evalue": "<main>:8: syntax error, unexpected instance variable\ne.@non_static\n  ^~~~~~~~~~~\n",
     "output_type": "error",
     "traceback": [
      "\u001b[31mSyntaxError\u001b[0m: <main>:8: syntax error, unexpected instance variable\ne.@non_static\n  ^~~~~~~~~~~\n",
      "/Users/jpyatachkov/.anyenv/envs/rbenv/versions/2.7.2/lib/ruby/gems/2.7.0/gems/iruby-0.4.0/lib/iruby/backend.rb:44:in `eval'",
      "/Users/jpyatachkov/.anyenv/envs/rbenv/versions/2.7.2/lib/ruby/gems/2.7.0/gems/iruby-0.4.0/lib/iruby/backend.rb:44:in `eval'",
      "/Users/jpyatachkov/.anyenv/envs/rbenv/versions/2.7.2/lib/ruby/gems/2.7.0/gems/iruby-0.4.0/lib/iruby/backend.rb:12:in `eval'",
      "/Users/jpyatachkov/.anyenv/envs/rbenv/versions/2.7.2/lib/ruby/gems/2.7.0/gems/iruby-0.4.0/lib/iruby/kernel.rb:90:in `execute_request'",
      "/Users/jpyatachkov/.anyenv/envs/rbenv/versions/2.7.2/lib/ruby/gems/2.7.0/gems/iruby-0.4.0/lib/iruby/kernel.rb:49:in `dispatch'",
      "/Users/jpyatachkov/.anyenv/envs/rbenv/versions/2.7.2/lib/ruby/gems/2.7.0/gems/iruby-0.4.0/lib/iruby/kernel.rb:38:in `run'",
      "/Users/jpyatachkov/.anyenv/envs/rbenv/versions/2.7.2/lib/ruby/gems/2.7.0/gems/iruby-0.4.0/lib/iruby/command.rb:110:in `run_kernel'",
      "/Users/jpyatachkov/.anyenv/envs/rbenv/versions/2.7.2/lib/ruby/gems/2.7.0/gems/iruby-0.4.0/lib/iruby/command.rb:40:in `run'",
      "/Users/jpyatachkov/.anyenv/envs/rbenv/versions/2.7.2/lib/ruby/gems/2.7.0/gems/iruby-0.4.0/bin/iruby:5:in `<top (required)>'",
      "/Users/jpyatachkov/.anyenv/envs/rbenv/versions/2.7.2/bin/iruby:23:in `load'",
      "/Users/jpyatachkov/.anyenv/envs/rbenv/versions/2.7.2/bin/iruby:23:in `<main>'"
     ]
    }
   ],
   "source": [
    "class ExampleClass\n",
    "  def initialize\n",
    "    @@static = 'static'\n",
    "    @non_static = 42\n",
    "  end\n",
    "end\n",
    "\n",
    "e = ExampleClass.new\n",
    "e.@non_static"
   ]
  },
  {
   "cell_type": "markdown",
   "metadata": {},
   "source": [
    "Так делать при этом нельзя"
   ]
  },
  {
   "cell_type": "code",
   "execution_count": null,
   "metadata": {},
   "outputs": [
    {
     "ename": "SyntaxError",
     "evalue": "<main>: syntax error, unexpected class variable\nExampleClass.@@static\n             ^~~~~~~~\n",
     "output_type": "error",
     "traceback": [
      "\u001b[31mSyntaxError\u001b[0m: <main>: syntax error, unexpected class variable\nExampleClass.@@static\n             ^~~~~~~~\n",
      "/Users/jpyatachkov/.anyenv/envs/rbenv/versions/2.7.2/lib/ruby/gems/2.7.0/gems/iruby-0.4.0/lib/iruby/backend.rb:44:in `eval'",
      "/Users/jpyatachkov/.anyenv/envs/rbenv/versions/2.7.2/lib/ruby/gems/2.7.0/gems/iruby-0.4.0/lib/iruby/backend.rb:44:in `eval'",
      "/Users/jpyatachkov/.anyenv/envs/rbenv/versions/2.7.2/lib/ruby/gems/2.7.0/gems/iruby-0.4.0/lib/iruby/backend.rb:12:in `eval'",
      "/Users/jpyatachkov/.anyenv/envs/rbenv/versions/2.7.2/lib/ruby/gems/2.7.0/gems/iruby-0.4.0/lib/iruby/kernel.rb:90:in `execute_request'",
      "/Users/jpyatachkov/.anyenv/envs/rbenv/versions/2.7.2/lib/ruby/gems/2.7.0/gems/iruby-0.4.0/lib/iruby/kernel.rb:49:in `dispatch'",
      "/Users/jpyatachkov/.anyenv/envs/rbenv/versions/2.7.2/lib/ruby/gems/2.7.0/gems/iruby-0.4.0/lib/iruby/kernel.rb:38:in `run'",
      "/Users/jpyatachkov/.anyenv/envs/rbenv/versions/2.7.2/lib/ruby/gems/2.7.0/gems/iruby-0.4.0/lib/iruby/command.rb:110:in `run_kernel'",
      "/Users/jpyatachkov/.anyenv/envs/rbenv/versions/2.7.2/lib/ruby/gems/2.7.0/gems/iruby-0.4.0/lib/iruby/command.rb:40:in `run'",
      "/Users/jpyatachkov/.anyenv/envs/rbenv/versions/2.7.2/lib/ruby/gems/2.7.0/gems/iruby-0.4.0/bin/iruby:5:in `<top (required)>'",
      "/Users/jpyatachkov/.anyenv/envs/rbenv/versions/2.7.2/bin/iruby:23:in `load'",
      "/Users/jpyatachkov/.anyenv/envs/rbenv/versions/2.7.2/bin/iruby:23:in `<main>'"
     ]
    }
   ],
   "source": [
    "ExampleClass.static"
   ]
  },
  {
   "cell_type": "code",
   "execution_count": 14,
   "metadata": {},
   "outputs": [
    {
     "name": "stdout",
     "output_type": "stream",
     "text": [
      "\"static\"\n",
      "42\n",
      "\"static\"\n",
      "42\n",
      "\"CHANGE\"\n",
      "\"CHANGE\"\n",
      "\"CHANGE\"\n",
      "42\n",
      "\"static\"\n",
      "\"CHANGE\"\n"
     ]
    },
    {
     "data": {
      "text/plain": [
       "\"CHANGE\""
      ]
     },
     "execution_count": 14,
     "metadata": {},
     "output_type": "execute_result"
    }
   ],
   "source": [
    "class ExampleClass\n",
    "  def initialize\n",
    "    @@static = 'static'\n",
    "    @non_static = 42\n",
    "  end\n",
    "  \n",
    "  def print\n",
    "    p @@static\n",
    "    p @non_static\n",
    "  end\n",
    "  \n",
    "  def set_static(v)\n",
    "    @@static = v\n",
    "  end\n",
    "  \n",
    "  def set_non_static(v)\n",
    "    @non_static = v\n",
    "  end\n",
    "end\n",
    "\n",
    "e = ExampleClass.new\n",
    "e1 = ExampleClass.new\n",
    "\n",
    "e.print\n",
    "e1.print\n",
    "\n",
    "e.set_static('CHANGE')\n",
    "e.set_non_static('CHANGE')\n",
    "\n",
    "e.print\n",
    "e1.print\n",
    "\n",
    "ExampleClass.new\n",
    "\n",
    "e.print"
   ]
  },
  {
   "cell_type": "markdown",
   "metadata": {},
   "source": [
    "\"Статические\" переменные разделяют свое значение между всеми экземплярами класса, а каждый экземпляр может это общее значение менять. Такая организация кода приводит к большому количеству ошибок при его усложнении, поэтому **пользоваться `@@` крайне не рекомендую!**"
   ]
  },
  {
   "cell_type": "markdown",
   "metadata": {},
   "source": [
    "Для того, чтобы переменные уровня объекта были доступны извне, нужно описать соответствующие методы. По соглашению методы называются так же, как и соответствующие им атрибуты (только без `@`):"
   ]
  },
  {
   "cell_type": "code",
   "execution_count": 2,
   "metadata": {},
   "outputs": [
    {
     "name": "stdout",
     "output_type": "stream",
     "text": [
      "10\n",
      "30\n"
     ]
    },
    {
     "data": {
      "text/plain": [
       "30"
      ]
     },
     "execution_count": 2,
     "metadata": {},
     "output_type": "execute_result"
    }
   ],
   "source": [
    "class ExplicitAttrs\n",
    "  def initialize(a)\n",
    "    @a = a\n",
    "  end\n",
    "  \n",
    "  def print\n",
    "    p @a\n",
    "  end\n",
    "  \n",
    "  def a\n",
    "    @a\n",
    "  end\n",
    "  \n",
    "  def a=(v)\n",
    "    @a = v\n",
    "  end\n",
    "end\n",
    "\n",
    "ea = ExplicitAttrs.new 10\n",
    "\n",
    "ea.print\n",
    "\n",
    "ea.a = ea.a + 20\n",
    "\n",
    "ea.print"
   ]
  },
  {
   "cell_type": "markdown",
   "metadata": {},
   "source": [
    "Если мы хотим, чтобы атрибут был доступен только для чтения или только для записи, мы должны определить один соответствующий метод - или геттер, или сеттер.\n",
    "\n",
    "Чтобы не мучиться с большим количеством однотипного кода и не загромождать класс, можно пользовать встроенными макросами:\n",
    "\n",
    "* `attr_reader` создаст только геттер;\n",
    "* `attr_writer` создаст только сеттер;\n",
    "* `attr_accessor` можно использовать, если нужен и геттер, и сеттер (то же самое, что написать сначала `attr_reader`, затем `attr_writer`);"
   ]
  },
  {
   "cell_type": "code",
   "execution_count": 8,
   "metadata": {},
   "outputs": [
    {
     "data": {
      "text/plain": [
       "a: , b: , c: "
      ]
     },
     "execution_count": 8,
     "metadata": {},
     "output_type": "execute_result"
    }
   ],
   "source": [
    "class ImplicitAttrs1\n",
    "  attr_accessor :a, :b, :c\n",
    "  \n",
    "  def inspect\n",
    "    \"a: #{a}, b: #{b}, c: #{c}\"\n",
    "  end\n",
    "end\n",
    "\n",
    "ia = ImplicitAttrs1.new"
   ]
  },
  {
   "cell_type": "markdown",
   "metadata": {},
   "source": [
    "При этом **необязательно объявлять атрибуты в конструкторе (методе `initialize`)**. Начальное значение будет `nil`, а потом "
   ]
  },
  {
   "cell_type": "code",
   "execution_count": 9,
   "metadata": {},
   "outputs": [
    {
     "data": {
      "text/plain": [
       "a: , b: , c: "
      ]
     },
     "execution_count": 9,
     "metadata": {},
     "output_type": "execute_result"
    }
   ],
   "source": [
    "ia = ImplicitAttrs1.new"
   ]
  },
  {
   "cell_type": "code",
   "execution_count": 10,
   "metadata": {},
   "outputs": [
    {
     "data": {
      "text/plain": [
       "true"
      ]
     },
     "execution_count": 10,
     "metadata": {},
     "output_type": "execute_result"
    }
   ],
   "source": [
    "ia.a.nil?"
   ]
  },
  {
   "cell_type": "code",
   "execution_count": 11,
   "metadata": {},
   "outputs": [
    {
     "data": {
      "text/plain": [
       "1"
      ]
     },
     "execution_count": 11,
     "metadata": {},
     "output_type": "execute_result"
    }
   ],
   "source": [
    "ia.a = 1"
   ]
  },
  {
   "cell_type": "code",
   "execution_count": 12,
   "metadata": {},
   "outputs": [],
   "source": [
    "ia.b"
   ]
  },
  {
   "cell_type": "code",
   "execution_count": 13,
   "metadata": {},
   "outputs": [
    {
     "data": {
      "text/plain": [
       "a: 1, b: 10, c: "
      ]
     },
     "execution_count": 13,
     "metadata": {},
     "output_type": "execute_result"
    }
   ],
   "source": [
    "ia.b = 10\n",
    "ia"
   ]
  },
  {
   "cell_type": "code",
   "execution_count": 14,
   "metadata": {},
   "outputs": [
    {
     "data": {
      "text/plain": [
       "100"
      ]
     },
     "execution_count": 14,
     "metadata": {},
     "output_type": "execute_result"
    }
   ],
   "source": [
    "ia.c = 100\n",
    "ia.c"
   ]
  },
  {
   "cell_type": "code",
   "execution_count": 15,
   "metadata": {},
   "outputs": [
    {
     "data": {
      "text/plain": [
       "a: 1, b: 10, c: 100"
      ]
     },
     "execution_count": 15,
     "metadata": {},
     "output_type": "execute_result"
    }
   ],
   "source": [
    "ia"
   ]
  },
  {
   "cell_type": "markdown",
   "metadata": {},
   "source": [
    "Обычно **нигде, кроме конструктора, не пользуются `@`, а создают `attr_*` в зависимости от того, что нужно**!"
   ]
  },
  {
   "cell_type": "markdown",
   "metadata": {},
   "source": [
    "## Инкапсуляция"
   ]
  },
  {
   "cell_type": "markdown",
   "metadata": {},
   "source": [
    "Для инкапсуляции предусмотрены специальные ключевые слова (читай - методы):"
   ]
  },
  {
   "cell_type": "code",
   "execution_count": 16,
   "metadata": {},
   "outputs": [
    {
     "data": {
      "text/plain": [
       ":also_public"
      ]
     },
     "execution_count": 16,
     "metadata": {},
     "output_type": "execute_result"
    }
   ],
   "source": [
    "class EncapsulationExample\n",
    "  def public_method\n",
    "    puts 'public'\n",
    "  end\n",
    "  \n",
    "  protected\n",
    "  \n",
    "  def protected1\n",
    "    puts 'protected1'\n",
    "  end\n",
    "  \n",
    "  def protected2\n",
    "    puts 'protected2'\n",
    "  end\n",
    "  \n",
    "  private\n",
    "  \n",
    "  def private1\n",
    "    puts 'private1'\n",
    "  end\n",
    "  \n",
    "  public\n",
    "  \n",
    "  def also_public\n",
    "    puts 'also public'\n",
    "  end\n",
    "end"
   ]
  },
  {
   "cell_type": "code",
   "execution_count": 17,
   "metadata": {},
   "outputs": [
    {
     "data": {
      "text/plain": [
       "#<EncapsulationExample:0x00007f9ea98cb7f8>"
      ]
     },
     "execution_count": 17,
     "metadata": {},
     "output_type": "execute_result"
    }
   ],
   "source": [
    "ee = EncapsulationExample.new"
   ]
  },
  {
   "cell_type": "code",
   "execution_count": 18,
   "metadata": {},
   "outputs": [
    {
     "name": "stdout",
     "output_type": "stream",
     "text": [
      "public\n"
     ]
    }
   ],
   "source": [
    "ee.public_method"
   ]
  },
  {
   "cell_type": "code",
   "execution_count": 19,
   "metadata": {},
   "outputs": [
    {
     "name": "stdout",
     "output_type": "stream",
     "text": [
      "also public\n"
     ]
    }
   ],
   "source": [
    "ee.also_public"
   ]
  },
  {
   "cell_type": "code",
   "execution_count": null,
   "metadata": {},
   "outputs": [
    {
     "ename": "NoMethodError",
     "evalue": "protected method `protected1' called for #<EncapsulationExample:0x00007f9ea98cb7f8>\nDid you mean?  protected2",
     "output_type": "error",
     "traceback": [
      "\u001b[31mNoMethodError\u001b[0m: protected method `protected1' called for #<EncapsulationExample:0x00007f9ea98cb7f8>\nDid you mean?  protected2",
      "<main>:in `<main>'",
      "/Users/jpyatachkov/.anyenv/envs/rbenv/versions/2.7.2/lib/ruby/gems/2.7.0/gems/iruby-0.4.0/lib/iruby/backend.rb:44:in `eval'",
      "/Users/jpyatachkov/.anyenv/envs/rbenv/versions/2.7.2/lib/ruby/gems/2.7.0/gems/iruby-0.4.0/lib/iruby/backend.rb:44:in `eval'",
      "/Users/jpyatachkov/.anyenv/envs/rbenv/versions/2.7.2/lib/ruby/gems/2.7.0/gems/iruby-0.4.0/lib/iruby/backend.rb:12:in `eval'",
      "/Users/jpyatachkov/.anyenv/envs/rbenv/versions/2.7.2/lib/ruby/gems/2.7.0/gems/iruby-0.4.0/lib/iruby/kernel.rb:90:in `execute_request'",
      "/Users/jpyatachkov/.anyenv/envs/rbenv/versions/2.7.2/lib/ruby/gems/2.7.0/gems/iruby-0.4.0/lib/iruby/kernel.rb:49:in `dispatch'",
      "/Users/jpyatachkov/.anyenv/envs/rbenv/versions/2.7.2/lib/ruby/gems/2.7.0/gems/iruby-0.4.0/lib/iruby/kernel.rb:38:in `run'",
      "/Users/jpyatachkov/.anyenv/envs/rbenv/versions/2.7.2/lib/ruby/gems/2.7.0/gems/iruby-0.4.0/lib/iruby/command.rb:110:in `run_kernel'",
      "/Users/jpyatachkov/.anyenv/envs/rbenv/versions/2.7.2/lib/ruby/gems/2.7.0/gems/iruby-0.4.0/lib/iruby/command.rb:40:in `run'",
      "/Users/jpyatachkov/.anyenv/envs/rbenv/versions/2.7.2/lib/ruby/gems/2.7.0/gems/iruby-0.4.0/bin/iruby:5:in `<top (required)>'",
      "/Users/jpyatachkov/.anyenv/envs/rbenv/versions/2.7.2/bin/iruby:23:in `load'",
      "/Users/jpyatachkov/.anyenv/envs/rbenv/versions/2.7.2/bin/iruby:23:in `<main>'"
     ]
    }
   ],
   "source": [
    "ee.protected1"
   ]
  },
  {
   "cell_type": "code",
   "execution_count": null,
   "metadata": {},
   "outputs": [
    {
     "ename": "NoMethodError",
     "evalue": "private method `private1' called for #<EncapsulationExample:0x00007f9ea98cb7f8>",
     "output_type": "error",
     "traceback": [
      "\u001b[31mNoMethodError\u001b[0m: private method `private1' called for #<EncapsulationExample:0x00007f9ea98cb7f8>",
      "<main>:in `<main>'",
      "/Users/jpyatachkov/.anyenv/envs/rbenv/versions/2.7.2/lib/ruby/gems/2.7.0/gems/iruby-0.4.0/lib/iruby/backend.rb:44:in `eval'",
      "/Users/jpyatachkov/.anyenv/envs/rbenv/versions/2.7.2/lib/ruby/gems/2.7.0/gems/iruby-0.4.0/lib/iruby/backend.rb:44:in `eval'",
      "/Users/jpyatachkov/.anyenv/envs/rbenv/versions/2.7.2/lib/ruby/gems/2.7.0/gems/iruby-0.4.0/lib/iruby/backend.rb:12:in `eval'",
      "/Users/jpyatachkov/.anyenv/envs/rbenv/versions/2.7.2/lib/ruby/gems/2.7.0/gems/iruby-0.4.0/lib/iruby/kernel.rb:90:in `execute_request'",
      "/Users/jpyatachkov/.anyenv/envs/rbenv/versions/2.7.2/lib/ruby/gems/2.7.0/gems/iruby-0.4.0/lib/iruby/kernel.rb:49:in `dispatch'",
      "/Users/jpyatachkov/.anyenv/envs/rbenv/versions/2.7.2/lib/ruby/gems/2.7.0/gems/iruby-0.4.0/lib/iruby/kernel.rb:38:in `run'",
      "/Users/jpyatachkov/.anyenv/envs/rbenv/versions/2.7.2/lib/ruby/gems/2.7.0/gems/iruby-0.4.0/lib/iruby/command.rb:110:in `run_kernel'",
      "/Users/jpyatachkov/.anyenv/envs/rbenv/versions/2.7.2/lib/ruby/gems/2.7.0/gems/iruby-0.4.0/lib/iruby/command.rb:40:in `run'",
      "/Users/jpyatachkov/.anyenv/envs/rbenv/versions/2.7.2/lib/ruby/gems/2.7.0/gems/iruby-0.4.0/bin/iruby:5:in `<top (required)>'",
      "/Users/jpyatachkov/.anyenv/envs/rbenv/versions/2.7.2/bin/iruby:23:in `load'",
      "/Users/jpyatachkov/.anyenv/envs/rbenv/versions/2.7.2/bin/iruby:23:in `<main>'"
     ]
    }
   ],
   "source": [
    "ee.private1"
   ]
  },
  {
   "cell_type": "markdown",
   "metadata": {},
   "source": [
    "Тем не менее, ограничение достаточно легко обходится с помощью встроенного механизма обмена сообщениями (вообще говоря, вызов метода в Ruby - это и есть отправка сообщения)."
   ]
  },
  {
   "cell_type": "code",
   "execution_count": 22,
   "metadata": {},
   "outputs": [
    {
     "name": "stdout",
     "output_type": "stream",
     "text": [
      "private1\n"
     ]
    }
   ],
   "source": [
    "ee.send(:private1)"
   ]
  },
  {
   "cell_type": "markdown",
   "metadata": {},
   "source": [
    "## Наследование "
   ]
  },
  {
   "cell_type": "code",
   "execution_count": 27,
   "metadata": {},
   "outputs": [
    {
     "data": {
      "text/plain": [
       "Object"
      ]
     },
     "execution_count": 27,
     "metadata": {},
     "output_type": "execute_result"
    }
   ],
   "source": [
    "ExampleClass.superclass # Родительский класс."
   ]
  },
  {
   "cell_type": "code",
   "execution_count": 28,
   "metadata": {},
   "outputs": [
    {
     "data": {
      "text/plain": [
       "[ExampleClass, Object, JSON::Ext::Generator::GeneratorMethods::Object, Kernel, BasicObject]"
      ]
     },
     "execution_count": 28,
     "metadata": {},
     "output_type": "execute_result"
    }
   ],
   "source": [
    "ExampleClass.ancestors # Цепочка наследования"
   ]
  },
  {
   "cell_type": "code",
   "execution_count": 29,
   "metadata": {},
   "outputs": [
    {
     "data": {
      "text/plain": [
       ":initialize"
      ]
     },
     "execution_count": 29,
     "metadata": {},
     "output_type": "execute_result"
    }
   ],
   "source": [
    "class Figure\n",
    "  attr_accessor :width, :length\n",
    "  \n",
    "  def initialize(width, length)\n",
    "    @width = width\n",
    "    @length = length\n",
    "  end\n",
    "  \n",
    "  def square\n",
    "    raise NotImplementedError, 'Method square is not implemented'\n",
    "  end\n",
    "  \n",
    "  def volume\n",
    "    raise NotImplementedError, 'Method volume is not implemented'\n",
    "  end\n",
    "end\n",
    "\n",
    "class Rectangle < Figure\n",
    "  def square\n",
    "    width * length\n",
    "  end\n",
    "end\n",
    "\n",
    "class Square < Rectangle\n",
    "  def initialize(s)\n",
    "    super(s, s)\n",
    "  end\n",
    "end"
   ]
  },
  {
   "cell_type": "code",
   "execution_count": 30,
   "metadata": {},
   "outputs": [
    {
     "data": {
      "text/plain": [
       "#<Square:0x00007f9ea38f1df0 @width=10, @length=10>"
      ]
     },
     "execution_count": 30,
     "metadata": {},
     "output_type": "execute_result"
    }
   ],
   "source": [
    "r = Rectangle.new(2, 7)\n",
    "s = Square.new(10)"
   ]
  },
  {
   "cell_type": "code",
   "execution_count": 31,
   "metadata": {},
   "outputs": [
    {
     "data": {
      "text/plain": [
       "14"
      ]
     },
     "execution_count": 31,
     "metadata": {},
     "output_type": "execute_result"
    }
   ],
   "source": [
    "r.square"
   ]
  },
  {
   "cell_type": "code",
   "execution_count": null,
   "metadata": {},
   "outputs": [
    {
     "ename": "NotImplementedError",
     "evalue": "Method volume is not implemented",
     "output_type": "error",
     "traceback": [
      "\u001b[31mNotImplementedError\u001b[0m: Method volume is not implemented",
      "<main>:13:in `volume'",
      "<main>:in `<main>'",
      "/Users/jpyatachkov/.anyenv/envs/rbenv/versions/2.7.2/lib/ruby/gems/2.7.0/gems/iruby-0.4.0/lib/iruby/backend.rb:44:in `eval'",
      "/Users/jpyatachkov/.anyenv/envs/rbenv/versions/2.7.2/lib/ruby/gems/2.7.0/gems/iruby-0.4.0/lib/iruby/backend.rb:44:in `eval'",
      "/Users/jpyatachkov/.anyenv/envs/rbenv/versions/2.7.2/lib/ruby/gems/2.7.0/gems/iruby-0.4.0/lib/iruby/backend.rb:12:in `eval'",
      "/Users/jpyatachkov/.anyenv/envs/rbenv/versions/2.7.2/lib/ruby/gems/2.7.0/gems/iruby-0.4.0/lib/iruby/kernel.rb:90:in `execute_request'",
      "/Users/jpyatachkov/.anyenv/envs/rbenv/versions/2.7.2/lib/ruby/gems/2.7.0/gems/iruby-0.4.0/lib/iruby/kernel.rb:49:in `dispatch'",
      "/Users/jpyatachkov/.anyenv/envs/rbenv/versions/2.7.2/lib/ruby/gems/2.7.0/gems/iruby-0.4.0/lib/iruby/kernel.rb:38:in `run'",
      "/Users/jpyatachkov/.anyenv/envs/rbenv/versions/2.7.2/lib/ruby/gems/2.7.0/gems/iruby-0.4.0/lib/iruby/command.rb:110:in `run_kernel'",
      "/Users/jpyatachkov/.anyenv/envs/rbenv/versions/2.7.2/lib/ruby/gems/2.7.0/gems/iruby-0.4.0/lib/iruby/command.rb:40:in `run'",
      "/Users/jpyatachkov/.anyenv/envs/rbenv/versions/2.7.2/lib/ruby/gems/2.7.0/gems/iruby-0.4.0/bin/iruby:5:in `<top (required)>'",
      "/Users/jpyatachkov/.anyenv/envs/rbenv/versions/2.7.2/bin/iruby:23:in `load'",
      "/Users/jpyatachkov/.anyenv/envs/rbenv/versions/2.7.2/bin/iruby:23:in `<main>'"
     ]
    }
   ],
   "source": [
    "r.volume"
   ]
  },
  {
   "cell_type": "code",
   "execution_count": 33,
   "metadata": {},
   "outputs": [
    {
     "data": {
      "text/plain": [
       "100"
      ]
     },
     "execution_count": 33,
     "metadata": {},
     "output_type": "execute_result"
    }
   ],
   "source": [
    "s.square"
   ]
  },
  {
   "cell_type": "markdown",
   "metadata": {},
   "source": [
    "В Ruby **используется ОДИНОЧНАЯ МОДЕЛЬ НАСЛЕДОВАНИЯ**."
   ]
  },
  {
   "cell_type": "markdown",
   "metadata": {},
   "source": [
    "## Агрегация и композиция "
   ]
  },
  {
   "cell_type": "markdown",
   "metadata": {},
   "source": [
    "И агрегация, и композиция - это конструирование объекта из нескольких. Иными словами, вы не строите иерархию с кучей методов и ничего не примешиваете, а просто делаете специальный объект для какой-то специальной цели и используете его внутри других объектов.\n",
    "\n",
    "Классический пример - логирование. Вряд ли имеет хоть какой-то смысл наследоваться от логгера или шарить код логирования через примесь. Помимо концептуальной некорректности абстракции это еще и сложно тестировать и поддерживать.\n",
    "\n",
    "Посмотрим, как можно реализовать агрегацию и композицию на примере логера."
   ]
  },
  {
   "cell_type": "code",
   "execution_count": 34,
   "metadata": {},
   "outputs": [
    {
     "data": {
      "text/plain": [
       ":log"
      ]
     },
     "execution_count": 34,
     "metadata": {},
     "output_type": "execute_result"
    }
   ],
   "source": [
    "class MyLogger\n",
    "  def log(message)\n",
    "    puts \"[#{Time.now.strftime(\"%Y-%m-%d %H:%M:%S\")}] #{message}\"\n",
    "  end\n",
    "end"
   ]
  },
  {
   "cell_type": "code",
   "execution_count": 35,
   "metadata": {},
   "outputs": [
    {
     "name": "stdout",
     "output_type": "stream",
     "text": [
      "[2021-11-11 12:16:55] Привет\n"
     ]
    }
   ],
   "source": [
    "MyLogger.new.log('Привет')"
   ]
  },
  {
   "cell_type": "markdown",
   "metadata": {},
   "source": [
    "Посмотрим, что можно сделать с использованием композиции:"
   ]
  },
  {
   "cell_type": "code",
   "execution_count": 36,
   "metadata": {},
   "outputs": [
    {
     "data": {
      "text/plain": [
       ":logout"
      ]
     },
     "execution_count": 36,
     "metadata": {},
     "output_type": "execute_result"
    }
   ],
   "source": [
    "class UserServiceComposition\n",
    "  \n",
    "  class << self\n",
    "    def login\n",
    "      new.send :login\n",
    "    end\n",
    "    \n",
    "    def logout\n",
    "      new.send :logout\n",
    "    end\n",
    "  end\n",
    "  \n",
    "  private\n",
    "  \n",
    "  attr_reader :logger\n",
    "  \n",
    "  def initialize\n",
    "    @logger = MyLogger.new\n",
    "  end\n",
    "  \n",
    "  def login\n",
    "    logger.log('User login')\n",
    "  end\n",
    "  \n",
    "  def logout\n",
    "    logger.log('User logout')\n",
    "  end\n",
    "  \n",
    "end"
   ]
  },
  {
   "cell_type": "code",
   "execution_count": 37,
   "metadata": {},
   "outputs": [
    {
     "name": "stdout",
     "output_type": "stream",
     "text": [
      "[2021-11-11 12:22:06] User login\n"
     ]
    }
   ],
   "source": [
    "UserServiceComposition.login"
   ]
  },
  {
   "cell_type": "code",
   "execution_count": 38,
   "metadata": {},
   "outputs": [
    {
     "name": "stdout",
     "output_type": "stream",
     "text": [
      "[2021-11-11 12:22:07] User logout\n"
     ]
    }
   ],
   "source": [
    "UserServiceComposition.logout"
   ]
  },
  {
   "cell_type": "markdown",
   "metadata": {},
   "source": [
    "Класс **сам управляет своими зависимостями**."
   ]
  },
  {
   "cell_type": "markdown",
   "metadata": {},
   "source": [
    "То же самое с использованием агрегации:"
   ]
  },
  {
   "cell_type": "code",
   "execution_count": 64,
   "metadata": {},
   "outputs": [
    {
     "data": {
      "text/plain": [
       ":get"
      ]
     },
     "execution_count": 64,
     "metadata": {},
     "output_type": "execute_result"
    }
   ],
   "source": [
    "class UserServiceAggregation\n",
    "  def initialize(logger)\n",
    "    @logger = logger\n",
    "  end\n",
    "  \n",
    "  def login\n",
    "    logger.log('User login')\n",
    "  end\n",
    "  \n",
    "  def logout\n",
    "    logger.log('User logout')\n",
    "  end\n",
    "  \n",
    "  private\n",
    "  \n",
    "  attr_reader :logger\n",
    "end\n",
    "\n",
    "class DependencyInjector\n",
    "  @instance = new\n",
    "\n",
    "  private_class_method :new\n",
    "\n",
    "  def initialize\n",
    "    @dependecies = Hash.new\n",
    "    @dependecies[MyLogger] = MyLogger.new\n",
    "    @dependecies[UserServiceAggregation] = UserServiceAggregation.new(@dependecies[MyLogger])\n",
    "  end\n",
    "  \n",
    "  attr_reader :dependecies\n",
    "  \n",
    "  public\n",
    "  \n",
    "  class << self    \n",
    "    def get(class_name)\n",
    "      instance.dependecies[class_name]\n",
    "    end\n",
    "  end\n",
    "end"
   ]
  },
  {
   "cell_type": "code",
   "execution_count": 65,
   "metadata": {},
   "outputs": [
    {
     "data": {
      "text/plain": [
       "#<UserServiceAggregation:0x00007fc8828b8e20 @logger=#<MyLogger:0x00007fc8828b8e48>>"
      ]
     },
     "execution_count": 65,
     "metadata": {},
     "output_type": "execute_result"
    }
   ],
   "source": [
    "service = DependencyInjector.get(UserServiceAggregation)"
   ]
  },
  {
   "cell_type": "code",
   "execution_count": 66,
   "metadata": {},
   "outputs": [
    {
     "name": "stdout",
     "output_type": "stream",
     "text": [
      "[2020-10-28 11:09:19] User login\n"
     ]
    }
   ],
   "source": [
    "service.login"
   ]
  },
  {
   "cell_type": "markdown",
   "metadata": {},
   "source": [
    "Зависимостями **управляет кто-то извне**.\n",
    "\n",
    "В конечном счете агрегация удобнее, потому что позволяет легко подменять реальные классы (это ведь может быть не только логер, но и сервис для работы с БД, например) на какие-то другие.\n",
    "\n",
    "Если вы соблюдаете интерфейс, вы можете:\n",
    "\n",
    "* перейти с одного источника данных на другой;\n",
    "* сделать \"мок\" - более простую реализацию, например, для окружения разработчика или пока ждете реализации сервисов со стороны коллег;\n",
    "* легко тестировать."
   ]
  },
  {
   "cell_type": "markdown",
   "metadata": {},
   "source": [
    "## Примеси"
   ]
  },
  {
   "cell_type": "markdown",
   "metadata": {},
   "source": [
    "Наследование как концепт хорошо в том случае, когда наследник - это **более специфичная версия родителя**, иногда оно **не нужно**.\n",
    "\n",
    "Одним из способов получить чистую архитектуру является [выбор в пользу композиции перед наследованием](https://en.wikipedia.org/wiki/Composition_over_inheritance). Иными словами вы:\n",
    "\n",
    "1. Разбиваете поведение большого и сложного класса по нескольким простым, каждый из которых выполняет какую-то одну функцию.\n",
    "2. Не наследуетесь от этих классов, а собираете их внутри своего класса."
   ]
  },
  {
   "cell_type": "markdown",
   "metadata": {},
   "source": [
    "Представим себе, что мы создаем библиотеку песен. Мы хотим, чтобы у нас были классы, отвечающие за сборник, песню, исполнителя. Помимо этого, мы хотим сделать так, чтобы можно было сравнивать песни между собой, сортировать их, а также чтобы у нас была возможность отладки. "
   ]
  },
  {
   "cell_type": "code",
   "execution_count": 39,
   "metadata": {},
   "outputs": [
    {
     "data": {
      "text/plain": [
       ":from_song_list"
      ]
     },
     "execution_count": 39,
     "metadata": {},
     "output_type": "execute_result"
    }
   ],
   "source": [
    "module Debug\n",
    "  def who_am_i\n",
    "    \"#{self.class.name} (\\##{object_id}): #{to_s}\"\n",
    "  end\n",
    "end\n",
    "\n",
    "module IsArray\n",
    "  def as_array value\n",
    "    value.kind_of?(Array) ? value : [value]\n",
    "  end\n",
    "end\n",
    "\n",
    "class Song\n",
    "  include Comparable, Debug, IsArray\n",
    "  \n",
    "  attr_accessor :title, :artists, :duration_sec, :text\n",
    "  \n",
    "  def initialize(title, artists, duration_sec, text=nil)\n",
    "    @title = title\n",
    "    @artists = as_array(artists)\n",
    "    @duration_sec = duration_sec\n",
    "    @text = text\n",
    "  end\n",
    "  \n",
    "  def artists=(v)\n",
    "    @artists = as_array(v)\n",
    "  end\n",
    "  \n",
    "  def inspect\n",
    "    \"#{title} (#{artists.join(', ')} - #{duration_sec} sec.)\"\n",
    "  end\n",
    "  \n",
    "  def <=>(other)\n",
    "    duration_sec <=> other.duration_sec\n",
    "  end\n",
    "end\n",
    "\n",
    "class Album\n",
    "  include Debug, IsArray\n",
    "  \n",
    "  attr_accessor :title, :artists, :year, :songs\n",
    "  \n",
    "  def initialize(title, artists, year, songs=[])\n",
    "    @title = title\n",
    "    @artists = as_array(artists)\n",
    "    @year = year\n",
    "    @songs = as_array(songs)\n",
    "  end\n",
    "  \n",
    "  def artists=(v)\n",
    "    @artists = as_array(v)\n",
    "  end\n",
    "  \n",
    "  def songs=(v)\n",
    "    @songs = as_array(v)\n",
    "  end\n",
    "  \n",
    "  def print\n",
    "    puts \"ALBUM #{title}\"\n",
    "    puts \"BY #{artists.join(', ')}\"\n",
    "    puts year.to_s\n",
    "    puts songs\n",
    "      .map(&:inspect)\n",
    "      .each_with_index\n",
    "      .map { |name, idx| \"#{idx + 1}. #{name}\" }\n",
    "      .join(\"\\n\")\n",
    "  end\n",
    "  \n",
    "  def sorted_songs\n",
    "    songs.sort\n",
    "  end\n",
    "  \n",
    "  class << self\n",
    "    def from_song_list(title, artists, year, songs)\n",
    "      album = new title, artists, year\n",
    "      album.songs = songs.map do |song_info|\n",
    "        Song.new(\n",
    "          song_info[:title],\n",
    "          song_info[:artists] || album.artists,\n",
    "          song_info[:duration_sec],\n",
    "          song_info[:text]\n",
    "        )\n",
    "      end\n",
    "      album\n",
    "    end\n",
    "  end\n",
    "end"
   ]
  },
  {
   "cell_type": "code",
   "execution_count": 40,
   "metadata": {},
   "outputs": [
    {
     "name": "stdout",
     "output_type": "stream",
     "text": [
      "ALBUM Diamonds Deluxe\n",
      "BY Elthon John\n",
      "2017\n",
      "1. Your Song (Elthon John - 243 sec.)\n",
      "2. Rocket Man (I Think It's Going To Be A Long Long Time) (Elthon John - 282 sec.)\n",
      "3. Goodbye Yellow Brick Road (Elthon John - 192 sec.)\n",
      "4. Don't Go Breaking My Heart (Elton John, Kiki Dee - 266 sec.)\n"
     ]
    }
   ],
   "source": [
    "album = Album.from_song_list(\n",
    "  'Diamonds Deluxe',\n",
    "  ['Elthon John'],\n",
    "  2017,\n",
    "  [\n",
    "    {\n",
    "      title: 'Your Song',\n",
    "      duration_sec: 243\n",
    "\n",
    "    },\n",
    "    {\n",
    "      title: \"Rocket Man (I Think It's Going To Be A Long Long Time)\",\n",
    "      duration_sec: 282\n",
    "    },\n",
    "    {\n",
    "      title: 'Goodbye Yellow Brick Road',\n",
    "      duration_sec: 192,\n",
    "      text: <<-eos\n",
    "When are you gonna come down?\n",
    "When are you going to land?\n",
    "I should have stayed on the farm\n",
    "I should’ve listened to my old man\n",
    "You cannot hold me forever\n",
    "I didn’t sign up with you\n",
    "I’m not a present for your friends to open\n",
    "This girl’s to young to be singing\n",
    "The blues\n",
    "So goodbye yellow brick road\n",
    "Where the dogs of society howl\n",
    "You can’t plant me in your penthouse\n",
    "I’m going back to my plough\n",
    "Back to the howlin' old owl in the woods\n",
    "Hunting the horny black toad\n",
    "Oh I’ve finally decided my future lies\n",
    "Beyond the yellow brick road\n",
    "What do you think you’ll do then?\n",
    "They’ll probably shoot down your plane\n",
    "It’ll take you a couple vodka and tonics\n",
    "To set you on your feet again\n",
    "Maybe you’ll get a replacement\n",
    "There’s plenty like me to be found\n",
    "Mongrels who ain’t got a penny\n",
    "Sniffing for tidbits like you\n",
    "So goodbye yellow brick road\n",
    "Where the dogs of society howl\n",
    "You can’t plant me in your penthouse\n",
    "I’m going back to my plough\n",
    "Back to the howlin' old owl in the woods\n",
    "Hunting the horny black toad\n",
    "Oh I’ve finally decided my future lies\n",
    "Beyond the yellow brick road\n",
    "eos\n",
    "    },\n",
    "    {\n",
    "      title: \"Don't Go Breaking My Heart\",\n",
    "      artists: ['Elton John', 'Kiki Dee'],\n",
    "      duration_sec: 266\n",
    "    }\n",
    "  ]\n",
    ")\n",
    "\n",
    "album.print"
   ]
  },
  {
   "cell_type": "code",
   "execution_count": 41,
   "metadata": {},
   "outputs": [
    {
     "data": {
      "text/plain": [
       "[Goodbye Yellow Brick Road (Elthon John - 192 sec.), Your Song (Elthon John - 243 sec.), Don't Go Breaking My Heart (Elton John, Kiki Dee - 266 sec.), Rocket Man (I Think It's Going To Be A Long Long Time) (Elthon John - 282 sec.)]"
      ]
     },
     "execution_count": 41,
     "metadata": {},
     "output_type": "execute_result"
    }
   ],
   "source": [
    "album.sorted_songs"
   ]
  },
  {
   "cell_type": "code",
   "execution_count": 43,
   "metadata": {},
   "outputs": [
    {
     "data": {
      "text/plain": [
       "\"Song (#1320): #<Song:0x00007f9ea60e9ce0>\""
      ]
     },
     "execution_count": 43,
     "metadata": {},
     "output_type": "execute_result"
    }
   ],
   "source": [
    "album.songs.first.who_am_i"
   ]
  },
  {
   "cell_type": "code",
   "execution_count": 45,
   "metadata": {},
   "outputs": [
    {
     "data": {
      "text/plain": [
       "[\"Elthon John\"]"
      ]
     },
     "execution_count": 45,
     "metadata": {},
     "output_type": "execute_result"
    }
   ],
   "source": [
    "album.artists = ['Elthon John']\n",
    "album.artists"
   ]
  },
  {
   "cell_type": "markdown",
   "metadata": {},
   "source": [
    "Примеси - это способ **горизонтально распространять код** и их нужно предпочитать наследованию когда это возможно.\n",
    "\n",
    "Чем еще можно заменить наследование?"
   ]
  },
  {
   "cell_type": "markdown",
   "metadata": {},
   "source": [
    "## Enumerable, Enumerator "
   ]
  },
  {
   "cell_type": "markdown",
   "metadata": {},
   "source": [
    "`Enumerable` - это примесь, в которой реализована куча полезных методов по работе с коллекциями. Единственное, что нужно примеси - это метод для итерированию по коллекции, по умолчанию - `each`. Самое смешное, что объект, к которому мы примешиваем `Enumerable`, строго говоря не должен быть именно коллекцией (массивом, например)."
   ]
  },
  {
   "cell_type": "code",
   "execution_count": 46,
   "metadata": {},
   "outputs": [
    {
     "data": {
      "text/plain": [
       ":each"
      ]
     },
     "execution_count": 46,
     "metadata": {},
     "output_type": "execute_result"
    }
   ],
   "source": [
    "class MyCollection\n",
    "  include Enumerable\n",
    "  \n",
    "  attr_reader :name, :surname\n",
    "  \n",
    "  def initialize\n",
    "    @name = 'Иван'\n",
    "    @surname = 'Иванов'\n",
    "  end\n",
    "  \n",
    "  def each\n",
    "    yield name\n",
    "    yield surname\n",
    "  end\n",
    "end"
   ]
  },
  {
   "cell_type": "code",
   "execution_count": 47,
   "metadata": {},
   "outputs": [
    {
     "data": {
      "text/plain": [
       "[\"Иван\", \"Иванов\"]"
      ]
     },
     "execution_count": 47,
     "metadata": {},
     "output_type": "execute_result"
    }
   ],
   "source": [
    "MyCollection.new.map { |x| x }"
   ]
  },
  {
   "cell_type": "code",
   "execution_count": 50,
   "metadata": {},
   "outputs": [
    {
     "data": {
      "text/plain": [
       "[\"Иван\"]"
      ]
     },
     "execution_count": 50,
     "metadata": {},
     "output_type": "execute_result"
    }
   ],
   "source": [
    "MyCollection.new.filter { |x| x == 'Иван' }"
   ]
  },
  {
   "cell_type": "markdown",
   "metadata": {},
   "source": [
    "`Enumerator` - это то же самое, что и `Enumerable`, только его можно создавать как объект (потому что это и есть объект)."
   ]
  },
  {
   "cell_type": "code",
   "execution_count": 52,
   "metadata": {},
   "outputs": [
    {
     "data": {
      "text/plain": [
       "[\"Иван\"]"
      ]
     },
     "execution_count": 52,
     "metadata": {},
     "output_type": "execute_result"
    }
   ],
   "source": [
    "e = Enumerator.new do |yielder|\n",
    "  yielder.yield 'Иван'\n",
    "  yielder.yield 'Иванов'\n",
    "end\n",
    "\n",
    "e.take(1)"
   ]
  },
  {
   "cell_type": "markdown",
   "metadata": {},
   "source": [
    "Пропробуем решить задачу\n",
    "\n",
    "Найти первый член последовательности `y = n / (n**2 + 2)`, для которого y < ξ. Определить, как изменяется число итераций при изменении\n",
    "точности."
   ]
  },
  {
   "cell_type": "code",
   "execution_count": 53,
   "metadata": {},
   "outputs": [
    {
     "data": {
      "text/plain": [
       "#<Enumerator: #<Enumerator::Generator:0x00007f9ea98ab250>:each>"
      ]
     },
     "execution_count": 53,
     "metadata": {},
     "output_type": "execute_result"
    }
   ],
   "source": [
    "eps = 0.001\n",
    "\n",
    "enum = Enumerator.new do |yielder|\n",
    "  n = 1\n",
    "  \n",
    "  loop do\n",
    "    yielder << n / (n**2 + 2).to_f\n",
    "    n += 1\n",
    "  end\n",
    "end"
   ]
  },
  {
   "cell_type": "code",
   "execution_count": 54,
   "metadata": {},
   "outputs": [
    {
     "data": {
      "text/plain": [
       "0.000999998000004"
      ]
     },
     "execution_count": 54,
     "metadata": {},
     "output_type": "execute_result"
    }
   ],
   "source": [
    "enum.find { |y| y < eps }"
   ]
  },
  {
   "cell_type": "markdown",
   "metadata": {},
   "source": [
    "## Ленивые вычисления "
   ]
  },
  {
   "cell_type": "markdown",
   "metadata": {},
   "source": [
    "Классический пример.\n",
    "\n",
    "Просто 5 чисел:"
   ]
  },
  {
   "cell_type": "code",
   "execution_count": 55,
   "metadata": {},
   "outputs": [
    {
     "data": {
      "text/plain": [
       "[1, 2, 3, 4, 5]"
      ]
     },
     "execution_count": 55,
     "metadata": {},
     "output_type": "execute_result"
    }
   ],
   "source": [
    "(1..Float::INFINITY).take(5)"
   ]
  },
  {
   "cell_type": "markdown",
   "metadata": {},
   "source": [
    "Пять четных чисел:"
   ]
  },
  {
   "cell_type": "code",
   "execution_count": null,
   "metadata": {},
   "outputs": [
    {
     "ename": "Interrupt",
     "evalue": "",
     "output_type": "error",
     "traceback": [
      "\u001b[31mInterrupt\u001b[0m: ",
      "<main>:in `<=>'",
      "<main>:in `each'",
      "<main>:in `filter'",
      "<main>:in `<main>'",
      "/Users/jpyatachkov/.anyenv/envs/rbenv/versions/2.7.2/lib/ruby/gems/2.7.0/gems/iruby-0.4.0/lib/iruby/backend.rb:44:in `eval'",
      "/Users/jpyatachkov/.anyenv/envs/rbenv/versions/2.7.2/lib/ruby/gems/2.7.0/gems/iruby-0.4.0/lib/iruby/backend.rb:44:in `eval'",
      "/Users/jpyatachkov/.anyenv/envs/rbenv/versions/2.7.2/lib/ruby/gems/2.7.0/gems/iruby-0.4.0/lib/iruby/backend.rb:12:in `eval'",
      "/Users/jpyatachkov/.anyenv/envs/rbenv/versions/2.7.2/lib/ruby/gems/2.7.0/gems/iruby-0.4.0/lib/iruby/kernel.rb:90:in `execute_request'",
      "/Users/jpyatachkov/.anyenv/envs/rbenv/versions/2.7.2/lib/ruby/gems/2.7.0/gems/iruby-0.4.0/lib/iruby/kernel.rb:49:in `dispatch'",
      "/Users/jpyatachkov/.anyenv/envs/rbenv/versions/2.7.2/lib/ruby/gems/2.7.0/gems/iruby-0.4.0/lib/iruby/kernel.rb:38:in `run'",
      "/Users/jpyatachkov/.anyenv/envs/rbenv/versions/2.7.2/lib/ruby/gems/2.7.0/gems/iruby-0.4.0/lib/iruby/command.rb:110:in `run_kernel'",
      "/Users/jpyatachkov/.anyenv/envs/rbenv/versions/2.7.2/lib/ruby/gems/2.7.0/gems/iruby-0.4.0/lib/iruby/command.rb:40:in `run'",
      "/Users/jpyatachkov/.anyenv/envs/rbenv/versions/2.7.2/lib/ruby/gems/2.7.0/gems/iruby-0.4.0/bin/iruby:5:in `<top (required)>'",
      "/Users/jpyatachkov/.anyenv/envs/rbenv/versions/2.7.2/bin/iruby:23:in `load'",
      "/Users/jpyatachkov/.anyenv/envs/rbenv/versions/2.7.2/bin/iruby:23:in `<main>'"
     ]
    }
   ],
   "source": [
    "(1..Float::INFINITY).filter(&:even?).take(5)"
   ]
  },
  {
   "cell_type": "markdown",
   "metadata": {},
   "source": [
    "Пять ленивых четных чисел"
   ]
  },
  {
   "cell_type": "code",
   "execution_count": 57,
   "metadata": {},
   "outputs": [
    {
     "data": {
      "text/plain": [
       "[2, 4, 6, 8, 10]"
      ]
     },
     "execution_count": 57,
     "metadata": {},
     "output_type": "execute_result"
    }
   ],
   "source": [
    "(1..Float::INFINITY).lazy.filter(&:even?).take(5).to_a"
   ]
  },
  {
   "cell_type": "markdown",
   "metadata": {},
   "source": [
    "Как это работает"
   ]
  },
  {
   "cell_type": "code",
   "execution_count": 58,
   "metadata": {},
   "outputs": [
    {
     "name": "stdout",
     "output_type": "stream",
     "text": [
      "Map 1 1\n",
      "Map 1 2\n",
      "Map 1 3\n",
      "Map 1 4\n",
      "Map 1 5\n",
      "Map 1 6\n",
      "Map 1 7\n",
      "Map 1 8\n",
      "Map 1 9\n",
      "Map 1 10\n",
      "Map 2 2\n",
      "Map 2 3\n",
      "Map 2 4\n",
      "Map 2 5\n",
      "Map 2 6\n",
      "Map 2 7\n",
      "Map 2 8\n",
      "Map 2 9\n",
      "Map 2 10\n",
      "Map 2 11\n"
     ]
    },
    {
     "data": {
      "text/plain": [
       "[4, 6, 8, 10, 12, 14, 16, 18, 20, 22]"
      ]
     },
     "execution_count": 58,
     "metadata": {},
     "output_type": "execute_result"
    }
   ],
   "source": [
    "(1..10).map do |x|\n",
    "  puts \"Map 1 #{x}\"\n",
    "  x + 1\n",
    "end.map do |x|\n",
    "  puts \"Map 2 #{x}\"\n",
    "  x * 2\n",
    "end"
   ]
  },
  {
   "cell_type": "code",
   "execution_count": 59,
   "metadata": {},
   "outputs": [
    {
     "name": "stdout",
     "output_type": "stream",
     "text": [
      "Map 1 1\n",
      "Map 2 2\n",
      "Map 1 2\n",
      "Map 2 3\n",
      "Map 1 3\n",
      "Map 2 4\n",
      "Map 1 4\n",
      "Map 2 5\n",
      "Map 1 5\n",
      "Map 2 6\n",
      "Map 1 6\n",
      "Map 2 7\n",
      "Map 1 7\n",
      "Map 2 8\n",
      "Map 1 8\n",
      "Map 2 9\n",
      "Map 1 9\n",
      "Map 2 10\n",
      "Map 1 10\n",
      "Map 2 11\n"
     ]
    },
    {
     "data": {
      "text/plain": [
       "[4, 6, 8, 10, 12, 14, 16, 18, 20, 22]"
      ]
     },
     "execution_count": 59,
     "metadata": {},
     "output_type": "execute_result"
    }
   ],
   "source": [
    "(1..10).lazy.map do |x|\n",
    "  puts \"Map 1 #{x}\"\n",
    "  x + 1\n",
    "end.map do |x|\n",
    "  puts \"Map 2 #{x}\"\n",
    "  x * 2\n",
    "end.force"
   ]
  },
  {
   "cell_type": "markdown",
   "metadata": {},
   "source": [
    "Иными словами, `lazy` прокидывает каждое значение сразу через все блоки, а обычный энумератор - \"накапливает\" у начала каждого блока."
   ]
  },
  {
   "cell_type": "markdown",
   "metadata": {},
   "source": [
    "## Proc, блок и lambda"
   ]
  },
  {
   "cell_type": "markdown",
   "metadata": {},
   "source": [
    "В третьей часть шестой лабораторной работы вам необходимо сделать так, чтобы некий кусок кода (в зависимости от задания) мог быть передан и как блок, и как Proc/lambda.\n",
    "\n",
    "Попробуем решить такую задачу\n",
    "\n",
    "Составить метод scale отыскания масштаба графического (выведенного в текстовом режиме) изображения функции f(x) на экране размером B единиц растра по формуле `M = B / max(f(x))`. В основной программе использовать метод для отыскания масштаба функций `x · sin(x)` и `tg(x)`, при `−2 < x < 2`. Реализовать вызов метода двумя способами: в виде передаваемого lambda-выражения и в виде блока."
   ]
  },
  {
   "cell_type": "markdown",
   "metadata": {},
   "source": [
    "Теперь эталонное решение будет таким"
   ]
  },
  {
   "cell_type": "code",
   "execution_count": 107,
   "metadata": {},
   "outputs": [
    {
     "data": {
      "text/plain": [
       ":find_scale"
      ]
     },
     "execution_count": 107,
     "metadata": {},
     "output_type": "execute_result"
    }
   ],
   "source": [
    "def find_scale(left, right, b)\n",
    "  max = (left..right).step(0.01).map { |x| yield x }.max\n",
    "  b / max if max != 0 || nil\n",
    "end"
   ]
  },
  {
   "cell_type": "markdown",
   "metadata": {},
   "source": [
    "Вызов с использованием блока"
   ]
  },
  {
   "cell_type": "code",
   "execution_count": 108,
   "metadata": {},
   "outputs": [
    {
     "data": {
      "text/plain": [
       "5.4987508514730825"
      ]
     },
     "execution_count": 108,
     "metadata": {},
     "output_type": "execute_result"
    }
   ],
   "source": [
    "find_scale(-2, 2, 10) { |x| Math.sin(x) * x }"
   ]
  },
  {
   "cell_type": "markdown",
   "metadata": {},
   "source": [
    "Вызов с использованием `proc`"
   ]
  },
  {
   "cell_type": "code",
   "execution_count": 109,
   "metadata": {},
   "outputs": [
    {
     "data": {
      "text/plain": [
       "5.4987508514730825"
      ]
     },
     "execution_count": 109,
     "metadata": {},
     "output_type": "execute_result"
    }
   ],
   "source": [
    "find_scale(-2, 2, 10, &proc { |x| Math.sin(x) * x })"
   ]
  },
  {
   "cell_type": "markdown",
   "metadata": {},
   "source": [
    "Все это работает через один и тот же `yield`, настолько быстро, насколько это возможно, и максимально идиоматично."
   ]
  }
 ],
 "metadata": {
  "kernelspec": {
   "display_name": "Ruby 2.7.2",
   "language": "ruby",
   "name": "ruby"
  },
  "language_info": {
   "file_extension": ".rb",
   "mimetype": "application/x-ruby",
   "name": "ruby",
   "version": "2.7.2"
  }
 },
 "nbformat": 4,
 "nbformat_minor": 2
}
